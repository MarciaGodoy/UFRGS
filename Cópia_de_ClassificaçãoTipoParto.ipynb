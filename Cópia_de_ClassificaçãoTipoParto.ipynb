{
  "cells": [
    {
      "cell_type": "markdown",
      "metadata": {
        "id": "view-in-github",
        "colab_type": "text"
      },
      "source": [
        "<a href=\"https://colab.research.google.com/github/MarciaGodoy/UFRGS/blob/main/C%C3%B3pia_de_Classifica%C3%A7%C3%A3oTipoParto.ipynb\" target=\"_parent\"><img src=\"https://colab.research.google.com/assets/colab-badge.svg\" alt=\"Open In Colab\"/></a>"
      ]
    },
    {
      "cell_type": "markdown",
      "metadata": {
        "id": "FKUO7icRy0Yd"
      },
      "source": [
        "# Machine Learning aplicado à Saude\n",
        "\n",
        "\n",
        "---\n",
        "\n",
        "\n",
        "\n",
        "\n",
        "# Parte I - Web Scrapping - Banco de dados 1"
      ]
    },
    {
      "cell_type": "markdown",
      "source": [
        "OBJETIVO: identificar as caracteristicas(features) associadas ao tipo de parto e/ou baixo peso ao nascer. \n",
        "METODOLOGIA:\n",
        "a) Bases de dados utilizadas: \n",
        "1) O Sistema de Informações sobre Nascidos Vivos (SINASC) foi implantado oficialmente a partir de 1990, com o objetivo de coletar dados sobre os nascimentos ocorridos em todo o território nacional e fornece os microdados de todos os nascimentos. Os dados são desidentificados para não permitir a identificação da parturiente e recem-nascido. \n",
        "2) Cadastro Nacional de Estabelecimentos de Saúde (CNES)\n",
        "\n",
        "b) Métodos de estimação: regressão logistica, gradiente boosting, KNN"
      ],
      "metadata": {
        "id": "DTBP8MFeipn-"
      }
    },
    {
      "cell_type": "code",
      "source": [
        "# PACOTE UTILIZADO PARA DOWNLOAD E PRe-PROCESSAMENTO DE DADOS\n",
        "# \"Microdatasus: pacote para download e pre-processamento de microdados do Departamento de Informatica do SUS (DATASUS)\"\n",
        "#cff-version: 1.2.0\n",
        "#authors:\n",
        "#- family-names: \"Saldanha\"\n",
        "#  given-names: \"Raphael de Freitas\"\n",
        "#  orcid: \"http://orcid.org/0000-0003-0652-8466\"\n",
        "#- family-names: \"Bastos\"\n",
        "#  given-names: \"Ronaldo Rocha\"\n",
        "#  orcid: \"http://orcid.org/0000-0001-9597-5967\"\n",
        "#- family-names: \"Barcellos\"\n",
        "#  given-names: \"Christovam\"\n",
        "#  orcid: \"http://orcid.org/0000-0002-1161-2753\"\n",
        "#title: \"Microdatasus: pacote para download e pre-processamento de microdados do Departamento de Informatica do SUS (DATASUS)\"\n",
        "#version: 1.0.0\n",
        "#doi: 10.1590/0102-311X00032419\n",
        "#date-released: 2019-09-16\n",
        "#url: \"http://ref.scielo.org/dhcq3y\"\n",
        "  "
      ],
      "metadata": {
        "id": "L-kBapVxlo_g"
      },
      "execution_count": 19,
      "outputs": []
    },
    {
      "cell_type": "markdown",
      "source": [
        "Fonte: DATASUS\n",
        "Base de Dados: SINASC - Sistema de Informações sobre Nascidos Vivos\n",
        "anos de análise: 2018-2020\n",
        "Unidade territorial analisada: PORTO ALEGRE"
      ],
      "metadata": {
        "id": "yqR1ovthh0El"
      }
    },
    {
      "cell_type": "code",
      "source": [
        "###Rotina em R\n",
        "####NAO USE ACENTOS\n",
        "##############################  INICIAL  #############################################\n",
        "#definindo diretorio\n",
        "\n",
        "#getwd()\n",
        "#setwd(\"~/machine learning\")\n",
        "\n",
        "# limpando a memoria\n",
        "#rm(list=ls())\n",
        "\n",
        "#library(usethis)\n",
        "#usethis::use_github()\n",
        "#usethis::use_readme_md()\n",
        "\n",
        "# set the user.name and user.email locally, i.e. for current repo/project\n",
        "#use_git_config(\n",
        "#  user.name = \"MarciaGodoy\",\n",
        "#  user.email = \"marciargodoy@hotmail.com\",\n",
        "#)"
      ],
      "metadata": {
        "id": "QnV7ss4yhmHo"
      },
      "execution_count": 20,
      "outputs": []
    },
    {
      "cell_type": "markdown",
      "metadata": {
        "id": "iQN-a_kuYUzl"
      },
      "source": [
        "#### Instalando e importando bibliotecas necessárias"
      ]
    },
    {
      "cell_type": "code",
      "source": [
        "# activate R magic\n",
        "%load_ext rpy2.ipython"
      ],
      "metadata": {
        "colab": {
          "base_uri": "https://localhost:8080/"
        },
        "id": "7ouypuvqsXjs",
        "outputId": "0056eb5e-b6ee-4aeb-a584-91cbd3352af2"
      },
      "execution_count": 21,
      "outputs": [
        {
          "output_type": "stream",
          "name": "stdout",
          "text": [
            "The rpy2.ipython extension is already loaded. To reload it, use:\n",
            "  %reload_ext rpy2.ipython\n"
          ]
        }
      ]
    },
    {
      "cell_type": "code",
      "source": [
        "\n",
        "%%R\n",
        "x <- 42\n",
        "print(x)"
      ],
      "metadata": {
        "colab": {
          "base_uri": "https://localhost:8080/"
        },
        "id": "_WLWZjhOsyNn",
        "outputId": "795bf78f-02a8-4613-bf05-e2902762369c"
      },
      "execution_count": 22,
      "outputs": [
        {
          "output_type": "stream",
          "name": "stdout",
          "text": [
            "[1] 42\n"
          ]
        }
      ]
    },
    {
      "cell_type": "code",
      "execution_count": 23,
      "metadata": {
        "id": "kmBqxITFYUzm",
        "colab": {
          "base_uri": "https://localhost:8080/",
          "height": 235
        },
        "outputId": "8f903a0a-9740-4dfe-b1f7-3da577560997"
      },
      "outputs": [
        {
          "output_type": "error",
          "ename": "NameError",
          "evalue": "ignored",
          "traceback": [
            "\u001b[0;31m---------------------------------------------------------------------------\u001b[0m",
            "\u001b[0;31mNameError\u001b[0m                                 Traceback (most recent call last)",
            "\u001b[0;32m<ipython-input-23-b4f2dc4913c0>\u001b[0m in \u001b[0;36m<module>\u001b[0;34m\u001b[0m\n\u001b[1;32m      1\u001b[0m \u001b[0;31m##INSTALAR PACOTES\u001b[0m\u001b[0;34m\u001b[0m\u001b[0;34m\u001b[0m\u001b[0;34m\u001b[0m\u001b[0m\n\u001b[0;32m----> 2\u001b[0;31m \u001b[0minstall\u001b[0m\u001b[0;34m.\u001b[0m\u001b[0mpackages\u001b[0m\u001b[0;34m(\u001b[0m\u001b[0;34m\"read.dbc\"\u001b[0m\u001b[0;34m)\u001b[0m\u001b[0;34m\u001b[0m\u001b[0;34m\u001b[0m\u001b[0m\n\u001b[0m\u001b[1;32m      3\u001b[0m \u001b[0minstall\u001b[0m\u001b[0;34m.\u001b[0m\u001b[0mpackages\u001b[0m\u001b[0;34m(\u001b[0m\u001b[0;34m\"devtools\"\u001b[0m\u001b[0;34m)\u001b[0m\u001b[0;34m\u001b[0m\u001b[0;34m\u001b[0m\u001b[0m\n\u001b[1;32m      4\u001b[0m \u001b[0;31m#devtools::install_github(\"rfsaldanha/microdatasus\")\u001b[0m\u001b[0;34m\u001b[0m\u001b[0;34m\u001b[0m\u001b[0;34m\u001b[0m\u001b[0m\n\u001b[1;32m      5\u001b[0m \u001b[0minstall\u001b[0m\u001b[0;34m.\u001b[0m\u001b[0mpackages\u001b[0m\u001b[0;34m(\u001b[0m\u001b[0;34m\"remotes\"\u001b[0m\u001b[0;34m)\u001b[0m\u001b[0;34m\u001b[0m\u001b[0;34m\u001b[0m\u001b[0m\n",
            "\u001b[0;31mNameError\u001b[0m: name 'install' is not defined"
          ]
        }
      ],
      "source": [
        "##INSTALAR PACOTES\n",
        "install.packages(\"read.dbc\")\n",
        "install.packages(\"devtools\")\n",
        "#devtools::install_github(\"rfsaldanha/microdatasus\")\n",
        "install.packages(\"remotes\")\n",
        "#remotes::install_github(\"rfsaldanha/microdatasus\") \n",
        " "
      ]
    },
    {
      "cell_type": "code",
      "source": [],
      "metadata": {
        "id": "Wai8E58gsYNF"
      },
      "execution_count": null,
      "outputs": []
    },
    {
      "cell_type": "code",
      "source": [
        "# carregando os pacotes \n",
        "library(rio) # importar base de dados de diferentes extensoes\n",
        "library(read.dbc)#ler arquivos sus\n",
        "library(readxl)#ler excel\n",
        "library(writexl)#salvar excel\n",
        "library(tidyr) # comando replace_na\n",
        "library(dplyr) # manipular base de dados usando %>%\n",
        "library(lubridate) # trabalhar com data\n",
        "library(gtsummary) # tabelas\n",
        "library(gt) # nota de rodape na tabela\n",
        "library(gmodels)#tabelas\n",
        "library(ggplot2) # graficos\n",
        "library(devtools)\n",
        "library(tidyverse)\n",
        "library(data.table)\n",
        "library(caret)#KNN , CLASSIFICAÇaO\n",
        "library(xgboost) #classificacao\n",
        "library(glmnet)\n",
        "library(rpart)\n",
        "library(Matrix)\n",
        "library(quantmod) \n",
        "library(lattice)\n",
        "library(microdatasus) #pacote de extracao de dados do datasus\n",
        "library(fastDummies) \n",
        "library(stargazer)\n",
        "library(skimr)#faz resumo das variaveis\n",
        "library(stringr)\n",
        "library(magrittr)\n",
        "library(stringr) #para trabalhar com caracteres , extracao \n",
        "library(zoo)\n",
        "#if (!require(\"pacman\")) install.packages(\"pacman\")\n",
        "#pacman::p_load(recipes) \n",
        "#library(recipes)\n",
        "library(stringr)#variaveis com texto\n",
        "require(sandwich)\n",
        "require(msm)\n"
      ],
      "metadata": {
        "id": "E6fLU41KBmyI"
      },
      "execution_count": null,
      "outputs": []
    },
    {
      "cell_type": "code",
      "source": [
        "##  IMPORTANDO BASE DE DADOS -webscrapping\n",
        "#################\n",
        "dados <- fetch_datasus(year_start = 2018, year_end = 2020, uf = \"RS\", information_system = \"SINASC\")\n",
        "# OBS : para datas\n",
        "# estrutura =  ddmmaaaa ; format = \"%d%m%Y\"\n",
        "# obs: para data, sempre veja como esta a estrutura antes de reclass\n",
        "  "
      ],
      "metadata": {
        "id": "oLOxYlwHLcPJ"
      },
      "execution_count": null,
      "outputs": []
    },
    {
      "cell_type": "code",
      "source": [
        "dados$DTNASC[1:10] # ddmmaaaa\n",
        "# verifique formato de data\n",
        "\n",
        "names(dados) # nome das variaveis do objeto\n",
        "dim(dados) # dimensões numero de linhas e colunas\n",
        "head(dados, n = 10) #apresenta as primeiras linhas do objeto\n",
        "str(dados)\n",
        "sumarioRS <- skim(dados)\n"
      ],
      "metadata": {
        "id": "TkhC2I-bYqxM"
      },
      "execution_count": null,
      "outputs": []
    },
    {
      "cell_type": "code",
      "source": [
        "sumarioRS <- skim(dados)"
      ],
      "metadata": {
        "id": "QdykZ2QPY3pd"
      },
      "execution_count": null,
      "outputs": []
    },
    {
      "cell_type": "code",
      "source": [
        "save(dados, file = \"dados_nasc_RS.RData\")"
      ],
      "metadata": {
        "id": "HpjHS9FTZCNL"
      },
      "execution_count": null,
      "outputs": []
    },
    {
      "cell_type": "code",
      "source": [
        "write.table(dados, file = \"dados_RS_bruto.csv\", sep = \",\", na = \"\", quote = TRUE, row.names=FALSE )\n"
      ],
      "metadata": {
        "id": "6AUjwS7bZNb0"
      },
      "execution_count": null,
      "outputs": []
    },
    {
      "cell_type": "code",
      "source": [
        "########  SELECIONAR  AS VARIAVEIS DE INTERESSE\n",
        "####\n",
        "load (\"~/machine learning/dados_nasc_RS.RData\")\n"
      ],
      "metadata": {
        "id": "R5CMeyx_ZUBu"
      },
      "execution_count": null,
      "outputs": []
    },
    {
      "cell_type": "markdown",
      "source": [
        "Selecionando as variaveis de interesse e município. Aqui foram selecionados os dados dos nascidos vivos em Porto Alegre, cujas mães moravam na mesma cidade"
      ],
      "metadata": {
        "id": "rDa69M2LZ1rK"
      }
    },
    {
      "cell_type": "code",
      "source": [
        "# selecionando as variaveis de interesse e municipio : \n",
        "# filtro: Municipio de Residencia (CODMUNRES) == PORTO ALEGRE : 431490\n",
        "\n",
        "sinasc <- dados %>% filter( CODMUNNASC == \"431490\" & CODMUNRES ==\"431490\" ) %>% \n",
        "  select(\"CONTADOR\", \"DTNASC\", \"CODESTAB\", \"CODMUNNASC\", \"CODMUNRES\",\n",
        "         \"SEXO\", \"PESO\",  \"RACACOR\", \"SEMAGESTAC\",\"PARIDADE\",\n",
        "         \"PARTO\", \"TPAPRESENT\", \"APGAR1\",\n",
        "         \"IDADEMAE\", \"IDADEPAI\",\"ESTCIVMAE\", \"ESCMAE\", \"ESCMAE2010\", \"RACACORMAE\", \n",
        "         \"LOCNASC\",   \n",
        "         \"GESTACAO\", \"CONSULTAS\",\"CONSPRENAT\",   \"GRAVIDEZ\", \n",
        "         \"QTDGESTANT\", \"QTDPARTNOR\", \"QTDPARTCES\", \n",
        "         \"TPROBSON\",  \"KOTELCHUCK\" )\n"
      ],
      "metadata": {
        "id": "2xmdwMHJZrUM"
      },
      "execution_count": null,
      "outputs": []
    },
    {
      "cell_type": "code",
      "source": [
        "table(dados$SEXO) #2 é feminino. Observe a diferença do número de nascidos vivos, segundo o sexo do RN"
      ],
      "metadata": {
        "id": "GqCR6a_panfQ"
      },
      "execution_count": null,
      "outputs": []
    },
    {
      "cell_type": "code",
      "source": [
        "# remover bd1 - REMOVER MAIS TARDE\n",
        "rm(dados)\n"
      ],
      "metadata": {
        "id": "Wg6SIYDXbE8A"
      },
      "execution_count": null,
      "outputs": []
    },
    {
      "cell_type": "markdown",
      "source": [
        "**PRÉ**-**PROCESSAMENTO**"
      ],
      "metadata": {
        "id": "qnahotz4bU0u"
      }
    },
    {
      "cell_type": "code",
      "source": [
        "##pre processamento\n",
        "sinasc <- process_sinasc(sinasc) #COM PRE PROCESSAMENTO OCORRE ADIÇaO DE VARIAVEIS\n"
      ],
      "metadata": {
        "id": "JZdRprOJbMLZ"
      },
      "execution_count": null,
      "outputs": []
    },
    {
      "cell_type": "code",
      "source": [
        "glimpse(sinasc) ###mostra parte do bd"
      ],
      "metadata": {
        "id": "RjuNRw-Jbc6N"
      },
      "execution_count": null,
      "outputs": []
    },
    {
      "cell_type": "code",
      "source": [
        "####resume todas as variaveis\n",
        "sumarioPOA <- skim(sinasc) #fornece descriçao do banco de dados - missings, taxa de completude, maiores valores\n",
        "#observe que todas as variaveis estao como factor. entao e necessario reclassificar\n"
      ],
      "metadata": {
        "id": "aq16PFOsbi5t"
      },
      "execution_count": null,
      "outputs": []
    },
    {
      "cell_type": "code",
      "source": [
        "####\n",
        "## - RECLASSIFICAR AS VARIAVEIS\n",
        "####\n",
        "sinasc <- sinasc %>%\n",
        "  mutate(#categoricas\n",
        "    \n",
        "    ESTCIVMAE =  as.factor(ESTCIVMAE), \n",
        "    ESCMAE = as.factor(ESCMAE),\n",
        "    ESCMAE2010 = as.factor(ESCMAE2010),\n",
        "    GESTACAO = as.factor(GESTACAO),\n",
        "    GRAVIDEZ = as.factor(GRAVIDEZ),\n",
        "    PARTO = as.factor(PARTO),\n",
        "    RACACORMAE = as.factor(RACACORMAE), \n",
        "    RACACOR = as.factor(RACACOR),\n",
        "    SEXO =  as.factor(SEXO), \n",
        "    PARIDADE = as.factor(PARIDADE),\n",
        "    CONSULTAS = as.factor(CONSULTAS),#classe\n",
        "    \n",
        "    #númericas\n",
        "    IDADEMAE = as.character(IDADEMAE),\n",
        "    IDADEMAE = as.numeric(IDADEMAE),\n",
        "    IDADEPAI = as.character(IDADEPAI),\n",
        "    IDADEPAI = as.numeric(IDADEPAI),\n",
        "    CONSPRENAT = as.numeric(CONSPRENAT),#número\n",
        "    SEMAGESTAC = as.numeric(SEMAGESTAC),\n",
        "    QTDPARTCES = as.numeric(QTDPARTCES),\n",
        "    QTDGESTANT = as.numeric(QTDGESTANT),\n",
        "    QTDPARTNOR = as.numeric(QTDPARTNOR),\n",
        "    TPROBSON = as.numeric(TPROBSON),\n",
        "    KOTELCHUCK = as.numeric(KOTELCHUCK),\n",
        "    APGAR1 = as.numeric(KOTELCHUCK),\n",
        "    PESO = as.numeric(PESO))\n",
        "#%>% \n",
        "\n",
        "\n",
        "# OBS 1: SEXO - 1 = Masculino ; 2 = Feminino\n",
        "levels(sinasc$LOCNASC)\n",
        "levels(sinasc$ESTCIVMAE)\n",
        "levels(sinasc$ESCMAE)\n",
        "levels(sinasc$GESTACAO)\n",
        "levels(sinasc$GRAVIDEZ)\n",
        "levels(sinasc$CONSULTAS)\n",
        "levels(sinasc$PARTO)\n",
        "levels(sinasc$RACACORMAE)\n",
        "levels(sinasc$SEXO)\n"
      ],
      "metadata": {
        "id": "qbeTeSEHbqVk"
      },
      "execution_count": null,
      "outputs": []
    },
    {
      "cell_type": "code",
      "source": [
        "table(sinasc$PARTO)     "
      ],
      "metadata": {
        "id": "lPoSK_kcb_6o"
      },
      "execution_count": null,
      "outputs": []
    },
    {
      "cell_type": "code",
      "source": [
        "sinasc <- sinasc %>%\n",
        "  mutate( \n",
        "    ESTCIVMAE =  recode(ESTCIVMAE,\n",
        "                        \"1\"= \"Solteira\",\n",
        "                        \"2\"= \"Casada\",\n",
        "                        \"3\"= \"Viúva\",\n",
        "                        \"4\"= \"Separada judicialmente/divorciada\",\n",
        "                        \"5\"= \"Uniao estavel\",\n",
        "                        \"9\"= \"Ignorado\"), \n",
        "    \n",
        "    GESTACAO = recode(GESTACAO,\n",
        "                      \"1\"= \"Menos de 22 semanas\",\n",
        "                      \"2\"= \"22 a 27 semanas\",\n",
        "                      \"3\"= \"28 a 31 semanas\",\n",
        "                      \"4\"= \"32 a 36 semanas\",\n",
        "                      \"5\"= \"37 a 41 semanas\",\n",
        "                      \"6\"= \"42 semanas e mais\",\n",
        "                      \"9\"= \"Ignorado\"),\n",
        "    GRAVIDEZ = recode(GRAVIDEZ,\n",
        "                      \"1\"= \"Unica\",\n",
        "                      \"2\"= \"Dupla\",\n",
        "                      \"3\"= \"Tripla ou mais\",\n",
        "                      \"9\"= \"Ignorado\"),\n",
        "    CONSULTAS = recode(CONSULTAS,\n",
        "                       \"1\"= \"Nenhuma\",\n",
        "                       \"2\"= \"de 1 a 3\",\n",
        "                       \"3\"= \"de 4 a 6\",\n",
        "                       \"4\"= \"7 e mais\",\n",
        "                       \"9\"= \"Ignorado\"),\n",
        "    RACACORMAE = recode(RACACORMAE,\n",
        "                        \"1\"= \"Branca\",\n",
        "                        \"2\"= \"Preta\",\n",
        "                        \"3\"= \"Amarela\",\n",
        "                        \"4\"= \"Parda\",\n",
        "                        \"5\"= \"Indigena\"),\n",
        "    SEXO =  recode(SEXO, \n",
        "                   \"0\"= \"Ignorado\",\n",
        "                   \"1\"= \"Feminino\",\n",
        "                   \"2\"= \"Masculino\"),\n",
        "    PARTO = recode(PARTO,\n",
        "     #             \"1\"= \"Vaginal\" ,\n",
        "          \"2\"= \"Cesareo\",\n",
        "                \"9\"= \"Ignorado\"),\n",
        "    \n",
        "    PARIDADE = recode(PARIDADE,\n",
        "                      \"1\" = \"Multipara\",\n",
        "                      \"2\" = \"Nulipara\"))\n"
      ],
      "metadata": {
        "id": "Ose6lYbycHpU"
      },
      "execution_count": null,
      "outputs": []
    },
    {
      "cell_type": "code",
      "source": [
        "skim(sinasc$PARTO)\n"
      ],
      "metadata": {
        "id": "wQaH8NxdcRxa"
      },
      "execution_count": null,
      "outputs": []
    },
    {
      "cell_type": "code",
      "source": [
        "#criando dummies\n",
        "####DUMMIES E VARIAVEIS DERIVADAS\n",
        "sinasc$sexo_d <- sinasc$SEXO\n",
        "# OBS 1: SEXO - 1 = Masculino ; 2 = Feminino\n",
        "sinasc[\"sexo_d\"][sinasc[\"sexo_d\"] == \"0\"] <- \"\" #ignorado fica em branco\n",
        "sinasc[\"sexo_d\"][sinasc[\"sexo_d\"] == \"2\"] <- \"0\" # 2 (fem) transf em 0 \n",
        "sinasc <- sinasc %>%\n",
        "  mutate(sexo_d = as.factor(sexo_d)) #as.factor e usado para categorias\n",
        "\n",
        "# Criar a variavel  Ano de nascimento \"Ano.nasc\", fazer tabela e grafico\n",
        "class(sinasc$DTNASC)\n",
        "sinasc <- sinasc %>% mutate(DTNASC = as.Date(DTNASC))\n",
        "sinasc$Ano.nasc <- year(sinasc$DTNASC)\n",
        "sinasc$mes.nasc <- month(sinasc$DTNASC)\n",
        "sinasc$Ano.nasc <- as.factor(sinasc$Ano.nasc)\n",
        "sinasc$mes.nasc <- as.factor(sinasc$mes.nasc)\n",
        "\n",
        "sinasc <- sinasc %>% mutate(DTNASC = as.Date(DTNASC))\n",
        "sinasc$ano <- year(sinasc$DTNASC)\n",
        "sinasc$mes <- month(sinasc$DTNASC)\n",
        "sinasc$ano <- as.factor(sinasc$Ano.nasc)\n",
        "sinasc$mes <- as.factor(sinasc$mes.nasc)\n",
        "\n",
        "\n",
        "###gerando artificialmente uma data \n",
        "sinasc$dia = \"31\"\n",
        "\n",
        "#cad_saude %>%\n",
        "sinasc$datacompleta <-  paste(sinasc$dia, sinasc$mes, sinasc$ano, sep = '-')\n",
        "sinasc <- sinasc%>%\n",
        "  mutate(datacompleta = as.Date(datacompleta))\n",
        "class(sinasc$datacompleta)\n",
        "\n",
        "\n",
        "###gerando local de residencia diferente do local de nascimento\n",
        "sinasc$morafora <- if_else(sinasc$munResNome == \"Porto Alegre\", \"NaO\" , \"sim\")\n",
        "table(sinasc$morafora)\n",
        "\n",
        "\n",
        "\n",
        "#PREPARO PARA dummies\n",
        "sinasc$LOCNASC_d <- sinasc$LOCNASC\n",
        "# para LOCNASC  ordem \"Hospital\", \"Domicilio\", \"Outros estabelecimentos de saúde\",\n",
        "# \"Outros\", \"Ignorado\n",
        "table(sinasc$LOCNASC)\n",
        "class(sinasc$LOCNASC)\n",
        "levels(sinasc$LOCNASC)\n",
        "sinasc <- sinasc  %>%    mutate(LOCNASC = as.factor(LOCNASC))\n",
        "sinasc$LOCNASC <- factor(sinasc$LOCNASC)\n",
        "\n",
        "\n",
        "####o pre-processamento ja fez parte do trabalho ,veja o arquivo dados\n",
        "\n",
        "sinasc <- sinasc %>%\n",
        "  mutate(IDADEMAE = as.character(IDADEMAE),\n",
        "         IDADEMAE = as.numeric(IDADEMAE))\n",
        "\n",
        "\n",
        "\n",
        "skim(sinasc$IDADEMAE) #observe que ha uma observaçao sem dados\n",
        "sinasc <- sinasc[!is.na(sinasc$IDADEMAE),] #retirando uma observaçao sem dados de idade\n",
        "##sinasc[\"IDADEMAE\"][sinasc[\"IDADEMAE\"]== \"99\"] <- \"29\" #e POSSIVEL TROCAR 99 PELA IDADE MeDIA\n",
        "\n",
        "\n"
      ],
      "metadata": {
        "id": "QHAD3llTcWox"
      },
      "execution_count": null,
      "outputs": []
    },
    {
      "cell_type": "code",
      "source": [
        "###substituindo missing no cod estabelecimento\n",
        "sinasc$CODESTAB <-coalesce(sinasc$CODESTAB, \"9999\") # ignorado"
      ],
      "metadata": {
        "id": "4c5SzF3uetCM"
      },
      "execution_count": null,
      "outputs": []
    },
    {
      "cell_type": "code",
      "source": [
        "sinasc$idade_cat <- cut(sinasc$IDADEMAE,  # CRIANDO FAIXA ETARIA\n",
        "                        breaks = c(10, 20, 35, 45, Inf), right = FALSE,\n",
        "                        labels = c(\"10 a 19 anos\", \"20 a 34 anos\", \"35 a 44 anos\", \"45 anos ou mais\"))\n",
        "\n"
      ],
      "metadata": {
        "id": "PEcKGu8wcl5e"
      },
      "execution_count": null,
      "outputs": []
    },
    {
      "cell_type": "code",
      "source": [
        "class(sinasc$CODESTAB)\n",
        "table(sinasc$CODESTAB)\n",
        "table(sinasc$PARTO)\n",
        "levels(sinasc$PARTO)\n"
      ],
      "metadata": {
        "id": "BQqkJcAVcl-e"
      },
      "execution_count": null,
      "outputs": []
    },
    {
      "cell_type": "code",
      "source": [],
      "metadata": {
        "id": "uEMdg81pe9_n"
      },
      "execution_count": null,
      "outputs": []
    },
    {
      "cell_type": "code",
      "source": [
        "###sinasc$cesaria <- GERAR DUMMY\n",
        "sinasc$cesareo <- sinasc$PARTO\n",
        "sinasc[\"cesareo\"][sinasc[\"cesareo\"] == \"Cesario\"] <- \"0\" # 2 (cesario) transf em 1 \n"
      ],
      "metadata": {
        "id": "nOfpf_YOdNHn"
      },
      "execution_count": null,
      "outputs": []
    },
    {
      "cell_type": "code",
      "source": [
        "sinasc <- sinasc %>%\n",
        "  mutate(cesareo = as.factor(cesareo)) #as.factor e usado para categorias\n",
        "\n",
        "table(sinasc$cesareo)\n",
        "skim(sinasc$cesareo)\n"
      ],
      "metadata": {
        "id": "laEqkhffeVkB"
      },
      "execution_count": null,
      "outputs": []
    },
    {
      "cell_type": "code",
      "source": [
        "sinasc <- sinasc %>% mutate(RACACORMAE = factor(RACACORMAE, \n",
        "                                                levels = c(\"Branca\", \"Preta\",\n",
        "                                                           \"Amarela\", \"Parda\",\n",
        "                                                           \"Indigena\", \"Outras\")))\n",
        "# Colocar Branco, Amarela ou Indigena na categoria (nao-preta 0) e Preta e Parda na categoria Preta (1)\n",
        "\n",
        "sinasc$RACACORMAE_d <- sinasc$RACACORMAE\n",
        "sinasc <- sinasc %>% \n",
        "  mutate(RACACORMAE_d = recode(RACACORMAE_d      ,\n",
        "                               \"Preta\"= \"1\"     ,\n",
        "                               \"Parda\" = \"1\"    ,\n",
        "                               \"Branca\" = \"0\"   ,\n",
        "                               \"Amarela\" = \"0\"  ,\n",
        "                               \"Indigena\" = \"0\" ,\n",
        "                               \"Outras\" = \"0\"\n",
        "  ))\n",
        "sinasc <- sinasc %>%\n",
        "  mutate(RACACORMAE_d = as.factor(RACACORMAE_d)) \n",
        "class(sinasc$RACACORMAE_d) #fornece o tipo da variavel\n",
        "\n"
      ],
      "metadata": {
        "id": "f9w869tZefl5"
      },
      "execution_count": null,
      "outputs": []
    },
    {
      "cell_type": "code",
      "source": [
        "sinasc <- sinasc  %>% mutate(ESCMAE2010 =  factor(ESCMAE2010, \n",
        "                                                  levels = c(\"0\",\"1\",\"2\", \"3\", \"4\",\"5\" ,\"9\"), \n",
        "                                                  labels = c(\"Nenhuma\",\"Fundamental I\",\n",
        "                                                             \"Fundamental II\", \"Ensino medio\",\"Superior incompleto\", \n",
        "                                                             \"Superior completo\", \"Ignorado\")))\n",
        "\n"
      ],
      "metadata": {
        "id": "jOVc67QXfZwI"
      },
      "execution_count": null,
      "outputs": []
    },
    {
      "cell_type": "code",
      "source": [
        "sinasc <- sinasc %>%\n",
        "  mutate(CODESTAB = as.factor(CODESTAB))\n",
        "\n",
        "# Criar variavel \"Hospital.nasc\"; sIM: HOSPITAL E naO :OUTROS LOCAIS\n",
        "# \n",
        "sinasc$Hospital.nasc <- sinasc %>%\n",
        "  mutate(Hospital.nasc = ifelse(LOCNASC == \"Hospital\", \"Sim\", \"Nao\")) %>%\n",
        "  mutate( Hospital.nasc = factor(Hospital.nasc, levels = c(\"Sim\", \"Nao\")) )\n",
        "summary(sinasc$Hospital.nasc)\n"
      ],
      "metadata": {
        "id": "6T--iddDcWwK"
      },
      "execution_count": null,
      "outputs": []
    },
    {
      "cell_type": "code",
      "source": [
        "sinasc$peso_cat <-  cut(sinasc$PESO,  # CRIANDO categorias de peso\n",
        "                        breaks = c(0, 2500, 3000, 4000, Inf), right = FALSE,\n",
        "                        labels = c(\"Menos de 2500 g\", \"2500 g a 2999 g\",\n",
        "                                   \"3000 g a 3999 g\", \"4000 g ou mais\"))\n",
        "\n",
        "\n",
        "sinasc$Qpeso <- cut(sinasc$PESO, breaks = c(0, 1000, 1500, 2500, Inf),\n",
        "                    labels = c(\"extremo\", \"muito baixo\", \"baixo peso\", \"normal\"),\n",
        "                    include.lowest = T, right = T)\n",
        "#  PESO > 1500 & peso <= 2500\n",
        "#extr_bx_peso <- PESO <= 1000\n",
        "\n",
        "#\"1\"= \"extremo\",\n",
        "#\"1\"= \"muito baixo\",\n",
        "#\"1\"= \"baixo peso\",\n",
        "levels(sinasc$Qpeso)\n",
        "class(sinasc$Qpeso)\n",
        "summary(sinasc$Qpeso)\n",
        "\n",
        "####VARIAVEL A SER EXPLICADA:::: dummy de baixo peso\n",
        "sinasc$bp <- cut(sinasc$PESO, breaks = c(0, 2500, Inf),\n",
        "                 labels = c(\"baixo peso\", \"normal\"),\n",
        "                 include.lowest = T, right = T)\n",
        "sinasc <- sinasc %>%\n",
        "  mutate(bp = recode(bp,\n",
        "                     \"baixo peso\" = \"1\",\n",
        "                     \"normal\" = \"0\" ))\n"
      ],
      "metadata": {
        "id": "eGIlgl0xcXCl"
      },
      "execution_count": null,
      "outputs": []
    },
    {
      "cell_type": "code",
      "source": [
        "sinasc <- sinasc %>% ##deixou de funcionar - apresenta erro em cesaria\n",
        "    mutate(PARTO = factor(PARTO, levels  = c(\"Vaginal\", \"Cesáreo\",\"Ignorado\", \"Nao preenchido\"))) %>%\n",
        "  mutate(PARTO = replace_na(PARTO, \"Nao preenchido\"))\n"
      ],
      "metadata": {
        "id": "AZ5aZeS1b4Oa"
      },
      "execution_count": null,
      "outputs": []
    },
    {
      "cell_type": "code",
      "source": [
        "sinasc$KOTELCHUCK <- as.factor(sinasc$KOTELCHUCK)"
      ],
      "metadata": {
        "id": "FDtI2B2wf__d"
      },
      "execution_count": null,
      "outputs": []
    },
    {
      "cell_type": "markdown",
      "source": [
        "Dados de tempo"
      ],
      "metadata": {
        "id": "wyS7jJcHgglF"
      }
    },
    {
      "cell_type": "code",
      "source": [
        "###gerando artificialmente uma data para fazer o merge com banco 2\n",
        "sinasc$dia = \"31\"\n",
        "sinasc$dt_merge =\"31\"\n",
        "# Criar a variavel  Ano de nascimento \"Ano.nasc\", fazer tabela e grafico\n",
        "class(sinasc$DTNASC)\n",
        "sinasc <- sinasc %>% mutate(DTNASC = as.Date(DTNASC))\n",
        "sinasc$Ano.nasc <- year(sinasc$DTNASC)\n",
        "sinasc$mes.nasc <- month(sinasc$DTNASC)\n",
        "sinasc$Ano.nasc <- as.factor(sinasc$Ano.nasc)\n",
        "sinasc$mes.nasc <- as.factor(sinasc$mes.nasc)\n",
        "sinasc <- sinasc %>% mutate(DTNASC = as.Date(DTNASC))\n",
        "sinasc$ano <- year(sinasc$DTNASC)\n",
        "sinasc$mes <- month(sinasc$DTNASC)\n",
        "sinasc$ano <- as.factor(sinasc$Ano.nasc)\n",
        "sinasc$mes <- as.factor(sinasc$mes.nasc)\n",
        "### %>%\n",
        "##datacompleta será usada para o merge....no \n",
        "sinasc$datacompleta <-  paste(sinasc$dia, sinasc$mes, sinasc$ano, sep = '-')\n",
        "sinasc <- sinasc%>%\n",
        "  mutate(datacompleta = as.Date(datacompleta))\n",
        "class(sinasc$datacompleta)"
      ],
      "metadata": {
        "id": "gM2gLTu9gNHk"
      },
      "execution_count": null,
      "outputs": []
    },
    {
      "cell_type": "code",
      "source": [
        "sumarioPOA2 <- skim(sinasc) #estatisticas gerais do bd1\n"
      ],
      "metadata": {
        "id": "6p2aC0p5hWa_"
      },
      "execution_count": null,
      "outputs": []
    },
    {
      "cell_type": "code",
      "source": [
        "#save(sinasc, file = \"dados_nasc_POA.RData\")\n",
        "save(sinasc, file = \"dados_nasc_POA_bruto.RData\")\n",
        "####################\n",
        "write.csv(sinasc,\"dados_POA.csv\")\n"
      ],
      "metadata": {
        "id": "RNuI3SODhLUj"
      },
      "execution_count": null,
      "outputs": []
    },
    {
      "cell_type": "markdown",
      "metadata": {
        "id": "nihbxcYsYUz3"
      },
      "source": [
        "---"
      ]
    }
  ],
  "metadata": {
    "colab": {
      "provenance": [],
      "collapsed_sections": [],
      "include_colab_link": true
    },
    "kernelspec": {
      "display_name": "py37_default",
      "language": "python",
      "name": "conda-env-py37_default-py"
    },
    "language_info": {
      "codemirror_mode": {
        "name": "ipython",
        "version": 3
      },
      "file_extension": ".py",
      "mimetype": "text/x-python",
      "name": "python",
      "nbconvert_exporter": "python",
      "pygments_lexer": "ipython3",
      "version": "3.7.7"
    }
  },
  "nbformat": 4,
  "nbformat_minor": 0
}