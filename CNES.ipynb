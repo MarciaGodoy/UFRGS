{
  "cells": [
    {
      "cell_type": "markdown",
      "metadata": {
        "id": "view-in-github",
        "colab_type": "text"
      },
      "source": [
        "<a href=\"https://colab.research.google.com/github/MarciaGodoy/UFRGS/blob/main/CNES.ipynb\" target=\"_parent\"><img src=\"https://colab.research.google.com/assets/colab-badge.svg\" alt=\"Open In Colab\"/></a>"
      ]
    },
    {
      "cell_type": "markdown",
      "source": [
        "**Machine** **Learning** **aplicado** **à** **saúde**"
      ],
      "metadata": {
        "id": "l_ebHKyw2qXm"
      },
      "id": "l_ebHKyw2qXm"
    },
    {
      "cell_type": "markdown",
      "id": "0dd0ebdc",
      "metadata": {
        "id": "0dd0ebdc"
      },
      "source": [
        "# Base de dados 2: CNES\n",
        "\n",
        "O Cadastro Nacional de Estabelecimentos de Saúde (CNES) é o sistema de informação oficial de cadastramento de informações de todos os estabelecimentos de saúde no país, independentemente de sua natureza jurídica ou de integrarem o Sistema Único de Saúde (SUS). Trata-se do cadastro oficial do Ministério da Saúde (MS) no tocante à realidade da capacidade instalada e mão-de-obra assistencial de saúde no Brasil em estabelecimentos de saúde públicos ou privados, com convênio SUS ou não.\n",
        "As informações do CNES serão adicionadas aos dados dos registros de nascidos vivos, possibilitando, por exemplo, verificar se o tamanho do estabelecimento de saúde afeta as taxas de partos cesáreos, dentre outros aspectos.\n",
        "\n",
        "\n",
        "Unidade geografica analisada: Porto Alegre - RS\n",
        "período dos dados: 01-2018 a 12-2020\n",
        "\n"
      ]
    },
    {
      "cell_type": "code",
      "execution_count": 1,
      "id": "12824bc2",
      "metadata": {
        "lines_to_next_cell": 2,
        "name": "chunk1",
        "id": "12824bc2"
      },
      "outputs": [],
      "source": [
        "###Rotina em R\n",
        "# usando pacote microdatasus (SALDANHA et al, 2019)\n",
        "\n",
        "######################################################################################\n",
        "##############################  INICIAL  #############################################\n",
        "######################################################################################\n",
        "# PACOTE UTILIZADO PARA DOWNLOAD E PRÉ-PROCESSAMENTO DE DADOS\n",
        "# \"Microdatasus: pacote para download e pré-processamento de microdados do Departamento de Informática do SUS (DATASUS)\"\n",
        "#cff-version: 1.2.0\n",
        "#message: \"If you use this software, please cite it as below.\"\n",
        "#authors:\n",
        "#- family-names: \"Saldanha\"\n",
        "#  given-names: \"Raphael de Freitas\"\n",
        "#  orcid: \"http://orcid.org/0000-0003-0652-8466\"\n",
        "#- family-names: \"Bastos\"\n",
        "#  given-names: \"Ronaldo Rocha\"\n",
        "#  orcid: \"http://orcid.org/0000-0001-9597-5967\"\n",
        "#- family-names: \"Barcellos\"\n",
        "#  given-names: \"Christovam\"\n",
        "#  orcid: \"http://orcid.org/0000-0002-1161-2753\"\n",
        "#title: \"Microdatasus: pacote para download e pré-processamento de microdados do Departamento de Informática do SUS (DATASUS)\"\n",
        "#version: 1.0.0\n",
        "#doi: 10.1590/0102-311X00032419\n",
        "#date-released: 2019-09-16\n",
        "#url: \"http://ref.scielo.org/dhcq3y\"\n"
      ]
    },
    {
      "cell_type": "markdown",
      "id": "0bd054ec",
      "metadata": {
        "id": "0bd054ec"
      },
      "source": [
        "## web scrapping\n",
        "\\def\\caret{{^}}\n",
        "\n",
        "Adicionando as bibliotecas necessárias"
      ]
    },
    {
      "cell_type": "code",
      "source": [
        "####################\n",
        "##INSTALAR PACOTES\n",
        "install.packages(\"read.dbc\")\n",
        "install.packages(\"devtools\")\n",
        "devtools::install_github(\"rfsaldanha/microdatasus\")\n",
        "install.packages(\"remotes\")\n",
        "#remotes::install_github(\"rfsaldanha/microdatasus\") # apenas 1 vez na maquina\n",
        "\n",
        "\n",
        "###################\n"
      ],
      "metadata": {
        "colab": {
          "base_uri": "https://localhost:8080/"
        },
        "id": "L4cpf0-n4hTJ",
        "outputId": "c4a41ca1-d35d-48c4-d6ac-67896a1dfdf1"
      },
      "id": "L4cpf0-n4hTJ",
      "execution_count": 3,
      "outputs": [
        {
          "output_type": "stream",
          "name": "stderr",
          "text": [
            "Installing package into ‘/usr/local/lib/R/site-library’\n",
            "(as ‘lib’ is unspecified)\n",
            "\n",
            "Installing package into ‘/usr/local/lib/R/site-library’\n",
            "(as ‘lib’ is unspecified)\n",
            "\n",
            "also installing the dependencies ‘Rcpp’, ‘httpuv’, ‘xtable’, ‘fontawesome’, ‘sourcetools’, ‘later’, ‘promises’, ‘textshaping’, ‘shiny’, ‘downlit’, ‘ragg’, ‘htmlwidgets’, ‘miniUI’, ‘pkgdown’, ‘profvis’, ‘roxygen2’, ‘urlchecker’\n",
            "\n",
            "\n",
            "Warning message in install.packages(\"devtools\"):\n",
            "“installation of package ‘textshaping’ had non-zero exit status”\n",
            "Warning message in install.packages(\"devtools\"):\n",
            "“installation of package ‘ragg’ had non-zero exit status”\n",
            "Warning message in install.packages(\"devtools\"):\n",
            "“installation of package ‘pkgdown’ had non-zero exit status”\n",
            "Warning message in install.packages(\"devtools\"):\n",
            "“installation of package ‘devtools’ had non-zero exit status”\n",
            "Downloading GitHub repo rfsaldanha/microdatasus@HEAD\n",
            "\n"
          ]
        },
        {
          "output_type": "stream",
          "name": "stdout",
          "text": [
            "bitops     (NA    -> 1.0-7   ) [CRAN]\n",
            "cpp11      (0.4.2 -> 0.4.3   ) [CRAN]\n",
            "tidyselect (1.1.2 -> 1.2.0   ) [CRAN]\n",
            "tibble     (3.1.7 -> 3.1.8   ) [CRAN]\n",
            "RCurl      (NA    -> 1.98-1.9) [CRAN]\n"
          ]
        },
        {
          "output_type": "stream",
          "name": "stderr",
          "text": [
            "Installing 5 packages: bitops, cpp11, tidyselect, tibble, RCurl\n",
            "\n",
            "Installing packages into ‘/usr/local/lib/R/site-library’\n",
            "(as ‘lib’ is unspecified)\n",
            "\n"
          ]
        },
        {
          "output_type": "stream",
          "name": "stdout",
          "text": [
            "* checking for file ‘/tmp/RtmpqFHJGE/remotes3720284f55/rfsaldanha-microdatasus-959bdf1/DESCRIPTION’ ... OK\n",
            "* preparing ‘microdatasus’:\n",
            "* checking DESCRIPTION meta-information ... OK\n",
            "* checking for LF line-endings in source and make files and shell scripts\n",
            "* checking for empty or unneeded directories\n",
            "* building ‘microdatasus_2.0.0.tar.gz’\n",
            "\n"
          ]
        },
        {
          "output_type": "stream",
          "name": "stderr",
          "text": [
            "Installing package into ‘/usr/local/lib/R/site-library’\n",
            "(as ‘lib’ is unspecified)\n",
            "\n",
            "Installing package into ‘/usr/local/lib/R/site-library’\n",
            "(as ‘lib’ is unspecified)\n",
            "\n"
          ]
        }
      ]
    },
    {
      "cell_type": "code",
      "source": [
        "install.packages(c(\"dplyr\", \"stringr\", \"rio\", \"read.dbc\", \"readxl\", \"writexl\"))"
      ],
      "metadata": {
        "colab": {
          "base_uri": "https://localhost:8080/"
        },
        "id": "VafnQ8U48By5",
        "outputId": "74d8abf1-2860-4066-fa06-fa17dda1b8dd"
      },
      "id": "VafnQ8U48By5",
      "execution_count": 6,
      "outputs": [
        {
          "output_type": "stream",
          "name": "stderr",
          "text": [
            "Installing packages into ‘/usr/local/lib/R/site-library’\n",
            "(as ‘lib’ is unspecified)\n",
            "\n",
            "also installing the dependency ‘openxlsx’\n",
            "\n",
            "\n"
          ]
        }
      ]
    },
    {
      "cell_type": "code",
      "source": [
        "install.packages(c(\"tydiverse\", \"tidyr\", \"dplyr\", \"lubridate\"))"
      ],
      "metadata": {
        "colab": {
          "base_uri": "https://localhost:8080/"
        },
        "id": "wwAEKiNP8bD9",
        "outputId": "d9c6b7fa-9f7d-437f-d515-d1b4159f22b9"
      },
      "id": "wwAEKiNP8bD9",
      "execution_count": 7,
      "outputs": [
        {
          "output_type": "stream",
          "name": "stderr",
          "text": [
            "Installing packages into ‘/usr/local/lib/R/site-library’\n",
            "(as ‘lib’ is unspecified)\n",
            "\n",
            "Warning message:\n",
            "“package ‘tydiverse’ is not available for this version of R\n",
            "\n",
            "A version of this package for your version of R might be available elsewhere,\n",
            "see the ideas at\n",
            "https://cran.r-project.org/doc/manuals/r-patched/R-admin.html#Installing-packages”\n"
          ]
        }
      ]
    },
    {
      "cell_type": "code",
      "source": [
        "install.packages(c(\"gtsummary\", \"gt\", \"gmodels\", \"ggplot2\", \"devtools\"))"
      ],
      "metadata": {
        "colab": {
          "base_uri": "https://localhost:8080/"
        },
        "id": "cQvpsdgy84JT",
        "outputId": "a4320bf1-023d-49dc-9a17-0d676d2f5c6f"
      },
      "id": "cQvpsdgy84JT",
      "execution_count": 8,
      "outputs": [
        {
          "output_type": "stream",
          "name": "stderr",
          "text": [
            "Installing packages into ‘/usr/local/lib/R/site-library’\n",
            "(as ‘lib’ is unspecified)\n",
            "\n",
            "also installing the dependencies ‘textshaping’, ‘labelled’, ‘gtools’, ‘ragg’, ‘broom.helpers’, ‘gdata’, ‘pkgdown’\n",
            "\n",
            "\n",
            "Warning message in install.packages(c(\"gtsummary\", \"gt\", \"gmodels\", \"ggplot2\", \"devtools\")):\n",
            "“installation of package ‘textshaping’ had non-zero exit status”\n",
            "Warning message in install.packages(c(\"gtsummary\", \"gt\", \"gmodels\", \"ggplot2\", \"devtools\")):\n",
            "“installation of package ‘ragg’ had non-zero exit status”\n",
            "Warning message in install.packages(c(\"gtsummary\", \"gt\", \"gmodels\", \"ggplot2\", \"devtools\")):\n",
            "“installation of package ‘pkgdown’ had non-zero exit status”\n",
            "Warning message in install.packages(c(\"gtsummary\", \"gt\", \"gmodels\", \"ggplot2\", \"devtools\")):\n",
            "“installation of package ‘devtools’ had non-zero exit status”\n"
          ]
        }
      ]
    },
    {
      "cell_type": "code",
      "source": [
        "install.packages(c(\"data.table\", \"caret\", \"xgboost\", \"glmnet\", \"rpart\", \"Matrix\", \"quantmod\"))"
      ],
      "metadata": {
        "colab": {
          "base_uri": "https://localhost:8080/"
        },
        "id": "pwvmThts9OP1",
        "outputId": "27dc67e0-bc03-47d0-9ea3-bd3577194c49"
      },
      "id": "pwvmThts9OP1",
      "execution_count": 9,
      "outputs": [
        {
          "output_type": "stream",
          "name": "stderr",
          "text": [
            "Installing packages into ‘/usr/local/lib/R/site-library’\n",
            "(as ‘lib’ is unspecified)\n",
            "\n",
            "also installing the dependencies ‘listenv’, ‘parallelly’, ‘future’, ‘globals’, ‘future.apply’, ‘progressr’, ‘numDeriv’, ‘SQUAREM’, ‘lava’, ‘prodlim’, ‘proxy’, ‘iterators’, ‘gower’, ‘hardhat’, ‘ipred’, ‘timeDate’, ‘e1071’, ‘foreach’, ‘ModelMetrics’, ‘plyr’, ‘pROC’, ‘recipes’, ‘reshape2’, ‘shape’, ‘RcppEigen’, ‘xts’, ‘zoo’, ‘TTR’\n",
            "\n",
            "\n"
          ]
        }
      ]
    },
    {
      "cell_type": "code",
      "source": [
        "install.packages(c(\"lattice\", \"fastDummies\", \"stargazer\", \"skimr\", \"magrittr\"))"
      ],
      "metadata": {
        "colab": {
          "base_uri": "https://localhost:8080/"
        },
        "id": "X2PPwG7q9r-t",
        "outputId": "c2d61068-7b9d-4ca3-f739-485c12a2c613"
      },
      "id": "X2PPwG7q9r-t",
      "execution_count": 10,
      "outputs": [
        {
          "output_type": "stream",
          "name": "stderr",
          "text": [
            "Installing packages into ‘/usr/local/lib/R/site-library’\n",
            "(as ‘lib’ is unspecified)\n",
            "\n"
          ]
        }
      ]
    },
    {
      "cell_type": "code",
      "source": [
        "install.packages(c(\"zoo\", \"pacman\", \"sandwich\", \"recipes\", \"msm\", \"plm\"))"
      ],
      "metadata": {
        "colab": {
          "base_uri": "https://localhost:8080/"
        },
        "id": "_0tjqy2A-G1L",
        "outputId": "76aee81f-e2eb-441b-f03c-5ff4545e29cf"
      },
      "id": "_0tjqy2A-G1L",
      "execution_count": 11,
      "outputs": [
        {
          "output_type": "stream",
          "name": "stderr",
          "text": [
            "Installing packages into ‘/usr/local/lib/R/site-library’\n",
            "(as ‘lib’ is unspecified)\n",
            "\n",
            "also installing the dependencies ‘miscTools’, ‘rbibutils’, ‘mvtnorm’, ‘expm’, ‘bdsmatrix’, ‘collapse’, ‘lmtest’, ‘maxLik’, ‘Rdpack’, ‘Formula’\n",
            "\n",
            "\n"
          ]
        }
      ]
    },
    {
      "cell_type": "code",
      "source": [
        "# carregando os pacotes \n",
        "library(rio) # importar base de dados de diferentes extensoes\n",
        "library(read.dbc)#ler arquivos sus\n",
        "library(readxl)#ler excel\n",
        "library(writexl)#salvar excel\n",
        "library(tidyr) # comando replace_na\n",
        "library(dplyr) # manipular base de dados usando %>%\n",
        "library(lubridate) # trabalhar com data\n",
        "library(gtsummary) # tabelas\n",
        "library(gt) # nota de rodapé na tabela\n",
        "library(gmodels)#tabelas\n",
        "library(ggplot2) # graficos\n",
        "library(devtools)\n",
        "library(tidyverse)\n",
        "library(data.table)\n",
        "library(caret)#KNN , CLASSIFICAÇÃO\n",
        "library(xgboost) #classificacao\n",
        "library(glmnet)\n",
        "library(rpart)\n",
        "library(Matrix)\n",
        "library(quantmod)\n",
        "library(lattice)\n",
        "library(microdatasus) #pacote de extracao de dados do datasus\n",
        "library(fastDummies) \n",
        "library(stargazer)\n",
        "library(skimr)#faz resumo das variaveis\n",
        "library(stringr)\n",
        "library(magrittr)\n",
        "library(stringr) #para trabalhar com caracteres , extracao \n",
        "library(zoo)\n",
        "if (!require(\"pacman\")) install.packages(\"pacman\")\n",
        "pacman::p_load(recipes) \n",
        "library(recipes)\n",
        "library(stringr)#variaveis com texto\n",
        "require(sandwich)\n",
        "require(msm)\n",
        "library(plm)\n",
        "\n"
      ],
      "metadata": {
        "colab": {
          "base_uri": "https://localhost:8080/"
        },
        "id": "Zx6msOSb43sS",
        "outputId": "56bee3c6-49e4-4de2-a3ca-e7c6032e18e8"
      },
      "id": "Zx6msOSb43sS",
      "execution_count": 12,
      "outputs": [
        {
          "output_type": "stream",
          "name": "stderr",
          "text": [
            "\n",
            "Attaching package: ‘dplyr’\n",
            "\n",
            "\n",
            "The following objects are masked from ‘package:stats’:\n",
            "\n",
            "    filter, lag\n",
            "\n",
            "\n",
            "The following objects are masked from ‘package:base’:\n",
            "\n",
            "    intersect, setdiff, setequal, union\n",
            "\n",
            "\n",
            "Warning message in system(\"timedatectl\", intern = TRUE):\n",
            "“running command 'timedatectl' had status 1”\n",
            "\n",
            "Attaching package: ‘lubridate’\n",
            "\n",
            "\n",
            "The following objects are masked from ‘package:base’:\n",
            "\n",
            "    date, intersect, setdiff, union\n",
            "\n",
            "\n",
            "Loading required package: usethis\n",
            "\n",
            "── \u001b[1mAttaching packages\u001b[22m ─────────────────────────────────────── tidyverse 1.3.1 ──\n",
            "\n",
            "\u001b[32m✔\u001b[39m \u001b[34mtibble \u001b[39m 3.1.8     \u001b[32m✔\u001b[39m \u001b[34mstringr\u001b[39m 1.4.1\n",
            "\u001b[32m✔\u001b[39m \u001b[34mreadr  \u001b[39m 2.1.3     \u001b[32m✔\u001b[39m \u001b[34mforcats\u001b[39m 0.5.2\n",
            "\u001b[32m✔\u001b[39m \u001b[34mpurrr  \u001b[39m 0.3.5     \n",
            "\n",
            "── \u001b[1mConflicts\u001b[22m ────────────────────────────────────────── tidyverse_conflicts() ──\n",
            "\u001b[31m✖\u001b[39m \u001b[34mlubridate\u001b[39m::\u001b[32mas.difftime()\u001b[39m masks \u001b[34mbase\u001b[39m::as.difftime()\n",
            "\u001b[31m✖\u001b[39m \u001b[34mlubridate\u001b[39m::\u001b[32mdate()\u001b[39m        masks \u001b[34mbase\u001b[39m::date()\n",
            "\u001b[31m✖\u001b[39m \u001b[34mdplyr\u001b[39m::\u001b[32mfilter()\u001b[39m          masks \u001b[34mstats\u001b[39m::filter()\n",
            "\u001b[31m✖\u001b[39m \u001b[34mlubridate\u001b[39m::\u001b[32mintersect()\u001b[39m   masks \u001b[34mbase\u001b[39m::intersect()\n",
            "\u001b[31m✖\u001b[39m \u001b[34mdplyr\u001b[39m::\u001b[32mlag()\u001b[39m             masks \u001b[34mstats\u001b[39m::lag()\n",
            "\u001b[31m✖\u001b[39m \u001b[34mlubridate\u001b[39m::\u001b[32msetdiff()\u001b[39m     masks \u001b[34mbase\u001b[39m::setdiff()\n",
            "\u001b[31m✖\u001b[39m \u001b[34mlubridate\u001b[39m::\u001b[32munion()\u001b[39m       masks \u001b[34mbase\u001b[39m::union()\n",
            "\n",
            "\n",
            "Attaching package: ‘data.table’\n",
            "\n",
            "\n",
            "The following object is masked from ‘package:purrr’:\n",
            "\n",
            "    transpose\n",
            "\n",
            "\n",
            "The following objects are masked from ‘package:lubridate’:\n",
            "\n",
            "    hour, isoweek, mday, minute, month, quarter, second, wday, week,\n",
            "    yday, year\n",
            "\n",
            "\n",
            "The following objects are masked from ‘package:dplyr’:\n",
            "\n",
            "    between, first, last\n",
            "\n",
            "\n",
            "Loading required package: lattice\n",
            "\n",
            "\n",
            "Attaching package: ‘caret’\n",
            "\n",
            "\n",
            "The following object is masked from ‘package:purrr’:\n",
            "\n",
            "    lift\n",
            "\n",
            "\n",
            "\n",
            "Attaching package: ‘xgboost’\n",
            "\n",
            "\n",
            "The following object is masked from ‘package:dplyr’:\n",
            "\n",
            "    slice\n",
            "\n",
            "\n",
            "Loading required package: Matrix\n",
            "\n",
            "\n",
            "Attaching package: ‘Matrix’\n",
            "\n",
            "\n",
            "The following objects are masked from ‘package:tidyr’:\n",
            "\n",
            "    expand, pack, unpack\n",
            "\n",
            "\n",
            "Loaded glmnet 4.1-4\n",
            "\n",
            "Loading required package: xts\n",
            "\n",
            "Loading required package: zoo\n",
            "\n",
            "\n",
            "Attaching package: ‘zoo’\n",
            "\n",
            "\n",
            "The following objects are masked from ‘package:base’:\n",
            "\n",
            "    as.Date, as.Date.numeric\n",
            "\n",
            "\n",
            "\n",
            "Attaching package: ‘xts’\n",
            "\n",
            "\n",
            "The following objects are masked from ‘package:data.table’:\n",
            "\n",
            "    first, last\n",
            "\n",
            "\n",
            "The following objects are masked from ‘package:dplyr’:\n",
            "\n",
            "    first, last\n",
            "\n",
            "\n",
            "Loading required package: TTR\n",
            "\n",
            "Registered S3 method overwritten by 'quantmod':\n",
            "  method            from\n",
            "  as.zoo.data.frame zoo \n",
            "\n",
            "\n",
            "Please cite as: \n",
            "\n",
            "\n",
            " Hlavac, Marek (2022). stargazer: Well-Formatted Regression and Summary Statistics Tables.\n",
            "\n",
            " R package version 5.2.3. https://CRAN.R-project.org/package=stargazer \n",
            "\n",
            "\n",
            "\n",
            "Attaching package: ‘magrittr’\n",
            "\n",
            "\n",
            "The following object is masked from ‘package:purrr’:\n",
            "\n",
            "    set_names\n",
            "\n",
            "\n",
            "The following object is masked from ‘package:tidyr’:\n",
            "\n",
            "    extract\n",
            "\n",
            "\n",
            "Loading required package: pacman\n",
            "\n",
            "Loading required package: sandwich\n",
            "\n",
            "Loading required package: msm\n",
            "\n",
            "\n",
            "Attaching package: ‘plm’\n",
            "\n",
            "\n",
            "The following object is masked from ‘package:data.table’:\n",
            "\n",
            "    between\n",
            "\n",
            "\n",
            "The following objects are masked from ‘package:dplyr’:\n",
            "\n",
            "    between, lag, lead\n",
            "\n",
            "\n"
          ]
        }
      ]
    },
    {
      "cell_type": "code",
      "source": [
        "remotes::install_github(\"higgi13425/medicaldata\")"
      ],
      "metadata": {
        "colab": {
          "base_uri": "https://localhost:8080/"
        },
        "id": "Tat-gwqG7UiH",
        "outputId": "7a53e367-b80a-4999-bda6-1b70edb1f54e"
      },
      "id": "Tat-gwqG7UiH",
      "execution_count": 5,
      "outputs": [
        {
          "output_type": "stream",
          "name": "stderr",
          "text": [
            "Downloading GitHub repo higgi13425/medicaldata@HEAD\n",
            "\n"
          ]
        },
        {
          "output_type": "stream",
          "name": "stdout",
          "text": [
            "* checking for file ‘/tmp/RtmpqFHJGE/remotes375aeca3d9/higgi13425-medicaldata-7b0c9e1/DESCRIPTION’ ... OK\n",
            "* preparing ‘medicaldata’:\n",
            "* checking DESCRIPTION meta-information ... OK\n",
            "* checking for LF line-endings in source and make files and shell scripts\n",
            "* checking for empty or unneeded directories\n",
            "* building ‘medicaldata_0.2.0.9001.tar.gz’\n",
            "\n"
          ]
        },
        {
          "output_type": "stream",
          "name": "stderr",
          "text": [
            "Installing package into ‘/usr/local/lib/R/site-library’\n",
            "(as ‘lib’ is unspecified)\n",
            "\n"
          ]
        }
      ]
    },
    {
      "cell_type": "code",
      "execution_count": 13,
      "id": "e2db138c",
      "metadata": {
        "name": "chunk2",
        "colab": {
          "base_uri": "https://localhost:8080/"
        },
        "id": "e2db138c",
        "outputId": "9db41b72-83dd-4fc4-b145-66b5cb2d630b"
      },
      "outputs": [
        {
          "output_type": "stream",
          "name": "stderr",
          "text": [
            "Your local Internet connection seems to be ok.\n",
            "\n",
            "DataSUS FTP server seems to be up. Starting download...\n",
            "\n"
          ]
        },
        {
          "output_type": "stream",
          "name": "stdout",
          "text": [
            "── Data Summary ────────────────────────\n",
            "                           Values   \n",
            "Name                       cad_saude\n",
            "Number of rows             951437   \n",
            "Number of columns          208      \n",
            "_______________________             \n",
            "Column type frequency:              \n",
            "  factor                   153      \n",
            "  numeric                  55       \n",
            "________________________            \n",
            "Group variables            None     \n",
            "\n",
            "── Variable type: factor ───────────────────────────────────────────────────────\n",
            "    skim_variable n_missing complete_rate ordered n_unique\n",
            "\u001b[90m  1\u001b[39m CNES                  0       1       FALSE      \u001b[4m3\u001b[24m\u001b[4m0\u001b[24m307\n",
            "\u001b[90m  2\u001b[39m CODUFMUN              0       1       FALSE        497\n",
            "\u001b[90m  3\u001b[39m COD_CEP               0       1       FALSE       \u001b[4m4\u001b[24m559\n",
            "\u001b[90m  4\u001b[39m CPF_CNPJ              0       1       FALSE      \u001b[4m2\u001b[24m\u001b[4m4\u001b[24m672\n",
            "\u001b[90m  5\u001b[39m PF_PJ                 0       1       FALSE          2\n",
            "\u001b[90m  6\u001b[39m NIV_DEP               0       1       FALSE          2\n",
            "\u001b[90m  7\u001b[39m CNPJ_MAN              0       1       FALSE        544\n",
            "\u001b[90m  8\u001b[39m COD_IR           \u001b[4m9\u001b[24m\u001b[4m5\u001b[24m\u001b[4m1\u001b[24m437       0       FALSE          0\n",
            "\u001b[90m  9\u001b[39m REGSAUDE         \u001b[4m3\u001b[24m\u001b[4m5\u001b[24m\u001b[4m7\u001b[24m502       0.624   FALSE        197\n",
            "\u001b[90m 10\u001b[39m MICR_REG         \u001b[4m9\u001b[24m\u001b[4m1\u001b[24m\u001b[4m2\u001b[24m369       0.041\u001b[4m1\u001b[24m  FALSE        107\n",
            "\u001b[90m 11\u001b[39m DISTRSAN         \u001b[4m9\u001b[24m\u001b[4m1\u001b[24m\u001b[4m4\u001b[24m917       0.038\u001b[4m4\u001b[24m  FALSE         32\n",
            "\u001b[90m 12\u001b[39m DISTRADM         \u001b[4m9\u001b[24m\u001b[4m4\u001b[24m\u001b[4m9\u001b[24m104       0.002\u001b[4m4\u001b[24m\u001b[4m5\u001b[24m FALSE         17\n",
            "\u001b[90m 13\u001b[39m VINC_SUS              0       1       FALSE          2\n",
            "\u001b[90m 14\u001b[39m TPGESTAO              0       1       FALSE          3\n",
            "\u001b[90m 15\u001b[39m ESFERA_A         \u001b[4m9\u001b[24m\u001b[4m5\u001b[24m\u001b[4m1\u001b[24m437       0       FALSE          0\n",
            "\u001b[90m 16\u001b[39m RETENCAO         \u001b[4m9\u001b[24m\u001b[4m5\u001b[24m\u001b[4m1\u001b[24m437       0       FALSE          0\n",
            "\u001b[90m 17\u001b[39m ATIVIDAD              0       1       FALSE          5\n",
            "\u001b[90m 18\u001b[39m NATUREZA         \u001b[4m9\u001b[24m\u001b[4m5\u001b[24m\u001b[4m1\u001b[24m437       0       FALSE          0\n",
            "\u001b[90m 19\u001b[39m CLIENTEL          \u001b[4m1\u001b[24m\u001b[4m9\u001b[24m768       0.979   FALSE          3\n",
            "\u001b[90m 20\u001b[39m TP_UNID               0       1       FALSE         38\n",
            "\u001b[90m 21\u001b[39m TURNO_AT            932       0.999   FALSE          7\n",
            "\u001b[90m 22\u001b[39m NIV_HIER         \u001b[4m9\u001b[24m\u001b[4m5\u001b[24m\u001b[4m1\u001b[24m437       0       FALSE          0\n",
            "\u001b[90m 23\u001b[39m TP_PREST              0       1       FALSE          1\n",
            "\u001b[90m 24\u001b[39m CO_BANCO         \u001b[4m8\u001b[24m\u001b[4m3\u001b[24m\u001b[4m6\u001b[24m569       0.121   FALSE         82\n",
            "\u001b[90m 25\u001b[39m CO_AGENC         \u001b[4m8\u001b[24m\u001b[4m3\u001b[24m\u001b[4m6\u001b[24m569       0.121   FALSE        828\n",
            "\u001b[90m 26\u001b[39m C_CORREN         \u001b[4m8\u001b[24m\u001b[4m3\u001b[24m\u001b[4m6\u001b[24m569       0.121   FALSE       \u001b[4m3\u001b[24m342\n",
            "\u001b[90m 27\u001b[39m CONTRATM         \u001b[4m9\u001b[24m\u001b[4m5\u001b[24m\u001b[4m1\u001b[24m437       0       FALSE          0\n",
            "\u001b[90m 28\u001b[39m DT_PUBLM         \u001b[4m9\u001b[24m\u001b[4m5\u001b[24m\u001b[4m1\u001b[24m437       0       FALSE          0\n",
            "\u001b[90m 29\u001b[39m CONTRATE         \u001b[4m9\u001b[24m\u001b[4m5\u001b[24m\u001b[4m1\u001b[24m437       0       FALSE          0\n",
            "\u001b[90m 30\u001b[39m DT_PUBLE         \u001b[4m9\u001b[24m\u001b[4m5\u001b[24m\u001b[4m1\u001b[24m437       0       FALSE          0\n",
            "\u001b[90m 31\u001b[39m ALVARA           \u001b[4m2\u001b[24m\u001b[4m5\u001b[24m\u001b[4m7\u001b[24m104       0.730   FALSE      \u001b[4m2\u001b[24m\u001b[4m0\u001b[24m692\n",
            "\u001b[90m 32\u001b[39m DT_EXPED         \u001b[4m2\u001b[24m\u001b[4m5\u001b[24m\u001b[4m6\u001b[24m470       0.730   FALSE       \u001b[4m5\u001b[24m888\n",
            "\u001b[90m 33\u001b[39m ORGEXPED         \u001b[4m2\u001b[24m\u001b[4m4\u001b[24m\u001b[4m6\u001b[24m803       0.741   FALSE          2\n",
            "\u001b[90m 34\u001b[39m AV_ACRED         \u001b[4m9\u001b[24m\u001b[4m5\u001b[24m\u001b[4m1\u001b[24m437       0       FALSE          0\n",
            "\u001b[90m 35\u001b[39m CLASAVAL         \u001b[4m9\u001b[24m\u001b[4m5\u001b[24m\u001b[4m1\u001b[24m437       0       FALSE          0\n",
            "\u001b[90m 36\u001b[39m DT_ACRED         \u001b[4m9\u001b[24m\u001b[4m5\u001b[24m\u001b[4m1\u001b[24m437       0       FALSE          0\n",
            "\u001b[90m 37\u001b[39m AV_PNASS         \u001b[4m9\u001b[24m\u001b[4m5\u001b[24m\u001b[4m1\u001b[24m437       0       FALSE          0\n",
            "\u001b[90m 38\u001b[39m DT_PNASS         \u001b[4m9\u001b[24m\u001b[4m5\u001b[24m\u001b[4m1\u001b[24m437       0       FALSE          0\n",
            "\u001b[90m 39\u001b[39m GESPRG1E              0       1       FALSE          2\n",
            "\u001b[90m 40\u001b[39m GESPRG1M              0       1       FALSE          2\n",
            "\u001b[90m 41\u001b[39m GESPRG2E              0       1       FALSE          2\n",
            "\u001b[90m 42\u001b[39m GESPRG2M              0       1       FALSE          2\n",
            "\u001b[90m 43\u001b[39m GESPRG4E              0       1       FALSE          2\n",
            "\u001b[90m 44\u001b[39m GESPRG4M              0       1       FALSE          2\n",
            "\u001b[90m 45\u001b[39m NIVATE_A              0       1       FALSE          2\n",
            "\u001b[90m 46\u001b[39m GESPRG3E              0       1       FALSE          2\n",
            "\u001b[90m 47\u001b[39m GESPRG3M              0       1       FALSE          2\n",
            "\u001b[90m 48\u001b[39m GESPRG5E              0       1       FALSE          2\n",
            "\u001b[90m 49\u001b[39m GESPRG5M              0       1       FALSE          2\n",
            "\u001b[90m 50\u001b[39m GESPRG6E              0       1       FALSE          2\n",
            "\u001b[90m 51\u001b[39m GESPRG6M              0       1       FALSE          2\n",
            "\u001b[90m 52\u001b[39m NIVATE_H              0       1       FALSE          2\n",
            "\u001b[90m 53\u001b[39m LEITHOSP              0       1       FALSE          2\n",
            "\u001b[90m 54\u001b[39m URGEMERG              0       1       FALSE          2\n",
            "\u001b[90m 55\u001b[39m ATENDAMB              0       1       FALSE          2\n",
            "\u001b[90m 56\u001b[39m CENTRCIR              0       1       FALSE          2\n",
            "\u001b[90m 57\u001b[39m CENTROBS              0       1       FALSE          2\n",
            "\u001b[90m 58\u001b[39m CENTRNEO              0       1       FALSE          2\n",
            "\u001b[90m 59\u001b[39m ATENDHOS              0       1       FALSE          2\n",
            "\u001b[90m 60\u001b[39m SERAP01P              0       1       FALSE          2\n",
            "\u001b[90m 61\u001b[39m SERAP01T              0       1       FALSE          2\n",
            "\u001b[90m 62\u001b[39m SERAP02P              0       1       FALSE          2\n",
            "\u001b[90m 63\u001b[39m SERAP02T              0       1       FALSE          2\n",
            "\u001b[90m 64\u001b[39m SERAP03P              0       1       FALSE          2\n",
            "\u001b[90m 65\u001b[39m SERAP03T              0       1       FALSE          2\n",
            "\u001b[90m 66\u001b[39m SERAP04P              0       1       FALSE          2\n",
            "\u001b[90m 67\u001b[39m SERAP04T              0       1       FALSE          2\n",
            "\u001b[90m 68\u001b[39m SERAP05P              0       1       FALSE          2\n",
            "\u001b[90m 69\u001b[39m SERAP05T              0       1       FALSE          2\n",
            "\u001b[90m 70\u001b[39m SERAP06P              0       1       FALSE          2\n",
            "\u001b[90m 71\u001b[39m SERAP06T              0       1       FALSE          2\n",
            "\u001b[90m 72\u001b[39m SERAP07P              0       1       FALSE          2\n",
            "\u001b[90m 73\u001b[39m SERAP07T              0       1       FALSE          2\n",
            "\u001b[90m 74\u001b[39m SERAP08P              0       1       FALSE          2\n",
            "\u001b[90m 75\u001b[39m SERAP08T              0       1       FALSE          2\n",
            "\u001b[90m 76\u001b[39m SERAP09P              0       1       FALSE          2\n",
            "\u001b[90m 77\u001b[39m SERAP09T              0       1       FALSE          2\n",
            "\u001b[90m 78\u001b[39m SERAP10P              0       1       FALSE          2\n",
            "\u001b[90m 79\u001b[39m SERAP10T              0       1       FALSE          2\n",
            "\u001b[90m 80\u001b[39m SERAP11P              0       1       FALSE          2\n",
            "\u001b[90m 81\u001b[39m SERAP11T              0       1       FALSE          2\n",
            "\u001b[90m 82\u001b[39m SERAPOIO              0       1       FALSE          2\n",
            "\u001b[90m 83\u001b[39m RES_BIOL              0       1       FALSE          2\n",
            "\u001b[90m 84\u001b[39m RES_QUIM              0       1       FALSE          2\n",
            "\u001b[90m 85\u001b[39m RES_RADI              0       1       FALSE          2\n",
            "\u001b[90m 86\u001b[39m RES_COMU              0       1       FALSE          2\n",
            "\u001b[90m 87\u001b[39m COLETRES              0       1       FALSE          2\n",
            "\u001b[90m 88\u001b[39m COMISS01              0       1       FALSE          2\n",
            "\u001b[90m 89\u001b[39m COMISS02              0       1       FALSE          2\n",
            "\u001b[90m 90\u001b[39m COMISS03              0       1       FALSE          2\n",
            "\u001b[90m 91\u001b[39m COMISS04              0       1       FALSE          2\n",
            "\u001b[90m 92\u001b[39m COMISS05              0       1       FALSE          2\n",
            "\u001b[90m 93\u001b[39m COMISS06              0       1       FALSE          2\n",
            "\u001b[90m 94\u001b[39m COMISS07              0       1       FALSE          2\n",
            "\u001b[90m 95\u001b[39m COMISS08              0       1       FALSE          2\n",
            "\u001b[90m 96\u001b[39m COMISS09              0       1       FALSE          2\n",
            "\u001b[90m 97\u001b[39m COMISS10              0       1       FALSE          2\n",
            "\u001b[90m 98\u001b[39m COMISS11              0       1       FALSE          2\n",
            "\u001b[90m 99\u001b[39m COMISS12              0       1       FALSE          2\n",
            "\u001b[90m100\u001b[39m COMISSAO              0       1       FALSE          2\n",
            "\u001b[90m101\u001b[39m AP01CV01              0       1       FALSE          2\n",
            "\u001b[90m102\u001b[39m AP01CV02              0       1       FALSE          2\n",
            "\u001b[90m103\u001b[39m AP01CV05              0       1       FALSE          2\n",
            "\u001b[90m104\u001b[39m AP01CV06              0       1       FALSE          2\n",
            "\u001b[90m105\u001b[39m AP01CV03              0       1       FALSE          1\n",
            "\u001b[90m106\u001b[39m AP01CV04              0       1       FALSE          1\n",
            "\u001b[90m107\u001b[39m AP02CV01              0       1       FALSE          2\n",
            "\u001b[90m108\u001b[39m AP02CV02              0       1       FALSE          2\n",
            "\u001b[90m109\u001b[39m AP02CV05              0       1       FALSE          2\n",
            "\u001b[90m110\u001b[39m AP02CV06              0       1       FALSE          2\n",
            "\u001b[90m111\u001b[39m AP02CV03              0       1       FALSE          1\n",
            "\u001b[90m112\u001b[39m AP02CV04              0       1       FALSE          1\n",
            "\u001b[90m113\u001b[39m AP03CV01              0       1       FALSE          2\n",
            "\u001b[90m114\u001b[39m AP03CV02              0       1       FALSE          2\n",
            "\u001b[90m115\u001b[39m AP03CV05              0       1       FALSE          2\n",
            "\u001b[90m116\u001b[39m AP03CV06              0       1       FALSE          2\n",
            "\u001b[90m117\u001b[39m AP03CV03              0       1       FALSE          1\n",
            "\u001b[90m118\u001b[39m AP03CV04              0       1       FALSE          1\n",
            "\u001b[90m119\u001b[39m AP04CV01              0       1       FALSE          2\n",
            "\u001b[90m120\u001b[39m AP04CV02              0       1       FALSE          2\n",
            "\u001b[90m121\u001b[39m AP04CV05              0       1       FALSE          2\n",
            "\u001b[90m122\u001b[39m AP04CV06              0       1       FALSE          2\n",
            "\u001b[90m123\u001b[39m AP04CV03              0       1       FALSE          1\n",
            "\u001b[90m124\u001b[39m AP04CV04              0       1       FALSE          1\n",
            "\u001b[90m125\u001b[39m AP05CV01              0       1       FALSE          2\n",
            "\u001b[90m126\u001b[39m AP05CV02              0       1       FALSE          2\n",
            "\u001b[90m127\u001b[39m AP05CV05              0       1       FALSE          2\n",
            "\u001b[90m128\u001b[39m AP05CV06              0       1       FALSE          2\n",
            "\u001b[90m129\u001b[39m AP05CV03              0       1       FALSE          1\n",
            "\u001b[90m130\u001b[39m AP05CV04              0       1       FALSE          1\n",
            "\u001b[90m131\u001b[39m AP06CV01              0       1       FALSE          2\n",
            "\u001b[90m132\u001b[39m AP06CV02              0       1       FALSE          2\n",
            "\u001b[90m133\u001b[39m AP06CV05              0       1       FALSE          2\n",
            "\u001b[90m134\u001b[39m AP06CV06              0       1       FALSE          2\n",
            "\u001b[90m135\u001b[39m AP06CV03              0       1       FALSE          1\n",
            "\u001b[90m136\u001b[39m AP06CV04              0       1       FALSE          1\n",
            "\u001b[90m137\u001b[39m AP07CV01              0       1       FALSE          2\n",
            "\u001b[90m138\u001b[39m AP07CV02              0       1       FALSE          2\n",
            "\u001b[90m139\u001b[39m AP07CV05              0       1       FALSE          2\n",
            "\u001b[90m140\u001b[39m AP07CV06              0       1       FALSE          2\n",
            "\u001b[90m141\u001b[39m AP07CV03              0       1       FALSE          1\n",
            "\u001b[90m142\u001b[39m AP07CV04              0       1       FALSE          1\n",
            "\u001b[90m143\u001b[39m ATEND_PR              0       1       FALSE          2\n",
            "\u001b[90m144\u001b[39m DT_ATUAL              0       1       FALSE        188\n",
            "\u001b[90m145\u001b[39m COMPETEN              0       1       FALSE         36\n",
            "\u001b[90m146\u001b[39m NAT_JUR               0       1       FALSE         39\n",
            "\u001b[90m147\u001b[39m AP01CV07         \u001b[4m8\u001b[24m\u001b[4m3\u001b[24m\u001b[4m8\u001b[24m873       0.118   FALSE          2\n",
            "\u001b[90m148\u001b[39m AP02CV07         \u001b[4m8\u001b[24m\u001b[4m3\u001b[24m\u001b[4m8\u001b[24m873       0.118   FALSE          2\n",
            "\u001b[90m149\u001b[39m AP03CV07         \u001b[4m8\u001b[24m\u001b[4m3\u001b[24m\u001b[4m8\u001b[24m873       0.118   FALSE          2\n",
            "\u001b[90m150\u001b[39m AP04CV07         \u001b[4m8\u001b[24m\u001b[4m3\u001b[24m\u001b[4m8\u001b[24m873       0.118   FALSE          2\n",
            "\u001b[90m151\u001b[39m AP05CV07         \u001b[4m8\u001b[24m\u001b[4m3\u001b[24m\u001b[4m8\u001b[24m873       0.118   FALSE          2\n",
            "\u001b[90m152\u001b[39m AP06CV07         \u001b[4m8\u001b[24m\u001b[4m3\u001b[24m\u001b[4m8\u001b[24m873       0.118   FALSE          2\n",
            "\u001b[90m153\u001b[39m AP07CV07         \u001b[4m8\u001b[24m\u001b[4m3\u001b[24m\u001b[4m8\u001b[24m873       0.118   FALSE          2\n",
            "    top_counts                                         \n",
            "\u001b[90m  1\u001b[39m \u001b[90m\"\u001b[39m100: 36, 222: 36, 222: 36, 222: 36\u001b[90m\"\u001b[39m               \n",
            "\u001b[90m  2\u001b[39m \u001b[90m\"\u001b[39m431: 163972, 430: 45923, 431: 33755, 431: 33454\u001b[90m\"\u001b[39m  \n",
            "\u001b[90m  3\u001b[39m \u001b[90m\"\u001b[39m999: 19519, 987: 10338, 958: 10063, 995: 8343\u001b[90m\"\u001b[39m    \n",
            "\u001b[90m  4\u001b[39m \u001b[90m\"\u001b[39m000: 172334, 000: 176, 000: 144, 000: 108\u001b[90m\"\u001b[39m        \n",
            "\u001b[90m  5\u001b[39m \u001b[90m\"\u001b[39m3: 518331, 1: 433106\u001b[90m\"\u001b[39m                             \n",
            "\u001b[90m  6\u001b[39m \u001b[90m\"\u001b[39m1: 777109, 3: 174328\u001b[90m\"\u001b[39m                             \n",
            "\u001b[90m  7\u001b[39m \u001b[90m\"\u001b[39m000: 777109, 929: 9799, 888: 2807, 874: 2759\u001b[90m\"\u001b[39m     \n",
            "\u001b[90m  8\u001b[39m \u001b[90m\"\u001b[39m: \u001b[90m\"\u001b[39m                                               \n",
            "\u001b[90m  9\u001b[39m \u001b[90m\"\u001b[39m001: 93201, 4: 42111, 12: 34453, 005: 32159\u001b[90m\"\u001b[39m      \n",
            "\u001b[90m 10\u001b[39m \u001b[90m\"\u001b[39m25: 4537, 17: 4443, 025: 4174, 26: 2566\u001b[90m\"\u001b[39m          \n",
            "\u001b[90m 11\u001b[39m \u001b[90m\"\u001b[39m16: 21676, 02: 3304, 03: 2929, 15: 1478\u001b[90m\"\u001b[39m          \n",
            "\u001b[90m 12\u001b[39m \u001b[90m\"\u001b[39m001: 1038, 1: 318, 01: 288, 000: 180\u001b[90m\"\u001b[39m             \n",
            "\u001b[90m 13\u001b[39m \u001b[90m\"\u001b[39m0: 703016, 1: 248421\u001b[90m\"\u001b[39m                             \n",
            "\u001b[90m 14\u001b[39m \u001b[90m\"\u001b[39mM: 901652, D: 28795, E: 20990\u001b[90m\"\u001b[39m                    \n",
            "\u001b[90m 15\u001b[39m \u001b[90m\"\u001b[39m: \u001b[90m\"\u001b[39m                                               \n",
            "\u001b[90m 16\u001b[39m \u001b[90m\"\u001b[39m: \u001b[90m\"\u001b[39m                                               \n",
            "\u001b[90m 17\u001b[39m \u001b[90m\"\u001b[39m04: 941797, 03: 6102, 01: 2086, 02: 860\u001b[90m\"\u001b[39m          \n",
            "\u001b[90m 18\u001b[39m \u001b[90m\"\u001b[39m: \u001b[90m\"\u001b[39m                                               \n",
            "\u001b[90m 19\u001b[39m \u001b[90m\"\u001b[39m03: 443758, 01: 437782, 02: 50129\u001b[90m\"\u001b[39m                \n",
            "\u001b[90m 20\u001b[39m \u001b[90m\"\u001b[39m22: 548426, 36: 107508, 39: 90905, 02: 69221\u001b[90m\"\u001b[39m     \n",
            "\u001b[90m 21\u001b[39m \u001b[90m\"\u001b[39m03: 763715, 04: 57374, 02: 53445, 06: 35344\u001b[90m\"\u001b[39m      \n",
            "\u001b[90m 22\u001b[39m \u001b[90m\"\u001b[39m: \u001b[90m\"\u001b[39m                                               \n",
            "\u001b[90m 23\u001b[39m \u001b[90m\"\u001b[39m99: 951437\u001b[90m\"\u001b[39m                                       \n",
            "\u001b[90m 24\u001b[39m \u001b[90m\"\u001b[39m001: 78090, 041: 12905, 748: 2140, 002: 2113\u001b[90m\"\u001b[39m     \n",
            "\u001b[90m 25\u001b[39m \u001b[90m\"\u001b[39m013: 4261, 067: 3320, 018: 2577, 001: 1960\u001b[90m\"\u001b[39m       \n",
            "\u001b[90m 26\u001b[39m \u001b[90m\"\u001b[39m409: 478, 105: 371, 000: 216, 565: 216\u001b[90m\"\u001b[39m           \n",
            "\u001b[90m 27\u001b[39m \u001b[90m\"\u001b[39m: \u001b[90m\"\u001b[39m                                               \n",
            "\u001b[90m 28\u001b[39m \u001b[90m\"\u001b[39m: \u001b[90m\"\u001b[39m                                               \n",
            "\u001b[90m 29\u001b[39m \u001b[90m\"\u001b[39m: \u001b[90m\"\u001b[39m                                               \n",
            "\u001b[90m 30\u001b[39m \u001b[90m\"\u001b[39m: \u001b[90m\"\u001b[39m                                               \n",
            "\u001b[90m 31\u001b[39m \u001b[90m\"\u001b[39mALV: 6301, 000: 4533, ALV: 3850, ALV: 786\u001b[90m\"\u001b[39m        \n",
            "\u001b[90m 32\u001b[39m \u001b[90m\"\u001b[39m200: 4076, 200: 3468, 200: 3403, 200: 3155\u001b[90m\"\u001b[39m       \n",
            "\u001b[90m 33\u001b[39m \u001b[90m\"\u001b[39m2: 648396, 1: 56238\u001b[90m\"\u001b[39m                              \n",
            "\u001b[90m 34\u001b[39m \u001b[90m\"\u001b[39m: \u001b[90m\"\u001b[39m                                               \n",
            "\u001b[90m 35\u001b[39m \u001b[90m\"\u001b[39m: \u001b[90m\"\u001b[39m                                               \n",
            "\u001b[90m 36\u001b[39m \u001b[90m\"\u001b[39m: \u001b[90m\"\u001b[39m                                               \n",
            "\u001b[90m 37\u001b[39m \u001b[90m\"\u001b[39m: \u001b[90m\"\u001b[39m                                               \n",
            "\u001b[90m 38\u001b[39m \u001b[90m\"\u001b[39m: \u001b[90m\"\u001b[39m                                               \n",
            "\u001b[90m 39\u001b[39m \u001b[90m\"\u001b[39m0: 950984, 1: 453\u001b[90m\"\u001b[39m                                \n",
            "\u001b[90m 40\u001b[39m \u001b[90m\"\u001b[39m0: 482465, 1: 468972\u001b[90m\"\u001b[39m                             \n",
            "\u001b[90m 41\u001b[39m \u001b[90m\"\u001b[39m0: 903308, 1: 48129\u001b[90m\"\u001b[39m                              \n",
            "\u001b[90m 42\u001b[39m \u001b[90m\"\u001b[39m1: 606998, 0: 344439\u001b[90m\"\u001b[39m                             \n",
            "\u001b[90m 43\u001b[39m \u001b[90m\"\u001b[39m0: 947054, 1: 4383\u001b[90m\"\u001b[39m                               \n",
            "\u001b[90m 44\u001b[39m \u001b[90m\"\u001b[39m0: 932798, 1: 18639\u001b[90m\"\u001b[39m                              \n",
            "\u001b[90m 45\u001b[39m \u001b[90m\"\u001b[39m1: 940491, 0: 10946\u001b[90m\"\u001b[39m                              \n",
            "\u001b[90m 46\u001b[39m \u001b[90m\"\u001b[39m0: 951351, 1: 86\u001b[90m\"\u001b[39m                                 \n",
            "\u001b[90m 47\u001b[39m \u001b[90m\"\u001b[39m0: 951373, 1: 64\u001b[90m\"\u001b[39m                                 \n",
            "\u001b[90m 48\u001b[39m \u001b[90m\"\u001b[39m0: 944527, 1: 6910\u001b[90m\"\u001b[39m                               \n",
            "\u001b[90m 49\u001b[39m \u001b[90m\"\u001b[39m0: 944666, 1: 6771\u001b[90m\"\u001b[39m                               \n",
            "\u001b[90m 50\u001b[39m \u001b[90m\"\u001b[39m0: 950207, 1: 1230\u001b[90m\"\u001b[39m                               \n",
            "\u001b[90m 51\u001b[39m \u001b[90m\"\u001b[39m0: 948646, 1: 2791\u001b[90m\"\u001b[39m                               \n",
            "\u001b[90m 52\u001b[39m \u001b[90m\"\u001b[39m0: 937305, 1: 14132\u001b[90m\"\u001b[39m                              \n",
            "\u001b[90m 53\u001b[39m \u001b[90m\"\u001b[39m0: 939582, 1: 11855\u001b[90m\"\u001b[39m                              \n",
            "\u001b[90m 54\u001b[39m \u001b[90m\"\u001b[39m0: 917529, 1: 33908\u001b[90m\"\u001b[39m                              \n",
            "\u001b[90m 55\u001b[39m \u001b[90m\"\u001b[39m1: 849926, 0: 101511\u001b[90m\"\u001b[39m                             \n",
            "\u001b[90m 56\u001b[39m \u001b[90m\"\u001b[39m0: 939984, 1: 11453\u001b[90m\"\u001b[39m                              \n",
            "\u001b[90m 57\u001b[39m \u001b[90m\"\u001b[39m0: 941988, 1: 9449\u001b[90m\"\u001b[39m                               \n",
            "\u001b[90m 58\u001b[39m \u001b[90m\"\u001b[39m0: 945782, 1: 5655\u001b[90m\"\u001b[39m                               \n",
            "\u001b[90m 59\u001b[39m \u001b[90m\"\u001b[39m0: 939799, 1: 11638\u001b[90m\"\u001b[39m                              \n",
            "\u001b[90m 60\u001b[39m \u001b[90m\"\u001b[39m0: 804084, 1: 147353\u001b[90m\"\u001b[39m                             \n",
            "\u001b[90m 61\u001b[39m \u001b[90m\"\u001b[39m0: 949853, 1: 1584\u001b[90m\"\u001b[39m                               \n",
            "\u001b[90m 62\u001b[39m \u001b[90m\"\u001b[39m0: 923558, 1: 27879\u001b[90m\"\u001b[39m                              \n",
            "\u001b[90m 63\u001b[39m \u001b[90m\"\u001b[39m0: 949666, 1: 1771\u001b[90m\"\u001b[39m                               \n",
            "\u001b[90m 64\u001b[39m \u001b[90m\"\u001b[39m0: 896440, 1: 54997\u001b[90m\"\u001b[39m                              \n",
            "\u001b[90m 65\u001b[39m \u001b[90m\"\u001b[39m0: 948695, 1: 2742\u001b[90m\"\u001b[39m                               \n",
            "\u001b[90m 66\u001b[39m \u001b[90m\"\u001b[39m0: 888437, 1: 63000\u001b[90m\"\u001b[39m                              \n",
            "\u001b[90m 67\u001b[39m \u001b[90m\"\u001b[39m0: 945122, 1: 6315\u001b[90m\"\u001b[39m                               \n",
            "\u001b[90m 68\u001b[39m \u001b[90m\"\u001b[39m0: 934831, 1: 16606\u001b[90m\"\u001b[39m                              \n",
            "\u001b[90m 69\u001b[39m \u001b[90m\"\u001b[39m0: 948827, 1: 2610\u001b[90m\"\u001b[39m                               \n",
            "\u001b[90m 70\u001b[39m \u001b[90m\"\u001b[39m0: 947881, 1: 3556\u001b[90m\"\u001b[39m                               \n",
            "\u001b[90m 71\u001b[39m \u001b[90m\"\u001b[39m0: 950575, 1: 862\u001b[90m\"\u001b[39m                                \n",
            "\u001b[90m 72\u001b[39m \u001b[90m\"\u001b[39m0: 950731, 1: 706\u001b[90m\"\u001b[39m                                \n",
            "\u001b[90m 73\u001b[39m \u001b[90m\"\u001b[39m0: 950637, 1: 800\u001b[90m\"\u001b[39m                                \n",
            "\u001b[90m 74\u001b[39m \u001b[90m\"\u001b[39m0: 924057, 1: 27380\u001b[90m\"\u001b[39m                              \n",
            "\u001b[90m 75\u001b[39m \u001b[90m\"\u001b[39m0: 937583, 1: 13854\u001b[90m\"\u001b[39m                              \n",
            "\u001b[90m 76\u001b[39m \u001b[90m\"\u001b[39m0: 935561, 1: 15876\u001b[90m\"\u001b[39m                              \n",
            "\u001b[90m 77\u001b[39m \u001b[90m\"\u001b[39m0: 907376, 1: 44061\u001b[90m\"\u001b[39m                              \n",
            "\u001b[90m 78\u001b[39m \u001b[90m\"\u001b[39m0: 918245, 1: 33192\u001b[90m\"\u001b[39m                              \n",
            "\u001b[90m 79\u001b[39m \u001b[90m\"\u001b[39m0: 941601, 1: 9836\u001b[90m\"\u001b[39m                               \n",
            "\u001b[90m 80\u001b[39m \u001b[90m\"\u001b[39m0: 943527, 1: 7910\u001b[90m\"\u001b[39m                               \n",
            "\u001b[90m 81\u001b[39m \u001b[90m\"\u001b[39m0: 950061, 1: 1376\u001b[90m\"\u001b[39m                               \n",
            "\u001b[90m 82\u001b[39m \u001b[90m\"\u001b[39m0: 743717, 1: 207720\u001b[90m\"\u001b[39m                             \n",
            "\u001b[90m 83\u001b[39m \u001b[90m\"\u001b[39m0: 651015, 1: 300422\u001b[90m\"\u001b[39m                             \n",
            "\u001b[90m 84\u001b[39m \u001b[90m\"\u001b[39m0: 838466, 1: 112971\u001b[90m\"\u001b[39m                             \n",
            "\u001b[90m 85\u001b[39m \u001b[90m\"\u001b[39m0: 936085, 1: 15352\u001b[90m\"\u001b[39m                              \n",
            "\u001b[90m 86\u001b[39m \u001b[90m\"\u001b[39m1: 737998, 0: 213439\u001b[90m\"\u001b[39m                             \n",
            "\u001b[90m 87\u001b[39m \u001b[90m\"\u001b[39m1: 778382, 0: 173055\u001b[90m\"\u001b[39m                             \n",
            "\u001b[90m 88\u001b[39m \u001b[90m\"\u001b[39m0: 939059, 1: 12378\u001b[90m\"\u001b[39m                              \n",
            "\u001b[90m 89\u001b[39m \u001b[90m\"\u001b[39m0: 946635, 1: 4802\u001b[90m\"\u001b[39m                               \n",
            "\u001b[90m 90\u001b[39m \u001b[90m\"\u001b[39m0: 947117, 1: 4320\u001b[90m\"\u001b[39m                               \n",
            "\u001b[90m 91\u001b[39m \u001b[90m\"\u001b[39m0: 938097, 1: 13340\u001b[90m\"\u001b[39m                              \n",
            "\u001b[90m 92\u001b[39m \u001b[90m\"\u001b[39m0: 948246, 1: 3191\u001b[90m\"\u001b[39m                               \n",
            "\u001b[90m 93\u001b[39m \u001b[90m\"\u001b[39m0: 942217, 1: 9220\u001b[90m\"\u001b[39m                               \n",
            "\u001b[90m 94\u001b[39m \u001b[90m\"\u001b[39m0: 940501, 1: 10936\u001b[90m\"\u001b[39m                              \n",
            "\u001b[90m 95\u001b[39m \u001b[90m\"\u001b[39m0: 946357, 1: 5080\u001b[90m\"\u001b[39m                               \n",
            "\u001b[90m 96\u001b[39m \u001b[90m\"\u001b[39m0: 947113, 1: 4324\u001b[90m\"\u001b[39m                               \n",
            "\u001b[90m 97\u001b[39m \u001b[90m\"\u001b[39m0: 936735, 1: 14702\u001b[90m\"\u001b[39m                              \n",
            "\u001b[90m 98\u001b[39m \u001b[90m\"\u001b[39m0: 925975, 1: 25462\u001b[90m\"\u001b[39m                              \n",
            "\u001b[90m 99\u001b[39m \u001b[90m\"\u001b[39m0: 941787, 1: 9650\u001b[90m\"\u001b[39m                               \n",
            "\u001b[90m100\u001b[39m \u001b[90m\"\u001b[39m0: 909398, 1: 42039\u001b[90m\"\u001b[39m                              \n",
            "\u001b[90m101\u001b[39m \u001b[90m\"\u001b[39m0: 940196, 1: 11241\u001b[90m\"\u001b[39m                              \n",
            "\u001b[90m102\u001b[39m \u001b[90m\"\u001b[39m0: 941262, 1: 10175\u001b[90m\"\u001b[39m                              \n",
            "\u001b[90m103\u001b[39m \u001b[90m\"\u001b[39m0: 947591, 1: 3846\u001b[90m\"\u001b[39m                               \n",
            "\u001b[90m104\u001b[39m \u001b[90m\"\u001b[39m0: 944012, 1: 7425\u001b[90m\"\u001b[39m                               \n",
            "\u001b[90m105\u001b[39m \u001b[90m\"\u001b[39m0: 951437\u001b[90m\"\u001b[39m                                        \n",
            "\u001b[90m106\u001b[39m \u001b[90m\"\u001b[39m0: 951437\u001b[90m\"\u001b[39m                                        \n",
            "\u001b[90m107\u001b[39m \u001b[90m\"\u001b[39m0: 747834, 1: 203603\u001b[90m\"\u001b[39m                             \n",
            "\u001b[90m108\u001b[39m \u001b[90m\"\u001b[39m1: 700487, 0: 250950\u001b[90m\"\u001b[39m                             \n",
            "\u001b[90m109\u001b[39m \u001b[90m\"\u001b[39m0: 803329, 1: 148108\u001b[90m\"\u001b[39m                             \n",
            "\u001b[90m110\u001b[39m \u001b[90m\"\u001b[39m1: 491261, 0: 460176\u001b[90m\"\u001b[39m                             \n",
            "\u001b[90m111\u001b[39m \u001b[90m\"\u001b[39m0: 951437\u001b[90m\"\u001b[39m                                        \n",
            "\u001b[90m112\u001b[39m \u001b[90m\"\u001b[39m0: 951437\u001b[90m\"\u001b[39m                                        \n",
            "\u001b[90m113\u001b[39m \u001b[90m\"\u001b[39m0: 889157, 1: 62280\u001b[90m\"\u001b[39m                              \n",
            "\u001b[90m114\u001b[39m \u001b[90m\"\u001b[39m0: 864825, 1: 86612\u001b[90m\"\u001b[39m                              \n",
            "\u001b[90m115\u001b[39m \u001b[90m\"\u001b[39m0: 935598, 1: 15839\u001b[90m\"\u001b[39m                              \n",
            "\u001b[90m116\u001b[39m \u001b[90m\"\u001b[39m0: 906667, 1: 44770\u001b[90m\"\u001b[39m                              \n",
            "\u001b[90m117\u001b[39m \u001b[90m\"\u001b[39m0: 951437\u001b[90m\"\u001b[39m                                        \n",
            "\u001b[90m118\u001b[39m \u001b[90m\"\u001b[39m0: 951437\u001b[90m\"\u001b[39m                                        \n",
            "\u001b[90m119\u001b[39m \u001b[90m\"\u001b[39m0: 929164, 1: 22273\u001b[90m\"\u001b[39m                              \n",
            "\u001b[90m120\u001b[39m \u001b[90m\"\u001b[39m0: 940625, 1: 10812\u001b[90m\"\u001b[39m                              \n",
            "\u001b[90m121\u001b[39m \u001b[90m\"\u001b[39m0: 948613, 1: 2824\u001b[90m\"\u001b[39m                               \n",
            "\u001b[90m122\u001b[39m \u001b[90m\"\u001b[39m0: 944700, 1: 6737\u001b[90m\"\u001b[39m                               \n",
            "\u001b[90m123\u001b[39m \u001b[90m\"\u001b[39m0: 951437\u001b[90m\"\u001b[39m                                        \n",
            "\u001b[90m124\u001b[39m \u001b[90m\"\u001b[39m0: 951437\u001b[90m\"\u001b[39m                                        \n",
            "\u001b[90m125\u001b[39m \u001b[90m\"\u001b[39m0: 929813, 1: 21624\u001b[90m\"\u001b[39m                              \n",
            "\u001b[90m126\u001b[39m \u001b[90m\"\u001b[39m0: 944502, 1: 6935\u001b[90m\"\u001b[39m                               \n",
            "\u001b[90m127\u001b[39m \u001b[90m\"\u001b[39m0: 950948, 1: 489\u001b[90m\"\u001b[39m                                \n",
            "\u001b[90m128\u001b[39m \u001b[90m\"\u001b[39m0: 950681, 1: 756\u001b[90m\"\u001b[39m                                \n",
            "\u001b[90m129\u001b[39m \u001b[90m\"\u001b[39m0: 951437\u001b[90m\"\u001b[39m                                        \n",
            "\u001b[90m130\u001b[39m \u001b[90m\"\u001b[39m0: 951437\u001b[90m\"\u001b[39m                                        \n",
            "\u001b[90m131\u001b[39m \u001b[90m\"\u001b[39m0: 925274, 1: 26163\u001b[90m\"\u001b[39m                              \n",
            "\u001b[90m132\u001b[39m \u001b[90m\"\u001b[39m0: 950674, 1: 763\u001b[90m\"\u001b[39m                                \n",
            "\u001b[90m133\u001b[39m \u001b[90m\"\u001b[39m0: 951394, 1: 43\u001b[90m\"\u001b[39m                                 \n",
            "\u001b[90m134\u001b[39m \u001b[90m\"\u001b[39m0: 951303, 1: 134\u001b[90m\"\u001b[39m                                \n",
            "\u001b[90m135\u001b[39m \u001b[90m\"\u001b[39m0: 951437\u001b[90m\"\u001b[39m                                        \n",
            "\u001b[90m136\u001b[39m \u001b[90m\"\u001b[39m0: 951437\u001b[90m\"\u001b[39m                                        \n",
            "\u001b[90m137\u001b[39m \u001b[90m\"\u001b[39m0: 940484, 1: 10953\u001b[90m\"\u001b[39m                              \n",
            "\u001b[90m138\u001b[39m \u001b[90m\"\u001b[39m0: 950927, 1: 510\u001b[90m\"\u001b[39m                                \n",
            "\u001b[90m139\u001b[39m \u001b[90m\"\u001b[39m0: 951329, 1: 108\u001b[90m\"\u001b[39m                                \n",
            "\u001b[90m140\u001b[39m \u001b[90m\"\u001b[39m0: 951007, 1: 430\u001b[90m\"\u001b[39m                                \n",
            "\u001b[90m141\u001b[39m \u001b[90m\"\u001b[39m0: 951437\u001b[90m\"\u001b[39m                                        \n",
            "\u001b[90m142\u001b[39m \u001b[90m\"\u001b[39m0: 951437\u001b[90m\"\u001b[39m                                        \n",
            "\u001b[90m143\u001b[39m \u001b[90m\"\u001b[39m1: 950208, 0: 1229\u001b[90m\"\u001b[39m                               \n",
            "\u001b[90m144\u001b[39m \u001b[90m\"\u001b[39m201: 92756, 201: 73967, 201: 58153, 201: 46139\u001b[90m\"\u001b[39m   \n",
            "\u001b[90m145\u001b[39m \u001b[90m\"\u001b[39m202: 28330, 202: 28210, 202: 28094, 202: 27930\u001b[90m\"\u001b[39m   \n",
            "\u001b[90m146\u001b[39m \u001b[90m\"\u001b[39m400: 433108, 206: 176621, 124: 167468, 224: 66272\u001b[90m\"\u001b[39m\n",
            "\u001b[90m147\u001b[39m \u001b[90m\"\u001b[39m0: 112560, 1: 4\u001b[90m\"\u001b[39m                                  \n",
            "\u001b[90m148\u001b[39m \u001b[90m\"\u001b[39m0: 112178, 1: 386\u001b[90m\"\u001b[39m                                \n",
            "\u001b[90m149\u001b[39m \u001b[90m\"\u001b[39m0: 112514, 1: 50\u001b[90m\"\u001b[39m                                 \n",
            "\u001b[90m150\u001b[39m \u001b[90m\"\u001b[39m0: 112556, 1: 8\u001b[90m\"\u001b[39m                                  \n",
            "\u001b[90m151\u001b[39m \u001b[90m\"\u001b[39m0: 112432, 1: 132\u001b[90m\"\u001b[39m                                \n",
            "\u001b[90m152\u001b[39m \u001b[90m\"\u001b[39m0: 112560, 1: 4\u001b[90m\"\u001b[39m                                  \n",
            "\u001b[90m153\u001b[39m \u001b[90m\"\u001b[39m0: 112560, 1: 4\u001b[90m\"\u001b[39m                                  \n",
            "\n",
            "── Variable type: numeric ──────────────────────────────────────────────────────\n",
            "   skim_variable n_missing complete_rate    mean     sd p0 p25 p50 p75 p100\n",
            "\u001b[90m 1\u001b[39m QTLEITP1              0             1 0.267   4.98    0   0   0   0  356\n",
            "\u001b[90m 2\u001b[39m QTLEITP2              0             1 0.496   6.80    0   0   0   0  528\n",
            "\u001b[90m 3\u001b[39m QTLEITP3              0             1 0.132   3.02    0   0   0   0  283\n",
            "\u001b[90m 4\u001b[39m QTINST01              0             1 0.005\u001b[4m0\u001b[24m\u001b[4m7\u001b[24m 0.119   0   0   0   0    8\n",
            "\u001b[90m 5\u001b[39m QTINST02              0             1 0.001\u001b[4m7\u001b[24m\u001b[4m4\u001b[24m 0.045\u001b[4m0\u001b[24m  0   0   0   0    3\n",
            "\u001b[90m 6\u001b[39m QTINST03              0             1 0.001\u001b[4m5\u001b[24m\u001b[4m8\u001b[24m 0.046\u001b[4m6\u001b[24m  0   0   0   0    3\n",
            "\u001b[90m 7\u001b[39m QTINST04              0             1 0.026\u001b[4m1\u001b[24m  0.286   0   0   0   0   28\n",
            "\u001b[90m 8\u001b[39m QTINST05              0             1 0.004\u001b[4m7\u001b[24m\u001b[4m8\u001b[24m 0.083\u001b[4m1\u001b[24m  0   0   0   0   13\n",
            "\u001b[90m 9\u001b[39m QTINST06              0             1 0.003\u001b[4m4\u001b[24m\u001b[4m3\u001b[24m 0.070\u001b[4m2\u001b[24m  0   0   0   0    4\n",
            "\u001b[90m10\u001b[39m QTINST07              0             1 0.003\u001b[4m7\u001b[24m\u001b[4m5\u001b[24m 0.074\u001b[4m2\u001b[24m  0   0   0   0    4\n",
            "\u001b[90m11\u001b[39m QTINST08              0             1 0.017\u001b[4m7\u001b[24m  0.326   0   0   0   0   43\n",
            "\u001b[90m12\u001b[39m QTINST09              0             1 0.009\u001b[4m5\u001b[24m\u001b[4m6\u001b[24m 0.146   0   0   0   0    8\n",
            "\u001b[90m13\u001b[39m QTINST10              0             1 0.010\u001b[4m2\u001b[24m  0.120   0   0   0   0    5\n",
            "\u001b[90m14\u001b[39m QTINST11              0             1 0.006\u001b[4m7\u001b[24m\u001b[4m3\u001b[24m 0.114   0   0   0   0   10\n",
            "\u001b[90m15\u001b[39m QTINST12              0             1 0.012\u001b[4m8\u001b[24m  0.136   0   0   0   0    5\n",
            "\u001b[90m16\u001b[39m QTINST13              0             1 0.009\u001b[4m0\u001b[24m\u001b[4m1\u001b[24m 0.108   0   0   0   0    3\n",
            "\u001b[90m17\u001b[39m QTINST14              0             1 0.046\u001b[4m4\u001b[24m  0.466   0   0   0   0   26\n",
            "\u001b[90m18\u001b[39m QTINST15              0             1 0.504   1.18    0   0   0   1   64\n",
            "\u001b[90m19\u001b[39m QTINST16              0             1 0.434   1.63    0   0   0   1  120\n",
            "\u001b[90m20\u001b[39m QTINST17              0             1 0.129   1.10    0   0   0   0   96\n",
            "\u001b[90m21\u001b[39m QTINST18              0             1 0.330   1.05    0   0   0   0   35\n",
            "\u001b[90m22\u001b[39m QTINST19              0             1 0.006\u001b[4m5\u001b[24m\u001b[4m1\u001b[24m 0.173   0   0   0   0   26\n",
            "\u001b[90m23\u001b[39m QTINST20              0             1 0.006\u001b[4m0\u001b[24m\u001b[4m4\u001b[24m 0.107   0   0   0   0    7\n",
            "\u001b[90m24\u001b[39m QTINST21              0             1 0.004\u001b[4m5\u001b[24m\u001b[4m6\u001b[24m 0.078\u001b[4m5\u001b[24m  0   0   0   0    5\n",
            "\u001b[90m25\u001b[39m QTINST22              0             1 0.047\u001b[4m1\u001b[24m  0.349   0   0   0   0   31\n",
            "\u001b[90m26\u001b[39m QTINST23              0             1 0.290   1.24    0   0   0   0  130\n",
            "\u001b[90m27\u001b[39m QTINST24              0             1 0.024\u001b[4m2\u001b[24m  0.214   0   0   0   0   18\n",
            "\u001b[90m28\u001b[39m QTINST25              0             1 0.118   0.431   0   0   0   0   15\n",
            "\u001b[90m29\u001b[39m QTINST26              0             1 0.087\u001b[4m0\u001b[24m  0.302   0   0   0   0   14\n",
            "\u001b[90m30\u001b[39m QTINST27              0             1 0.054\u001b[4m3\u001b[24m  0.254   0   0   0   0   13\n",
            "\u001b[90m31\u001b[39m QTINST28              0             1 0.012\u001b[4m5\u001b[24m  0.146   0   0   0   0   10\n",
            "\u001b[90m32\u001b[39m QTINST29              0             1 0.095\u001b[4m5\u001b[24m  0.321   0   0   0   0   12\n",
            "\u001b[90m33\u001b[39m QTINST30              0             1 0.018\u001b[4m7\u001b[24m  0.200   0   0   0   0   16\n",
            "\u001b[90m34\u001b[39m QTINST31              0             1 0.037\u001b[4m6\u001b[24m  0.580   0   0   0   0   60\n",
            "\u001b[90m35\u001b[39m QTINST32              0             1 0.014\u001b[4m5\u001b[24m  0.360   0   0   0   0   62\n",
            "\u001b[90m36\u001b[39m QTINST33              0             1 0.006\u001b[4m3\u001b[24m\u001b[4m9\u001b[24m 0.123   0   0   0   0    9\n",
            "\u001b[90m37\u001b[39m QTINST34              0             1 0.011\u001b[4m2\u001b[24m  0.147   0   0   0   0    8\n",
            "\u001b[90m38\u001b[39m QTINST35              0             1 0.011\u001b[4m3\u001b[24m  0.128   0   0   0   0    6\n",
            "\u001b[90m39\u001b[39m QTINST36              0             1 0.003\u001b[4m1\u001b[24m\u001b[4m8\u001b[24m 0.059\u001b[4m5\u001b[24m  0   0   0   0    3\n",
            "\u001b[90m40\u001b[39m QTINST37              0             1 0.004\u001b[4m8\u001b[24m\u001b[4m5\u001b[24m 0.107   0   0   0   0   13\n",
            "\u001b[90m41\u001b[39m QTLEIT05              0             1 0.017\u001b[4m7\u001b[24m  0.348   0   0   0   0   40\n",
            "\u001b[90m42\u001b[39m QTLEIT06              0             1 0.011\u001b[4m0\u001b[24m  0.229   0   0   0   0   12\n",
            "\u001b[90m43\u001b[39m QTLEIT07              0             1 0.011\u001b[4m6\u001b[24m  0.253   0   0   0   0   18\n",
            "\u001b[90m44\u001b[39m QTLEIT08              0             1 0.055\u001b[4m9\u001b[24m  0.925   0   0   0   0   99\n",
            "\u001b[90m45\u001b[39m QTLEIT09              0             1 0.004\u001b[4m0\u001b[24m\u001b[4m0\u001b[24m 0.109   0   0   0   0   10\n",
            "\u001b[90m46\u001b[39m QTLEIT19              0             1 0.013\u001b[4m7\u001b[24m  0.325   0   0   0   0   30\n",
            "\u001b[90m47\u001b[39m QTLEIT20              0             1 0.014\u001b[4m5\u001b[24m  0.420   0   0   0   0   42\n",
            "\u001b[90m48\u001b[39m QTLEIT21              0             1 0.007\u001b[4m8\u001b[24m\u001b[4m2\u001b[24m 0.174   0   0   0   0   11\n",
            "\u001b[90m49\u001b[39m QTLEIT22              0             1 0.070\u001b[4m6\u001b[24m  0.768   0   0   0   0   94\n",
            "\u001b[90m50\u001b[39m QTLEIT23              0             1 0.004\u001b[4m8\u001b[24m\u001b[4m5\u001b[24m 0.085\u001b[4m6\u001b[24m  0   0   0   0    5\n",
            "\u001b[90m51\u001b[39m QTLEIT32              0             1 0.066\u001b[4m9\u001b[24m  1.27    0   0   0   0  131\n",
            "\u001b[90m52\u001b[39m QTLEIT34              0             1 0.018\u001b[4m4\u001b[24m  0.283   0   0   0   0   39\n",
            "\u001b[90m53\u001b[39m QTLEIT38              0             1 0.008\u001b[4m2\u001b[24m\u001b[4m1\u001b[24m 0.337   0   0   0   0   37\n",
            "\u001b[90m54\u001b[39m QTLEIT39              0             1 0.007\u001b[4m9\u001b[24m\u001b[4m4\u001b[24m 0.295   0   0   0   0   27\n",
            "\u001b[90m55\u001b[39m QTLEIT40              0             1 0.063\u001b[4m4\u001b[24m  1.18    0   0   0   0   66\n",
            "   hist \n",
            "\u001b[90m 1\u001b[39m ▇▁▁▁▁\n",
            "\u001b[90m 2\u001b[39m ▇▁▁▁▁\n",
            "\u001b[90m 3\u001b[39m ▇▁▁▁▁\n",
            "\u001b[90m 4\u001b[39m ▇▁▁▁▁\n",
            "\u001b[90m 5\u001b[39m ▇▁▁▁▁\n",
            "\u001b[90m 6\u001b[39m ▇▁▁▁▁\n",
            "\u001b[90m 7\u001b[39m ▇▁▁▁▁\n",
            "\u001b[90m 8\u001b[39m ▇▁▁▁▁\n",
            "\u001b[90m 9\u001b[39m ▇▁▁▁▁\n",
            "\u001b[90m10\u001b[39m ▇▁▁▁▁\n",
            "\u001b[90m11\u001b[39m ▇▁▁▁▁\n",
            "\u001b[90m12\u001b[39m ▇▁▁▁▁\n",
            "\u001b[90m13\u001b[39m ▇▁▁▁▁\n",
            "\u001b[90m14\u001b[39m ▇▁▁▁▁\n",
            "\u001b[90m15\u001b[39m ▇▁▁▁▁\n",
            "\u001b[90m16\u001b[39m ▇▁▁▁▁\n",
            "\u001b[90m17\u001b[39m ▇▁▁▁▁\n",
            "\u001b[90m18\u001b[39m ▇▁▁▁▁\n",
            "\u001b[90m19\u001b[39m ▇▁▁▁▁\n",
            "\u001b[90m20\u001b[39m ▇▁▁▁▁\n",
            "\u001b[90m21\u001b[39m ▇▁▁▁▁\n",
            "\u001b[90m22\u001b[39m ▇▁▁▁▁\n",
            "\u001b[90m23\u001b[39m ▇▁▁▁▁\n",
            "\u001b[90m24\u001b[39m ▇▁▁▁▁\n",
            "\u001b[90m25\u001b[39m ▇▁▁▁▁\n",
            "\u001b[90m26\u001b[39m ▇▁▁▁▁\n",
            "\u001b[90m27\u001b[39m ▇▁▁▁▁\n",
            "\u001b[90m28\u001b[39m ▇▁▁▁▁\n",
            "\u001b[90m29\u001b[39m ▇▁▁▁▁\n",
            "\u001b[90m30\u001b[39m ▇▁▁▁▁\n",
            "\u001b[90m31\u001b[39m ▇▁▁▁▁\n",
            "\u001b[90m32\u001b[39m ▇▁▁▁▁\n",
            "\u001b[90m33\u001b[39m ▇▁▁▁▁\n",
            "\u001b[90m34\u001b[39m ▇▁▁▁▁\n",
            "\u001b[90m35\u001b[39m ▇▁▁▁▁\n",
            "\u001b[90m36\u001b[39m ▇▁▁▁▁\n",
            "\u001b[90m37\u001b[39m ▇▁▁▁▁\n",
            "\u001b[90m38\u001b[39m ▇▁▁▁▁\n",
            "\u001b[90m39\u001b[39m ▇▁▁▁▁\n",
            "\u001b[90m40\u001b[39m ▇▁▁▁▁\n",
            "\u001b[90m41\u001b[39m ▇▁▁▁▁\n",
            "\u001b[90m42\u001b[39m ▇▁▁▁▁\n",
            "\u001b[90m43\u001b[39m ▇▁▁▁▁\n",
            "\u001b[90m44\u001b[39m ▇▁▁▁▁\n",
            "\u001b[90m45\u001b[39m ▇▁▁▁▁\n",
            "\u001b[90m46\u001b[39m ▇▁▁▁▁\n",
            "\u001b[90m47\u001b[39m ▇▁▁▁▁\n",
            "\u001b[90m48\u001b[39m ▇▁▁▁▁\n",
            "\u001b[90m49\u001b[39m ▇▁▁▁▁\n",
            "\u001b[90m50\u001b[39m ▇▁▁▁▁\n",
            "\u001b[90m51\u001b[39m ▇▁▁▁▁\n",
            "\u001b[90m52\u001b[39m ▇▁▁▁▁\n",
            "\u001b[90m53\u001b[39m ▇▁▁▁▁\n",
            "\u001b[90m54\u001b[39m ▇▁▁▁▁\n",
            "\u001b[90m55\u001b[39m ▇▁▁▁▁\n"
          ]
        },
        {
          "output_type": "stream",
          "name": "stderr",
          "text": [
            "Warning message in is.null(text_repr) || nchar(text_repr) == 0L:\n",
            "“'length(x) = 2 > 1' in coercion to 'logical(1)'”\n"
          ]
        }
      ],
      "source": [
        "#################\n",
        "##  IMPORTANDO BASE DE DADOS -webscrapping\n",
        "#################\n",
        "#demorado porque o pacote analisa a base de dados toda. Entretanto, o dataframe terá dados dos estabelecimentos de saúde com no mínimo uma leito hospitalar no municipio selecionado (Porto Alegre) e\n",
        "cad_saude <- fetch_datasus(year_start = 2018, month_start=1, year_end = 2020, month_end=12, uf = \"RS\", information_system = \"CNES-ST\")\n",
        "skim(cad_saude)\n",
        "cad_saude <- cad_saude %>% filter( CODUFMUN == \"431490\" & QTLEITP1 >= \"1\" ) %>% \n",
        "  select(\"CNES\", \"VINC_SUS\", \"TPGESTAO\", \"QTLEITP1\", \"QTLEITP2\", \"CODUFMUN\", \"DT_ATUAL\", \"COMPETEN\")\n",
        "\n",
        "cad_saude <- process_cnes(cad_saude, information_system = \"CNES-ST\", nomes= TRUE, municipality_data = TRUE)\n",
        "\n"
      ]
    },
    {
      "cell_type": "code",
      "source": [
        "table(cad_saude$COMPETEN)#tabela de numero de observacoes\n",
        "\n",
        "\n"
      ],
      "metadata": {
        "colab": {
          "base_uri": "https://localhost:8080/",
          "height": 173
        },
        "id": "JSIu1EnOEXhJ",
        "outputId": "de7b8324-0925-4de9-dda5-7de01bb3e915"
      },
      "id": "JSIu1EnOEXhJ",
      "execution_count": 14,
      "outputs": [
        {
          "output_type": "display_data",
          "data": {
            "text/plain": [
              "\n",
              "201801 201802 201803 201804 201805 201806 201807 201808 201809 201810 201811 \n",
              "    22     22     22     22     22     22     23     23     23     23     24 \n",
              "201812 201901 201902 201903 201904 201905 201906 201907 201908 201909 201910 \n",
              "    24     24     24     24     24     24     24     24     24     24     24 \n",
              "201911 201912 202001 202002 202003 202004 202005 202006 202007 202008 202009 \n",
              "    24     24     24     24     24     24     24     24     24     24     24 \n",
              "202010 202011 202012 \n",
              "    24     24     24 "
            ]
          },
          "metadata": {}
        }
      ]
    },
    {
      "cell_type": "markdown",
      "source": [
        "Preparando para o merge - data"
      ],
      "metadata": {
        "id": "bj5VIOUpFLJN"
      },
      "id": "bj5VIOUpFLJN"
    },
    {
      "cell_type": "code",
      "source": [
        "#####obter ano e mes - note que o formato original não era adequado para uso de yearmon, strptime e year(lubridate)\n",
        "################\n",
        "\n",
        "cad_saude$COMPETEN <- as.character(cad_saude$COMPETEN)\n",
        "#####obter ano e mes - note que o formato original não era adequado para uso de yearmon, strptime e year(lubridate)\n",
        "cad_saude$ano <- str_sub(cad_saude$COMPETEN, 0, 4)\n",
        "cad_saude$mes <- str_sub(cad_saude$COMPETEN, -2)\n",
        "cad_saude$mes.nasc <- cad_saude$mes\n",
        "cad_saude$Ano.nasc <- cad_saude$ano\n",
        "cad_saude$Ano.nasc <- as.factor(cad_saude$Ano.nasc)\n",
        "cad_saude$mes.nasc <- as.factor(cad_saude$mes.nasc)\n",
        "###gerando artificialmente uma data \n",
        "cad_saude$dia = \"31\"\n",
        "\n",
        "#cad_saude %>%\n",
        "cad_saude$datacompleta <-  paste(cad_saude$dia, cad_saude$mes, cad_saude$ano, sep = '-')\n",
        "cad_saude <- cad_saude%>%\n",
        "  mutate(datacompleta = as.Date(datacompleta))\n",
        "class(cad_saude$datacompleta)\n"
      ],
      "metadata": {
        "colab": {
          "base_uri": "https://localhost:8080/",
          "height": 34
        },
        "id": "EajFeWX3E1La",
        "outputId": "4571cf99-194b-4dbf-dcc1-7eece4d31000"
      },
      "id": "EajFeWX3E1La",
      "execution_count": 15,
      "outputs": [
        {
          "output_type": "display_data",
          "data": {
            "text/html": [
              "'Date'"
            ],
            "text/markdown": "'Date'",
            "text/latex": "'Date'",
            "text/plain": [
              "[1] \"Date\""
            ]
          },
          "metadata": {}
        }
      ]
    },
    {
      "cell_type": "code",
      "source": [
        "cad_saude$CODESTAB <- cad_saude$CNES_integer\n",
        "cad_saude <- cad_saude%>%\n",
        "  mutate(CODESTAB = as.factor(CODESTAB))\n"
      ],
      "metadata": {
        "id": "NrSEAUpkFUt0"
      },
      "id": "NrSEAUpkFUt0",
      "execution_count": 16,
      "outputs": []
    },
    {
      "cell_type": "code",
      "source": [
        "####salvando bd2\n",
        "save(cad_saude, file = \"cadastro saude Porto Alegre.RData\") #salvando em formato R\n",
        "write.table(cad_saude, file = \"cadastro saude Porto Alegre.csv\", sep =\",\", na=\"\", quote= TRUE, row.names = FALSE) #salvando em formato csv\n",
        "#############################\n",
        "\n",
        "\n",
        "####################################################################################################\n",
        "#### BANCO DE DADOS 2: CADASTRO DE ESTABELECIMENTOS DE SAUDE\n"
      ],
      "metadata": {
        "id": "77JFi2yyFoSa"
      },
      "id": "77JFi2yyFoSa",
      "execution_count": 17,
      "outputs": []
    },
    {
      "cell_type": "markdown",
      "id": "eadd5ccd",
      "metadata": {
        "id": "eadd5ccd"
      },
      "source": [
        "Agora você deve fazer a junção dos dois arquivos (sinasc e cnes). "
      ]
    }
  ],
  "metadata": {
    "celltoolbar": "Edit Metadata",
    "jupytext": {
      "formats": "ipynb,Rmd"
    },
    "kernelspec": {
      "display_name": "R",
      "language": "R",
      "name": "ir"
    },
    "language_info": {
      "codemirror_mode": "r",
      "file_extension": ".r",
      "mimetype": "text/x-r-source",
      "name": "R",
      "pygments_lexer": "r",
      "version": "4.0.5"
    },
    "substitutions": {
      "ISLPmod": "`ISLP`",
      "Rlang": "`R`",
      "mpl": "`matplotlib`",
      "numpy": "`numpy`",
      "pandas": "`pandas`",
      "pylang": "`python`",
      "smlib": "`statsmodels`"
    },
    "colab": {
      "provenance": [],
      "collapsed_sections": [],
      "include_colab_link": true
    }
  },
  "nbformat": 4,
  "nbformat_minor": 5
}