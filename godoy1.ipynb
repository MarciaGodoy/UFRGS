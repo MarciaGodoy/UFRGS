{
  "cells": [
    {
      "cell_type": "markdown",
      "metadata": {
        "id": "view-in-github",
        "colab_type": "text"
      },
      "source": [
        "<a href=\"https://colab.research.google.com/github/MarciaGodoy/UFRGS/blob/main/godoy1.ipynb\" target=\"_parent\"><img src=\"https://colab.research.google.com/assets/colab-badge.svg\" alt=\"Open In Colab\"/></a>"
      ]
    },
    {
      "cell_type": "markdown",
      "source": [
        "**Machine** **Learning** **aplicado** **à** **saúde**"
      ],
      "metadata": {
        "id": "l_ebHKyw2qXm"
      },
      "id": "l_ebHKyw2qXm"
    },
    {
      "cell_type": "markdown",
      "id": "0dd0ebdc",
      "metadata": {
        "id": "0dd0ebdc"
      },
      "source": [
        "# Base de dados 1: SINASC\n",
        "OBJETIVO: identificar as caracteristicas(features) associadas ao tipo de parto e/ou baixo peso ao nascer. \n",
        "METODOLOGIA: \n",
        "a) Bases de dados utilizadas: \n",
        "1) O Sistema de Informações sobre Nascidos Vivos (SINASC) foi implantado oficialmente a partir de 1990, com o objetivo de coletar dados sobre os nascimentos ocorridos em todo o território nacional e fornece os microdados de todos os nascimentos. Os dados são desidentificados para não permitir a identificação da parturiente e recem-nascido. \n",
        "\n",
        "2) Cadastro Nacional de Estabelecimentos de Saúde (CNES)\n",
        "\n",
        "b) Métodos de estimação: regressão logistica, gradiente boosting, KNN\n",
        "\n",
        "\n",
        "Unidade geografica analisada: Porto Alegre - RS\n",
        "período dos dados: 01-2018 a 12-2020\n",
        "\n"
      ]
    },
    {
      "cell_type": "markdown",
      "source": [
        "\n",
        "DESCRIÇÃO DA BASE DE DADOS: O Sistema de Informações sobre Nascidos Vivos (Sinasc), foi implantado em 1990, com o objetivo de coletar dados sobre os nascimentos informados em todo território nacional e fornecer dados sobre natalidade para todos os níveis do Sistema de Saúde. \n",
        "O SINASC contém dados socioeconômicos, local de residência e ocorrência, anomalias congênitas, parto e pré natal e estão disponíveis os microdados de 1996 a 2020.\n",
        "\n",
        "ASPECTOS DA BASE DE DADOS: No período analisado nasceram 405.385 bebês no Rio Grande do Sul. Na capital gaúcha, Porto Alegre foram registrados 80.634 nascimentos, sendo que aS mães de 49.421 nascidos vivos residiam na cidade. Foram excluídos os dados de recém-nascidos oriundos de outras cidades, pois a gravidade dos casos enviados à capital pode viesar a análise. \n",
        "\n",
        "\n",
        "O dicionário das variaveis está disponível [aqui](https://opendatasus.saude.gov.br/dataset/sistema-de-informacao-sobre-nascidos-vivos-sinasc-1996-a-2020)\n"
      ],
      "metadata": {
        "id": "vxjkjCteUNgG"
      },
      "id": "vxjkjCteUNgG"
    },
    {
      "cell_type": "code",
      "execution_count": 135,
      "id": "12824bc2",
      "metadata": {
        "lines_to_next_cell": 2,
        "name": "chunk1",
        "id": "12824bc2"
      },
      "outputs": [],
      "source": [
        "###Rotina em R\n",
        "# usando pacote microdatasus (SALDANHA et al, 2019)\n",
        "\n",
        "######################################################################################\n",
        "##############################  INICIAL  #############################################\n",
        "######################################################################################\n",
        "# PACOTE UTILIZADO PARA DOWNLOAD E PRÉ-PROCESSAMENTO DE DADOS\n",
        "# \"Microdatasus: pacote para download e pré-processamento de microdados do Departamento de Informática do SUS (DATASUS)\"\n",
        "#cff-version: 1.2.0\n",
        "#message: \"If you use this software, please cite it as below.\"\n",
        "#authors:\n",
        "#- family-names: \"Saldanha\"\n",
        "#  given-names: \"Raphael de Freitas\"\n",
        "#  orcid: \"http://orcid.org/0000-0003-0652-8466\"\n",
        "#- family-names: \"Bastos\"\n",
        "#  given-names: \"Ronaldo Rocha\"\n",
        "#  orcid: \"http://orcid.org/0000-0001-9597-5967\"\n",
        "#- family-names: \"Barcellos\"\n",
        "#  given-names: \"Christovam\"\n",
        "#  orcid: \"http://orcid.org/0000-0002-1161-2753\"\n",
        "#title: \"Microdatasus: pacote para download e pré-processamento de microdados do Departamento de Informática do SUS (DATASUS)\"\n",
        "#version: 1.0.0\n",
        "#doi: 10.1590/0102-311X00032419\n",
        "#date-released: 2019-09-16\n",
        "#url: \"http://ref.scielo.org/dhcq3y\"\n"
      ]
    },
    {
      "cell_type": "markdown",
      "source": [
        "# **WEB** **SCRAPPING**"
      ],
      "metadata": {
        "id": "_5S_CGsMIn-Y"
      },
      "id": "_5S_CGsMIn-Y"
    },
    {
      "cell_type": "markdown",
      "id": "0bd054ec",
      "metadata": {
        "id": "0bd054ec"
      },
      "source": [
        "## Instalação de bibliotecas necessárias"
      ]
    },
    {
      "cell_type": "markdown",
      "source": [
        "Essa etapa é demorada. Assim, retire os pacotes não essenciais. "
      ],
      "metadata": {
        "id": "wyt_UxbbJSpL"
      },
      "id": "wyt_UxbbJSpL"
    },
    {
      "cell_type": "code",
      "source": [
        "####################\n",
        "##INSTALAR PACOTES\n",
        "install.packages(\"read.dbc\")\n",
        "install.packages(\"devtools\")\n",
        "devtools::install_github(\"rfsaldanha/microdatasus\")\n",
        "install.packages(\"remotes\")\n",
        "#remotes::install_github(\"rfsaldanha/microdatasus\") # apenas 1 vez na maquina\n",
        "\n",
        "\n",
        "###################\n"
      ],
      "metadata": {
        "colab": {
          "base_uri": "https://localhost:8080/"
        },
        "id": "L4cpf0-n4hTJ",
        "outputId": "c2252440-440d-4ecc-ecf3-f4ba664aa642"
      },
      "id": "L4cpf0-n4hTJ",
      "execution_count": 136,
      "outputs": [
        {
          "output_type": "stream",
          "name": "stderr",
          "text": [
            "Installing package into ‘/usr/local/lib/R/site-library’\n",
            "(as ‘lib’ is unspecified)\n",
            "\n",
            "Installing package into ‘/usr/local/lib/R/site-library’\n",
            "(as ‘lib’ is unspecified)\n",
            "\n",
            "also installing the dependencies ‘textshaping’, ‘ragg’, ‘pkgdown’\n",
            "\n",
            "\n",
            "Warning message in install.packages(\"devtools\"):\n",
            "“installation of package ‘textshaping’ had non-zero exit status”\n",
            "Warning message in install.packages(\"devtools\"):\n",
            "“installation of package ‘ragg’ had non-zero exit status”\n",
            "Warning message in install.packages(\"devtools\"):\n",
            "“installation of package ‘pkgdown’ had non-zero exit status”\n",
            "Warning message in install.packages(\"devtools\"):\n",
            "“installation of package ‘devtools’ had non-zero exit status”\n",
            "Skipping install of 'microdatasus' from a github remote, the SHA1 (959bdf10) has not changed since last install.\n",
            "  Use `force = TRUE` to force installation\n",
            "\n",
            "Installing package into ‘/usr/local/lib/R/site-library’\n",
            "(as ‘lib’ is unspecified)\n",
            "\n"
          ]
        }
      ]
    },
    {
      "cell_type": "code",
      "source": [
        "install.packages(c(\"dplyr\", \"stringr\", \"rio\", \"read.dbc\", \"readxl\", \"writexl\", \"data.table\"))"
      ],
      "metadata": {
        "colab": {
          "base_uri": "https://localhost:8080/"
        },
        "id": "VafnQ8U48By5",
        "outputId": "6df1068b-1a08-4f14-bd44-e0e4e63d0cef"
      },
      "id": "VafnQ8U48By5",
      "execution_count": 137,
      "outputs": [
        {
          "output_type": "stream",
          "name": "stderr",
          "text": [
            "Installing packages into ‘/usr/local/lib/R/site-library’\n",
            "(as ‘lib’ is unspecified)\n",
            "\n"
          ]
        }
      ]
    },
    {
      "cell_type": "code",
      "source": [
        "install.packages(c(\"tydiverse\", \"tidyr\", \"dplyr\", \"lubridate\"))"
      ],
      "metadata": {
        "colab": {
          "base_uri": "https://localhost:8080/"
        },
        "id": "wwAEKiNP8bD9",
        "outputId": "ea3c5f25-fb2c-4563-d1cc-96d71db09379"
      },
      "id": "wwAEKiNP8bD9",
      "execution_count": 138,
      "outputs": [
        {
          "output_type": "stream",
          "name": "stderr",
          "text": [
            "Installing packages into ‘/usr/local/lib/R/site-library’\n",
            "(as ‘lib’ is unspecified)\n",
            "\n",
            "Warning message:\n",
            "“package ‘tydiverse’ is not available for this version of R\n",
            "\n",
            "A version of this package for your version of R might be available elsewhere,\n",
            "see the ideas at\n",
            "https://cran.r-project.org/doc/manuals/r-patched/R-admin.html#Installing-packages”\n"
          ]
        }
      ]
    },
    {
      "cell_type": "code",
      "source": [
        "#install.packages(c(\"gtsummary\", \"gt\", \"gmodels\", \"ggplot2\", \"plm\"))"
      ],
      "metadata": {
        "id": "cQvpsdgy84JT"
      },
      "id": "cQvpsdgy84JT",
      "execution_count": 139,
      "outputs": []
    },
    {
      "cell_type": "code",
      "source": [
        "#install.packages(c(, \"caret\", \"xgboost\", \"glmnet\", \"rpart\", \"Matrix\", \"quantmod\"))"
      ],
      "metadata": {
        "id": "pwvmThts9OP1"
      },
      "id": "pwvmThts9OP1",
      "execution_count": 140,
      "outputs": []
    },
    {
      "cell_type": "code",
      "source": [
        "install.packages(c(\"lattice\", \"fastDummies\", \"stargazer\", \"skimr\", \"magrittr\"))"
      ],
      "metadata": {
        "colab": {
          "base_uri": "https://localhost:8080/"
        },
        "id": "X2PPwG7q9r-t",
        "outputId": "d6cf4e7e-2803-4dd1-d69b-8df16708d34d"
      },
      "id": "X2PPwG7q9r-t",
      "execution_count": 141,
      "outputs": [
        {
          "output_type": "stream",
          "name": "stderr",
          "text": [
            "Installing packages into ‘/usr/local/lib/R/site-library’\n",
            "(as ‘lib’ is unspecified)\n",
            "\n"
          ]
        }
      ]
    },
    {
      "cell_type": "code",
      "source": [
        "install.packages(c(\"zoo\", \"pacman\", \"sandwich\", \"recipes\", \"msm\" ))"
      ],
      "metadata": {
        "colab": {
          "base_uri": "https://localhost:8080/"
        },
        "id": "_0tjqy2A-G1L",
        "outputId": "f3851391-450d-4694-8031-46bf05909283"
      },
      "id": "_0tjqy2A-G1L",
      "execution_count": 142,
      "outputs": [
        {
          "output_type": "stream",
          "name": "stderr",
          "text": [
            "Installing packages into ‘/usr/local/lib/R/site-library’\n",
            "(as ‘lib’ is unspecified)\n",
            "\n"
          ]
        }
      ]
    },
    {
      "cell_type": "markdown",
      "source": [
        "# Carregandos os pacotes necessários"
      ],
      "metadata": {
        "id": "syUFdJf2Jlbm"
      },
      "id": "syUFdJf2Jlbm"
    },
    {
      "cell_type": "code",
      "source": [
        "# carregando os pacotes \n",
        "library(rio) # importar base de dados de diferentes extensoes\n",
        "library(read.dbc)#ler arquivos sus\n",
        "library(readxl)#ler excel\n",
        "library(writexl)#salvar excel\n",
        "library(tidyr) # comando replace_na\n",
        "library(dplyr) # manipular base de dados usando %>%\n",
        "library(lubridate) # trabalhar com data\n",
        "library(gtsummary) # tabelas\n",
        "#library(gt) # nota de rodapé na tabela\n",
        "library(gmodels)#tabelas\n",
        "library(ggplot2) # graficos\n",
        "library(devtools)\n",
        "library(tidyverse)\n",
        "library(data.table)\n",
        "#library(caret)#KNN , CLASSIFICAÇÃO\n",
        "#library(xgboost) #classificacao\n",
        "#library(glmnet)\n",
        "library(rpart)\n",
        "library(Matrix)\n",
        "library(quantmod)\n",
        "library(lattice)\n",
        "library(microdatasus) #pacote de extracao de dados do datasus\n",
        "library(fastDummies) \n",
        "library(stargazer)\n",
        "library(skimr)#faz resumo das variaveis\n",
        "library(stringr) #para trabalhar com texto, caracteres , extracao \n",
        "library(magrittr)\n",
        "library(zoo)\n",
        "if (!require(\"pacman\")) install.packages(\"pacman\")\n",
        "pacman::p_load(recipes) \n",
        "library(recipes)\n",
        "require(sandwich)\n",
        "require(msm)\n",
        "#library(plm)\n",
        "\n"
      ],
      "metadata": {
        "id": "Zx6msOSb43sS"
      },
      "id": "Zx6msOSb43sS",
      "execution_count": 143,
      "outputs": []
    },
    {
      "cell_type": "markdown",
      "source": [
        "Definindo diretório de trabalho na máquina"
      ],
      "metadata": {
        "id": "kjWkaUIZWSF_"
      },
      "id": "kjWkaUIZWSF_"
    },
    {
      "cell_type": "code",
      "execution_count": 144,
      "id": "e2db138c",
      "metadata": {
        "name": "chunk2",
        "colab": {
          "base_uri": "https://localhost:8080/"
        },
        "id": "e2db138c",
        "outputId": "a62c55ce-c7e2-4ca2-abcf-e59fc8a9dbad"
      },
      "outputs": [
        {
          "output_type": "stream",
          "name": "stderr",
          "text": [
            "Your local Internet connection seems to be ok.\n",
            "\n",
            "DataSUS FTP server seems to be up. Starting download...\n",
            "\n"
          ]
        }
      ],
      "source": [
        "\n",
        "#################\n",
        "##  IMPORTANDO BASE DE DADOS -webscrapping\n",
        "#################\n",
        "dados <- fetch_datasus(year_start = 2018, year_end = 2020, uf = \"RS\", information_system = \"SINASC\")\n",
        "\n",
        "\n",
        "\n"
      ]
    },
    {
      "cell_type": "markdown",
      "source": [
        "Cuidado> veja a formatação das datas \n",
        "estrutura =  ddmmaaaa ; format = \"%d%m%YY\n",
        "\n",
        "dados$DTNASC[1:10] # ddmmaaaa\n",
        " verifique formato de data"
      ],
      "metadata": {
        "id": "lfZdlL2mW4-S"
      },
      "id": "lfZdlL2mW4-S"
    },
    {
      "cell_type": "code",
      "source": [
        "str(dados)"
      ],
      "metadata": {
        "colab": {
          "base_uri": "https://localhost:8080/"
        },
        "id": "dp-rK2ZyXvla",
        "outputId": "a69e5ce2-4d03-45f8-9ff5-f48fd26d7db7"
      },
      "id": "dp-rK2ZyXvla",
      "execution_count": 145,
      "outputs": [
        {
          "output_type": "stream",
          "name": "stdout",
          "text": [
            "'data.frame':\t405385 obs. of  61 variables:\n",
            " $ ORIGEM    : Factor w/ 2 levels \"1\",\"2\": 1 1 1 1 1 1 1 1 1 1 ...\n",
            " $ CODESTAB  : Factor w/ 526 levels \"0000296\",\"2058391\",..: 278 244 298 306 310 10 290 9 234 284 ...\n",
            " $ CODMUNNASC: Factor w/ 408 levels \"110004\",\"170950\",..: 2 3 4 5 6 7 8 9 10 10 ...\n",
            " $ LOCNASC   : Factor w/ 5 levels \"1\",\"2\",\"3\",\"4\",..: 1 1 1 1 1 1 1 1 1 1 ...\n",
            " $ IDADEMAE  : Factor w/ 49 levels \"11\",\"12\",\"13\",..: 10 18 28 23 21 7 25 7 21 33 ...\n",
            " $ ESTCIVMAE : Factor w/ 6 levels \"1\",\"2\",\"3\",\"4\",..: 5 1 1 5 1 1 2 1 1 5 ...\n",
            " $ ESCMAE    : Factor w/ 6 levels \"1\",\"2\",\"3\",\"4\",..: 4 5 5 4 3 4 5 3 5 5 ...\n",
            " $ CODOCUPMAE: Factor w/ 1482 levels \"010205\",\"010210\",..: 1113 266 363 1091 1113 1113 269 NA 152 269 ...\n",
            " $ QTDFILVIVO: Factor w/ 17 levels \"00\",\"01\",\"02\",..: 3 1 2 2 3 1 1 1 1 1 ...\n",
            " $ QTDFILMORT: Factor w/ 14 levels \"00\",\"01\",\"02\",..: 1 1 NA NA 1 1 1 1 1 1 ...\n",
            " $ CODMUNRES : Factor w/ 497 levels \"430003\",\"430005\",..: 193 440 326 96 485 62 163 103 365 326 ...\n",
            " $ GESTACAO  : Factor w/ 6 levels \"1\",\"2\",\"3\",\"4\",..: 5 5 5 5 5 5 5 4 1 5 ...\n",
            " $ GRAVIDEZ  : Factor w/ 4 levels \"1\",\"2\",\"3\",\"9\": 1 1 1 1 1 1 1 1 2 1 ...\n",
            " $ PARTO     : Factor w/ 3 levels \"1\",\"2\",\"9\": 1 2 2 1 2 2 2 2 1 2 ...\n",
            " $ CONSULTAS : Factor w/ 5 levels \"1\",\"2\",\"3\",\"4\",..: 3 4 4 4 5 4 4 3 2 4 ...\n",
            " $ DTNASC    : Factor w/ 1096 levels \"01012018\",\"01022018\",..: 206 124 85 62 193 220 3 359 205 99 ...\n",
            " $ HORANASC  : Factor w/ 1441 levels \"0000\",\"0001\",..: 411 201 899 423 299 1267 458 628 1016 462 ...\n",
            " $ SEXO      : Factor w/ 3 levels \"0\",\"1\",\"2\": 3 3 3 3 3 2 3 3 3 2 ...\n",
            " $ APGAR1    : Factor w/ 12 levels \"00\",\"01\",\"02\",..: 10 7 10 10 2 4 10 9 2 11 ...\n",
            " $ APGAR5    : Factor w/ 12 levels \"00\",\"01\",\"02\",..: 11 9 11 11 6 9 11 10 6 11 ...\n",
            " $ RACACOR   : Factor w/ 5 levels \"1\",\"2\",\"3\",\"4\",..: 4 4 NA 4 2 1 1 4 1 1 ...\n",
            " $ PESO      : Factor w/ 3125 levels \"0250\",\"0260\",..: 1465 325 1412 2008 475 808 1486 1112 33 1466 ...\n",
            " $ IDANOMAL  : Factor w/ 3 levels \"1\",\"2\",\"9\": 2 2 NA 2 2 2 2 NA 2 2 ...\n",
            " $ DTCADASTRO: Factor w/ 1144 levels \"01012007\",\"01012019\",..: 264 201 73 57 284 433 127 125 19 360 ...\n",
            " $ CODANOMAL : Factor w/ 815 levels \"D180\",\"D180Q039\",..: NA NA NA NA NA NA NA NA NA NA ...\n",
            " $ NUMEROLOTE: Factor w/ 325 levels \"20180001\",\"20180002\",..: 35 15 4 10 4 139 5 3 24 54 ...\n",
            " $ VERSAOSIST: Factor w/ 4 levels \"3.2.00\",\"3.2.01\",..: 1 2 2 2 1 2 2 2 2 2 ...\n",
            " $ DTRECEBIM : Factor w/ 930 levels \"01022018\",\"01022019\",..: 259 174 280 79 319 389 172 235 58 324 ...\n",
            " $ DIFDATA   : Factor w/ 734 levels \"000\",\"001\",\"002\",..: 242 2 43 60 6 526 12 17 19 14 ...\n",
            " $ DTRECORIGA: Factor w/ 0 levels: NA NA NA NA NA NA NA NA NA NA ...\n",
            " $ NATURALMAE: Factor w/ 27 levels \"811\",\"812\",\"813\",..: 8 8 23 15 23 17 17 26 19 23 ...\n",
            " $ CODMUNNATU: Factor w/ 2566 levels \"110000\",\"110001\",..: 135 147 1427 386 1583 521 518 1691 612 1108 ...\n",
            " $ CODUFNATU : Factor w/ 27 levels \"11\",\"12\",\"13\",..: 8 8 23 15 23 17 17 26 19 23 ...\n",
            " $ ESCMAE2010: Factor w/ 7 levels \"0\",\"1\",\"2\",\"3\",..: 4 6 5 4 3 4 6 3 6 6 ...\n",
            " $ SERIESCMAE: Factor w/ 8 levels \"1\",\"2\",\"3\",\"4\",..: 1 NA NA NA NA 2 NA 7 NA NA ...\n",
            " $ DTNASCMAE : Factor w/ 12373 levels \"01011972\",\"01011973\",..: 1667 9627 2671 10519 1624 1638 6180 396 9653 6050 ...\n",
            " $ RACACORMAE: Factor w/ 5 levels \"1\",\"2\",\"3\",\"4\",..: 4 4 NA 4 2 1 1 4 1 1 ...\n",
            " $ QTDGESTANT: Factor w/ 18 levels \"00\",\"01\",\"02\",..: 3 1 2 2 3 1 1 1 1 1 ...\n",
            " $ QTDPARTNOR: Factor w/ 17 levels \"00\",\"01\",\"02\",..: 1 1 NA 2 3 1 1 1 1 1 ...\n",
            " $ QTDPARTCES: Factor w/ 14 levels \"00\",\"01\",\"02\",..: 3 1 2 NA 1 1 1 1 1 1 ...\n",
            " $ IDADEPAI  : Factor w/ 81 levels \"14\",\"15\",\"16\",..: 30 NA NA NA NA NA 19 NA 16 31 ...\n",
            " $ DTULTMENST: Factor w/ 1194 levels \"01012018\",\"01022018\",..: NA 268 170 NA NA NA NA 445 301 387 ...\n",
            " $ SEMAGESTAC: Factor w/ 27 levels \"19\",\"20\",\"21\",..: 21 20 20 22 22 19 21 16 3 22 ...\n",
            " $ TPMETESTIM: Factor w/ 4 levels \"1\",\"2\",\"8\",\"9\": 4 3 3 4 1 2 2 3 3 3 ...\n",
            " $ CONSPRENAT: Factor w/ 45 levels \"00\",\"01\",\"02\",..: 7 8 9 8 41 9 11 6 3 13 ...\n",
            " $ MESPRENAT : Factor w/ 10 levels \"01\",\"02\",\"03\",..: 3 2 2 4 10 1 1 3 2 2 ...\n",
            " $ TPAPRESENT: Factor w/ 4 levels \"1\",\"2\",\"3\",\"9\": 1 2 1 1 2 1 1 1 1 1 ...\n",
            " $ STTRABPART: Factor w/ 3 levels \"1\",\"2\",\"9\": 2 2 2 1 2 2 2 2 2 1 ...\n",
            " $ STCESPARTO: Factor w/ 4 levels \"1\",\"2\",\"3\",\"9\": 3 2 1 3 2 2 2 1 3 2 ...\n",
            " $ TPNASCASSI: Factor w/ 5 levels \"1\",\"2\",\"3\",\"4\",..: 1 1 1 1 1 1 1 1 1 1 ...\n",
            " $ TPFUNCRESP: Factor w/ 6 levels \"0\",\"1\",\"2\",\"3\",..: 3 6 3 3 3 3 3 3 6 5 ...\n",
            " $ TPDOCRESP : Factor w/ 6 levels \"0\",\"1\",\"2\",\"3\",..: 4 6 4 4 4 4 4 1 5 6 ...\n",
            " $ DTDECLARAC: Factor w/ 1108 levels \"01012018\",\"01012019\",..: 215 132 92 67 201 241 17 16 226 119 ...\n",
            " $ ESCMAEAGR1: Factor w/ 13 levels \"00\",\"01\",\"02\",..: 6 9 8 13 12 6 9 4 9 9 ...\n",
            " $ STDNEPIDEM: Factor w/ 1 level \"0\": 1 1 1 1 1 1 1 1 1 1 ...\n",
            " $ STDNNOVA  : Factor w/ 2 levels \"0\",\"1\": 2 2 2 2 2 2 2 2 2 2 ...\n",
            " $ CODPAISRES: Factor w/ 1 level \"1\": 1 1 1 1 1 1 1 1 1 1 ...\n",
            " $ TPROBSON  : Factor w/ 11 levels \"01\",\"02\",\"03\",..: 5 6 5 4 7 1 1 10 8 2 ...\n",
            " $ PARIDADE  : Factor w/ 2 levels \"0\",\"1\": 2 1 2 2 2 1 1 1 1 1 ...\n",
            " $ KOTELCHUCK: Factor w/ 6 levels \"1\",\"2\",\"3\",\"4\",..: 4 5 5 2 6 5 5 3 2 5 ...\n",
            " $ CONTADOR  : Factor w/ 362447 levels \"1076417\",\"1087577\",..: 72843 72846 72858 140040 140041 140042 140043 140044 140045 140046 ...\n",
            " - attr(*, \"data_types\")= chr [1:61] \"C\" \"C\" \"C\" \"C\" ...\n"
          ]
        }
      ]
    },
    {
      "cell_type": "markdown",
      "source": [
        "# **PRÉ-PROCESSAMENTO**"
      ],
      "metadata": {
        "id": "84Fzqzr5EkHk"
      },
      "id": "84Fzqzr5EkHk"
    },
    {
      "cell_type": "code",
      "source": [
        "head(dados, n = 10) #apresenta as primeiras linhas do objeto\n",
        "\n"
      ],
      "metadata": {
        "id": "NrSEAUpkFUt0",
        "colab": {
          "base_uri": "https://localhost:8080/",
          "height": 432
        },
        "outputId": "c79f6c58-6ba7-483d-9965-798a397f43f0"
      },
      "id": "NrSEAUpkFUt0",
      "execution_count": 146,
      "outputs": [
        {
          "output_type": "display_data",
          "data": {
            "text/html": [
              "<table class=\"dataframe\">\n",
              "<caption>A data.frame: 10 × 61</caption>\n",
              "<thead>\n",
              "\t<tr><th></th><th scope=col>ORIGEM</th><th scope=col>CODESTAB</th><th scope=col>CODMUNNASC</th><th scope=col>LOCNASC</th><th scope=col>IDADEMAE</th><th scope=col>ESTCIVMAE</th><th scope=col>ESCMAE</th><th scope=col>CODOCUPMAE</th><th scope=col>QTDFILVIVO</th><th scope=col>QTDFILMORT</th><th scope=col>⋯</th><th scope=col>TPDOCRESP</th><th scope=col>DTDECLARAC</th><th scope=col>ESCMAEAGR1</th><th scope=col>STDNEPIDEM</th><th scope=col>STDNNOVA</th><th scope=col>CODPAISRES</th><th scope=col>TPROBSON</th><th scope=col>PARIDADE</th><th scope=col>KOTELCHUCK</th><th scope=col>CONTADOR</th></tr>\n",
              "\t<tr><th></th><th scope=col>&lt;fct&gt;</th><th scope=col>&lt;fct&gt;</th><th scope=col>&lt;fct&gt;</th><th scope=col>&lt;fct&gt;</th><th scope=col>&lt;fct&gt;</th><th scope=col>&lt;fct&gt;</th><th scope=col>&lt;fct&gt;</th><th scope=col>&lt;fct&gt;</th><th scope=col>&lt;fct&gt;</th><th scope=col>&lt;fct&gt;</th><th scope=col>⋯</th><th scope=col>&lt;fct&gt;</th><th scope=col>&lt;fct&gt;</th><th scope=col>&lt;fct&gt;</th><th scope=col>&lt;fct&gt;</th><th scope=col>&lt;fct&gt;</th><th scope=col>&lt;fct&gt;</th><th scope=col>&lt;fct&gt;</th><th scope=col>&lt;fct&gt;</th><th scope=col>&lt;fct&gt;</th><th scope=col>&lt;fct&gt;</th></tr>\n",
              "</thead>\n",
              "<tbody>\n",
              "\t<tr><th scope=row>1</th><td>1</td><td>2786109</td><td>170950</td><td>1</td><td>20</td><td>5</td><td>4</td><td>999992</td><td>02</td><td>00</td><td>⋯</td><td>3</td><td>18022018</td><td>05</td><td>0</td><td>1</td><td>1</td><td>05</td><td>1</td><td>4</td><td>147442</td></tr>\n",
              "\t<tr><th scope=row>2</th><td>1</td><td>2452383</td><td>210530</td><td>1</td><td>28</td><td>1</td><td>5</td><td>239415</td><td>00</td><td>00</td><td>⋯</td><td>5</td><td>11042018</td><td>08</td><td>0</td><td>1</td><td>1</td><td>06</td><td>0</td><td>5</td><td>178325</td></tr>\n",
              "\t<tr><th scope=row>3</th><td>1</td><td>3242587</td><td>230440</td><td>1</td><td>38</td><td>1</td><td>5</td><td>262105</td><td>01</td><td>NA</td><td>⋯</td><td>3</td><td>08012018</td><td>07</td><td>0</td><td>1</td><td>1</td><td>05</td><td>1</td><td>5</td><td>255500</td></tr>\n",
              "\t<tr><th scope=row>4</th><td>1</td><td>3559629</td><td>280570</td><td>1</td><td>33</td><td>5</td><td>4</td><td>862150</td><td>01</td><td>NA</td><td>⋯</td><td>3</td><td>06022018</td><td>12</td><td>0</td><td>1</td><td>1</td><td>04</td><td>1</td><td>2</td><td>476589</td></tr>\n",
              "\t<tr><th scope=row>5</th><td>1</td><td>3956369</td><td>292740</td><td>1</td><td>31</td><td>1</td><td>3</td><td>999992</td><td>02</td><td>00</td><td>⋯</td><td>3</td><td>17012018</td><td>11</td><td>0</td><td>1</td><td>1</td><td>07</td><td>1</td><td>9</td><td>551906</td></tr>\n",
              "\t<tr><th scope=row>6</th><td>1</td><td>2143852</td><td>310510</td><td>1</td><td>17</td><td>1</td><td>4</td><td>999992</td><td>00</td><td>00</td><td>⋯</td><td>3</td><td>20042018</td><td>05</td><td>0</td><td>1</td><td>1</td><td>01</td><td>0</td><td>5</td><td>589402</td></tr>\n",
              "\t<tr><th scope=row>7</th><td>1</td><td>3019063</td><td>313670</td><td>1</td><td>35</td><td>2</td><td>5</td><td>241005</td><td>00</td><td>00</td><td>⋯</td><td>3</td><td>02032018</td><td>08</td><td>0</td><td>1</td><td>1</td><td>01</td><td>0</td><td>5</td><td>657667</td></tr>\n",
              "\t<tr><th scope=row>8</th><td>1</td><td>2100754</td><td>314700</td><td>1</td><td>17</td><td>1</td><td>3</td><td>NA    </td><td>00</td><td>00</td><td>⋯</td><td>0</td><td>02022018</td><td>03</td><td>0</td><td>1</td><td>1</td><td>10</td><td>0</td><td>3</td><td>679981</td></tr>\n",
              "\t<tr><th scope=row>9</th><td>1</td><td>2270021</td><td>330455</td><td>1</td><td>31</td><td>1</td><td>5</td><td>223115</td><td>00</td><td>00</td><td>⋯</td><td>4</td><td>19012018</td><td>08</td><td>0</td><td>1</td><td>1</td><td>08</td><td>0</td><td>2</td><td>819542</td></tr>\n",
              "\t<tr><th scope=row>10</th><td>1</td><td>2814188</td><td>330455</td><td>1</td><td>43</td><td>5</td><td>5</td><td>241005</td><td>00</td><td>00</td><td>⋯</td><td>5</td><td>10032018</td><td>08</td><td>0</td><td>1</td><td>1</td><td>02</td><td>0</td><td>5</td><td>832391</td></tr>\n",
              "</tbody>\n",
              "</table>\n"
            ],
            "text/markdown": "\nA data.frame: 10 × 61\n\n| <!--/--> | ORIGEM &lt;fct&gt; | CODESTAB &lt;fct&gt; | CODMUNNASC &lt;fct&gt; | LOCNASC &lt;fct&gt; | IDADEMAE &lt;fct&gt; | ESTCIVMAE &lt;fct&gt; | ESCMAE &lt;fct&gt; | CODOCUPMAE &lt;fct&gt; | QTDFILVIVO &lt;fct&gt; | QTDFILMORT &lt;fct&gt; | ⋯ ⋯ | TPDOCRESP &lt;fct&gt; | DTDECLARAC &lt;fct&gt; | ESCMAEAGR1 &lt;fct&gt; | STDNEPIDEM &lt;fct&gt; | STDNNOVA &lt;fct&gt; | CODPAISRES &lt;fct&gt; | TPROBSON &lt;fct&gt; | PARIDADE &lt;fct&gt; | KOTELCHUCK &lt;fct&gt; | CONTADOR &lt;fct&gt; |\n|---|---|---|---|---|---|---|---|---|---|---|---|---|---|---|---|---|---|---|---|---|---|\n| 1 | 1 | 2786109 | 170950 | 1 | 20 | 5 | 4 | 999992 | 02 | 00 | ⋯ | 3 | 18022018 | 05 | 0 | 1 | 1 | 05 | 1 | 4 | 147442 |\n| 2 | 1 | 2452383 | 210530 | 1 | 28 | 1 | 5 | 239415 | 00 | 00 | ⋯ | 5 | 11042018 | 08 | 0 | 1 | 1 | 06 | 0 | 5 | 178325 |\n| 3 | 1 | 3242587 | 230440 | 1 | 38 | 1 | 5 | 262105 | 01 | NA | ⋯ | 3 | 08012018 | 07 | 0 | 1 | 1 | 05 | 1 | 5 | 255500 |\n| 4 | 1 | 3559629 | 280570 | 1 | 33 | 5 | 4 | 862150 | 01 | NA | ⋯ | 3 | 06022018 | 12 | 0 | 1 | 1 | 04 | 1 | 2 | 476589 |\n| 5 | 1 | 3956369 | 292740 | 1 | 31 | 1 | 3 | 999992 | 02 | 00 | ⋯ | 3 | 17012018 | 11 | 0 | 1 | 1 | 07 | 1 | 9 | 551906 |\n| 6 | 1 | 2143852 | 310510 | 1 | 17 | 1 | 4 | 999992 | 00 | 00 | ⋯ | 3 | 20042018 | 05 | 0 | 1 | 1 | 01 | 0 | 5 | 589402 |\n| 7 | 1 | 3019063 | 313670 | 1 | 35 | 2 | 5 | 241005 | 00 | 00 | ⋯ | 3 | 02032018 | 08 | 0 | 1 | 1 | 01 | 0 | 5 | 657667 |\n| 8 | 1 | 2100754 | 314700 | 1 | 17 | 1 | 3 | NA     | 00 | 00 | ⋯ | 0 | 02022018 | 03 | 0 | 1 | 1 | 10 | 0 | 3 | 679981 |\n| 9 | 1 | 2270021 | 330455 | 1 | 31 | 1 | 5 | 223115 | 00 | 00 | ⋯ | 4 | 19012018 | 08 | 0 | 1 | 1 | 08 | 0 | 2 | 819542 |\n| 10 | 1 | 2814188 | 330455 | 1 | 43 | 5 | 5 | 241005 | 00 | 00 | ⋯ | 5 | 10032018 | 08 | 0 | 1 | 1 | 02 | 0 | 5 | 832391 |\n\n",
            "text/latex": "A data.frame: 10 × 61\n\\begin{tabular}{r|lllllllllllllllllllll}\n  & ORIGEM & CODESTAB & CODMUNNASC & LOCNASC & IDADEMAE & ESTCIVMAE & ESCMAE & CODOCUPMAE & QTDFILVIVO & QTDFILMORT & ⋯ & TPDOCRESP & DTDECLARAC & ESCMAEAGR1 & STDNEPIDEM & STDNNOVA & CODPAISRES & TPROBSON & PARIDADE & KOTELCHUCK & CONTADOR\\\\\n  & <fct> & <fct> & <fct> & <fct> & <fct> & <fct> & <fct> & <fct> & <fct> & <fct> & ⋯ & <fct> & <fct> & <fct> & <fct> & <fct> & <fct> & <fct> & <fct> & <fct> & <fct>\\\\\n\\hline\n\t1 & 1 & 2786109 & 170950 & 1 & 20 & 5 & 4 & 999992 & 02 & 00 & ⋯ & 3 & 18022018 & 05 & 0 & 1 & 1 & 05 & 1 & 4 & 147442\\\\\n\t2 & 1 & 2452383 & 210530 & 1 & 28 & 1 & 5 & 239415 & 00 & 00 & ⋯ & 5 & 11042018 & 08 & 0 & 1 & 1 & 06 & 0 & 5 & 178325\\\\\n\t3 & 1 & 3242587 & 230440 & 1 & 38 & 1 & 5 & 262105 & 01 & NA & ⋯ & 3 & 08012018 & 07 & 0 & 1 & 1 & 05 & 1 & 5 & 255500\\\\\n\t4 & 1 & 3559629 & 280570 & 1 & 33 & 5 & 4 & 862150 & 01 & NA & ⋯ & 3 & 06022018 & 12 & 0 & 1 & 1 & 04 & 1 & 2 & 476589\\\\\n\t5 & 1 & 3956369 & 292740 & 1 & 31 & 1 & 3 & 999992 & 02 & 00 & ⋯ & 3 & 17012018 & 11 & 0 & 1 & 1 & 07 & 1 & 9 & 551906\\\\\n\t6 & 1 & 2143852 & 310510 & 1 & 17 & 1 & 4 & 999992 & 00 & 00 & ⋯ & 3 & 20042018 & 05 & 0 & 1 & 1 & 01 & 0 & 5 & 589402\\\\\n\t7 & 1 & 3019063 & 313670 & 1 & 35 & 2 & 5 & 241005 & 00 & 00 & ⋯ & 3 & 02032018 & 08 & 0 & 1 & 1 & 01 & 0 & 5 & 657667\\\\\n\t8 & 1 & 2100754 & 314700 & 1 & 17 & 1 & 3 & NA     & 00 & 00 & ⋯ & 0 & 02022018 & 03 & 0 & 1 & 1 & 10 & 0 & 3 & 679981\\\\\n\t9 & 1 & 2270021 & 330455 & 1 & 31 & 1 & 5 & 223115 & 00 & 00 & ⋯ & 4 & 19012018 & 08 & 0 & 1 & 1 & 08 & 0 & 2 & 819542\\\\\n\t10 & 1 & 2814188 & 330455 & 1 & 43 & 5 & 5 & 241005 & 00 & 00 & ⋯ & 5 & 10032018 & 08 & 0 & 1 & 1 & 02 & 0 & 5 & 832391\\\\\n\\end{tabular}\n",
            "text/plain": [
              "   ORIGEM CODESTAB CODMUNNASC LOCNASC IDADEMAE ESTCIVMAE ESCMAE CODOCUPMAE\n",
              "1  1      2786109  170950     1       20       5         4      999992    \n",
              "2  1      2452383  210530     1       28       1         5      239415    \n",
              "3  1      3242587  230440     1       38       1         5      262105    \n",
              "4  1      3559629  280570     1       33       5         4      862150    \n",
              "5  1      3956369  292740     1       31       1         3      999992    \n",
              "6  1      2143852  310510     1       17       1         4      999992    \n",
              "7  1      3019063  313670     1       35       2         5      241005    \n",
              "8  1      2100754  314700     1       17       1         3      NA        \n",
              "9  1      2270021  330455     1       31       1         5      223115    \n",
              "10 1      2814188  330455     1       43       5         5      241005    \n",
              "   QTDFILVIVO QTDFILMORT ⋯ TPDOCRESP DTDECLARAC ESCMAEAGR1 STDNEPIDEM STDNNOVA\n",
              "1  02         00         ⋯ 3         18022018   05         0          1       \n",
              "2  00         00         ⋯ 5         11042018   08         0          1       \n",
              "3  01         NA         ⋯ 3         08012018   07         0          1       \n",
              "4  01         NA         ⋯ 3         06022018   12         0          1       \n",
              "5  02         00         ⋯ 3         17012018   11         0          1       \n",
              "6  00         00         ⋯ 3         20042018   05         0          1       \n",
              "7  00         00         ⋯ 3         02032018   08         0          1       \n",
              "8  00         00         ⋯ 0         02022018   03         0          1       \n",
              "9  00         00         ⋯ 4         19012018   08         0          1       \n",
              "10 00         00         ⋯ 5         10032018   08         0          1       \n",
              "   CODPAISRES TPROBSON PARIDADE KOTELCHUCK CONTADOR\n",
              "1  1          05       1        4          147442  \n",
              "2  1          06       0        5          178325  \n",
              "3  1          05       1        5          255500  \n",
              "4  1          04       1        2          476589  \n",
              "5  1          07       1        9          551906  \n",
              "6  1          01       0        5          589402  \n",
              "7  1          01       0        5          657667  \n",
              "8  1          10       0        3          679981  \n",
              "9  1          08       0        2          819542  \n",
              "10 1          02       0        5          832391  "
            ]
          },
          "metadata": {}
        }
      ]
    },
    {
      "cell_type": "code",
      "source": [
        "names(dados)"
      ],
      "metadata": {
        "colab": {
          "base_uri": "https://localhost:8080/",
          "height": 104
        },
        "id": "8sNdHs-HXpmy",
        "outputId": "ca8f9c68-0107-4a2a-9fef-4a0fd2837c5a"
      },
      "id": "8sNdHs-HXpmy",
      "execution_count": 147,
      "outputs": [
        {
          "output_type": "display_data",
          "data": {
            "text/html": [
              "<style>\n",
              ".list-inline {list-style: none; margin:0; padding: 0}\n",
              ".list-inline>li {display: inline-block}\n",
              ".list-inline>li:not(:last-child)::after {content: \"\\00b7\"; padding: 0 .5ex}\n",
              "</style>\n",
              "<ol class=list-inline><li>'ORIGEM'</li><li>'CODESTAB'</li><li>'CODMUNNASC'</li><li>'LOCNASC'</li><li>'IDADEMAE'</li><li>'ESTCIVMAE'</li><li>'ESCMAE'</li><li>'CODOCUPMAE'</li><li>'QTDFILVIVO'</li><li>'QTDFILMORT'</li><li>'CODMUNRES'</li><li>'GESTACAO'</li><li>'GRAVIDEZ'</li><li>'PARTO'</li><li>'CONSULTAS'</li><li>'DTNASC'</li><li>'HORANASC'</li><li>'SEXO'</li><li>'APGAR1'</li><li>'APGAR5'</li><li>'RACACOR'</li><li>'PESO'</li><li>'IDANOMAL'</li><li>'DTCADASTRO'</li><li>'CODANOMAL'</li><li>'NUMEROLOTE'</li><li>'VERSAOSIST'</li><li>'DTRECEBIM'</li><li>'DIFDATA'</li><li>'DTRECORIGA'</li><li>'NATURALMAE'</li><li>'CODMUNNATU'</li><li>'CODUFNATU'</li><li>'ESCMAE2010'</li><li>'SERIESCMAE'</li><li>'DTNASCMAE'</li><li>'RACACORMAE'</li><li>'QTDGESTANT'</li><li>'QTDPARTNOR'</li><li>'QTDPARTCES'</li><li>'IDADEPAI'</li><li>'DTULTMENST'</li><li>'SEMAGESTAC'</li><li>'TPMETESTIM'</li><li>'CONSPRENAT'</li><li>'MESPRENAT'</li><li>'TPAPRESENT'</li><li>'STTRABPART'</li><li>'STCESPARTO'</li><li>'TPNASCASSI'</li><li>'TPFUNCRESP'</li><li>'TPDOCRESP'</li><li>'DTDECLARAC'</li><li>'ESCMAEAGR1'</li><li>'STDNEPIDEM'</li><li>'STDNNOVA'</li><li>'CODPAISRES'</li><li>'TPROBSON'</li><li>'PARIDADE'</li><li>'KOTELCHUCK'</li><li>'CONTADOR'</li></ol>\n"
            ],
            "text/markdown": "1. 'ORIGEM'\n2. 'CODESTAB'\n3. 'CODMUNNASC'\n4. 'LOCNASC'\n5. 'IDADEMAE'\n6. 'ESTCIVMAE'\n7. 'ESCMAE'\n8. 'CODOCUPMAE'\n9. 'QTDFILVIVO'\n10. 'QTDFILMORT'\n11. 'CODMUNRES'\n12. 'GESTACAO'\n13. 'GRAVIDEZ'\n14. 'PARTO'\n15. 'CONSULTAS'\n16. 'DTNASC'\n17. 'HORANASC'\n18. 'SEXO'\n19. 'APGAR1'\n20. 'APGAR5'\n21. 'RACACOR'\n22. 'PESO'\n23. 'IDANOMAL'\n24. 'DTCADASTRO'\n25. 'CODANOMAL'\n26. 'NUMEROLOTE'\n27. 'VERSAOSIST'\n28. 'DTRECEBIM'\n29. 'DIFDATA'\n30. 'DTRECORIGA'\n31. 'NATURALMAE'\n32. 'CODMUNNATU'\n33. 'CODUFNATU'\n34. 'ESCMAE2010'\n35. 'SERIESCMAE'\n36. 'DTNASCMAE'\n37. 'RACACORMAE'\n38. 'QTDGESTANT'\n39. 'QTDPARTNOR'\n40. 'QTDPARTCES'\n41. 'IDADEPAI'\n42. 'DTULTMENST'\n43. 'SEMAGESTAC'\n44. 'TPMETESTIM'\n45. 'CONSPRENAT'\n46. 'MESPRENAT'\n47. 'TPAPRESENT'\n48. 'STTRABPART'\n49. 'STCESPARTO'\n50. 'TPNASCASSI'\n51. 'TPFUNCRESP'\n52. 'TPDOCRESP'\n53. 'DTDECLARAC'\n54. 'ESCMAEAGR1'\n55. 'STDNEPIDEM'\n56. 'STDNNOVA'\n57. 'CODPAISRES'\n58. 'TPROBSON'\n59. 'PARIDADE'\n60. 'KOTELCHUCK'\n61. 'CONTADOR'\n\n\n",
            "text/latex": "\\begin{enumerate*}\n\\item 'ORIGEM'\n\\item 'CODESTAB'\n\\item 'CODMUNNASC'\n\\item 'LOCNASC'\n\\item 'IDADEMAE'\n\\item 'ESTCIVMAE'\n\\item 'ESCMAE'\n\\item 'CODOCUPMAE'\n\\item 'QTDFILVIVO'\n\\item 'QTDFILMORT'\n\\item 'CODMUNRES'\n\\item 'GESTACAO'\n\\item 'GRAVIDEZ'\n\\item 'PARTO'\n\\item 'CONSULTAS'\n\\item 'DTNASC'\n\\item 'HORANASC'\n\\item 'SEXO'\n\\item 'APGAR1'\n\\item 'APGAR5'\n\\item 'RACACOR'\n\\item 'PESO'\n\\item 'IDANOMAL'\n\\item 'DTCADASTRO'\n\\item 'CODANOMAL'\n\\item 'NUMEROLOTE'\n\\item 'VERSAOSIST'\n\\item 'DTRECEBIM'\n\\item 'DIFDATA'\n\\item 'DTRECORIGA'\n\\item 'NATURALMAE'\n\\item 'CODMUNNATU'\n\\item 'CODUFNATU'\n\\item 'ESCMAE2010'\n\\item 'SERIESCMAE'\n\\item 'DTNASCMAE'\n\\item 'RACACORMAE'\n\\item 'QTDGESTANT'\n\\item 'QTDPARTNOR'\n\\item 'QTDPARTCES'\n\\item 'IDADEPAI'\n\\item 'DTULTMENST'\n\\item 'SEMAGESTAC'\n\\item 'TPMETESTIM'\n\\item 'CONSPRENAT'\n\\item 'MESPRENAT'\n\\item 'TPAPRESENT'\n\\item 'STTRABPART'\n\\item 'STCESPARTO'\n\\item 'TPNASCASSI'\n\\item 'TPFUNCRESP'\n\\item 'TPDOCRESP'\n\\item 'DTDECLARAC'\n\\item 'ESCMAEAGR1'\n\\item 'STDNEPIDEM'\n\\item 'STDNNOVA'\n\\item 'CODPAISRES'\n\\item 'TPROBSON'\n\\item 'PARIDADE'\n\\item 'KOTELCHUCK'\n\\item 'CONTADOR'\n\\end{enumerate*}\n",
            "text/plain": [
              " [1] \"ORIGEM\"     \"CODESTAB\"   \"CODMUNNASC\" \"LOCNASC\"    \"IDADEMAE\"  \n",
              " [6] \"ESTCIVMAE\"  \"ESCMAE\"     \"CODOCUPMAE\" \"QTDFILVIVO\" \"QTDFILMORT\"\n",
              "[11] \"CODMUNRES\"  \"GESTACAO\"   \"GRAVIDEZ\"   \"PARTO\"      \"CONSULTAS\" \n",
              "[16] \"DTNASC\"     \"HORANASC\"   \"SEXO\"       \"APGAR1\"     \"APGAR5\"    \n",
              "[21] \"RACACOR\"    \"PESO\"       \"IDANOMAL\"   \"DTCADASTRO\" \"CODANOMAL\" \n",
              "[26] \"NUMEROLOTE\" \"VERSAOSIST\" \"DTRECEBIM\"  \"DIFDATA\"    \"DTRECORIGA\"\n",
              "[31] \"NATURALMAE\" \"CODMUNNATU\" \"CODUFNATU\"  \"ESCMAE2010\" \"SERIESCMAE\"\n",
              "[36] \"DTNASCMAE\"  \"RACACORMAE\" \"QTDGESTANT\" \"QTDPARTNOR\" \"QTDPARTCES\"\n",
              "[41] \"IDADEPAI\"   \"DTULTMENST\" \"SEMAGESTAC\" \"TPMETESTIM\" \"CONSPRENAT\"\n",
              "[46] \"MESPRENAT\"  \"TPAPRESENT\" \"STTRABPART\" \"STCESPARTO\" \"TPNASCASSI\"\n",
              "[51] \"TPFUNCRESP\" \"TPDOCRESP\"  \"DTDECLARAC\" \"ESCMAEAGR1\" \"STDNEPIDEM\"\n",
              "[56] \"STDNNOVA\"   \"CODPAISRES\" \"TPROBSON\"   \"PARIDADE\"   \"KOTELCHUCK\"\n",
              "[61] \"CONTADOR\"  "
            ]
          },
          "metadata": {}
        }
      ]
    },
    {
      "cell_type": "markdown",
      "source": [
        "# Salvando os dados brutos"
      ],
      "metadata": {
        "id": "KBZ8aeJqvyag"
      },
      "id": "KBZ8aeJqvyag"
    },
    {
      "cell_type": "code",
      "source": [
        "# selecionando as variaveis de interesse e municipio : \n",
        "# filtro: Municipio de Residencia (CODMUNRES) == PORTO ALEGRE : 431490\n",
        "\n",
        "sinasc <- dados %>% filter( CODMUNNASC == \"431490\" & CODMUNRES ==\"431490\" ) %>% \n",
        "  select(\"CONTADOR\", \"DTNASC\", \"CODESTAB\", \"CODMUNNASC\", \"CODMUNRES\",\n",
        "         \"SEXO\", \"PESO\",  \"RACACOR\", \"SEMAGESTAC\",\"PARIDADE\",\n",
        "         \"PARTO\", \"TPAPRESENT\", \"APGAR1\",\n",
        "         \"IDADEMAE\", \"IDADEPAI\",\"ESTCIVMAE\", \"ESCMAE\", \"ESCMAE2010\", \"RACACORMAE\", \n",
        "         \"LOCNASC\",   \n",
        "         \"GESTACAO\", \"CONSULTAS\",\"CONSPRENAT\",   \"GRAVIDEZ\", \n",
        "         \"QTDGESTANT\", \"QTDPARTNOR\", \"QTDPARTCES\", \n",
        "         \"TPROBSON\",  \"KOTELCHUCK\" )\n",
        "\n",
        "\n"
      ],
      "metadata": {
        "id": "jORJruTwAuju"
      },
      "id": "jORJruTwAuju",
      "execution_count": 148,
      "outputs": []
    },
    {
      "cell_type": "code",
      "source": [
        "save(dados, file = \"dados_nasc_RS.RData\")\n",
        "write.table(dados, file = \"dados_RS_bruto.csv\", sep = \",\", na = \"\", quote = TRUE, row.names=FALSE )"
      ],
      "metadata": {
        "id": "Rg99gf0fYHxr"
      },
      "id": "Rg99gf0fYHxr",
      "execution_count": 149,
      "outputs": []
    },
    {
      "cell_type": "code",
      "source": [
        "##pre processamento\n",
        "sinasc <- process_sinasc(sinasc) #COM PRE PROCESSAMENTO OCORRE ADIÇaO DE VARIAVEIS\n"
      ],
      "metadata": {
        "id": "OfMs3n4CYgIW"
      },
      "id": "OfMs3n4CYgIW",
      "execution_count": 150,
      "outputs": []
    },
    {
      "cell_type": "code",
      "source": [
        "glimpse(sinasc) ###mostra parte do bd"
      ],
      "metadata": {
        "colab": {
          "base_uri": "https://localhost:8080/"
        },
        "id": "56tsd2B5YlTu",
        "outputId": "126c1c26-cf8e-463a-d392-cbd9988e8113"
      },
      "id": "56tsd2B5YlTu",
      "execution_count": 151,
      "outputs": [
        {
          "output_type": "stream",
          "name": "stdout",
          "text": [
            "Rows: 49,422\n",
            "Columns: 37\n",
            "$ CONTADOR     \u001b[3m\u001b[90m<chr>\u001b[39m\u001b[23m \"1323003\", \"1323004\", \"1323005\", \"1323006\", \"1323009\", \"1…\n",
            "$ DTNASC       \u001b[3m\u001b[90m<chr>\u001b[39m\u001b[23m \"2018-02-02\", \"2018-02-02\", \"2018-02-01\", \"2018-02-01\", \"…\n",
            "$ CODESTAB     \u001b[3m\u001b[90m<chr>\u001b[39m\u001b[23m \"2237822\", \"2237822\", \"2237822\", \"2237822\", \"2237822\", \"2…\n",
            "$ CODMUNNASC   \u001b[3m\u001b[90m<chr>\u001b[39m\u001b[23m \"431490\", \"431490\", \"431490\", \"431490\", \"431490\", \"431490…\n",
            "$ CODMUNRES    \u001b[3m\u001b[90m<chr>\u001b[39m\u001b[23m \"431490\", \"431490\", \"431490\", \"431490\", \"431490\", \"431490…\n",
            "$ SEXO         \u001b[3m\u001b[90m<chr>\u001b[39m\u001b[23m \"Masculino\", \"Feminino\", \"Feminino\", \"Feminino\", \"Masculi…\n",
            "$ PESO         \u001b[3m\u001b[90m<chr>\u001b[39m\u001b[23m \"2700\", \"3040\", \"2700\", \"4015\", \"2615\", \"2405\", \"3375\", \"…\n",
            "$ RACACOR      \u001b[3m\u001b[90m<chr>\u001b[39m\u001b[23m \"Parda\", \"Branca\", \"Amarela\", \"Branca\", \"Branca\", \"Branca…\n",
            "$ SEMAGESTAC   \u001b[3m\u001b[90m<chr>\u001b[39m\u001b[23m \"38\", \"40\", \"31\", \"43\", \"42\", \"38\", \"40\", \"37\", \"36\", \"39…\n",
            "$ PARIDADE     \u001b[3m\u001b[90m<chr>\u001b[39m\u001b[23m \"1\", \"2\", \"1\", \"2\", \"1\", \"1\", \"1\", \"1\", \"2\", \"1\", \"2\", \"1…\n",
            "$ PARTO        \u001b[3m\u001b[90m<chr>\u001b[39m\u001b[23m \"Vaginal\", \"Vaginal\", \"Vaginal\", \"Cesáreo\", \"Vaginal\", \"V…\n",
            "$ TPAPRESENT   \u001b[3m\u001b[90m<chr>\u001b[39m\u001b[23m \"1\", \"1\", \"1\", \"3\", \"1\", \"1\", \"1\", \"1\", \"1\", \"1\", \"1\", \"1…\n",
            "$ APGAR1       \u001b[3m\u001b[90m<chr>\u001b[39m\u001b[23m \"8\", \"9\", \"9\", \"8\", \"7\", \"4\", \"9\", \"8\", \"8\", \"9\", \"4\", \"8…\n",
            "$ IDADEMAE     \u001b[3m\u001b[90m<chr>\u001b[39m\u001b[23m \"29\", \"31\", \"19\", \"35\", \"18\", \"29\", \"24\", \"16\", \"26\", \"39…\n",
            "$ IDADEPAI     \u001b[3m\u001b[90m<chr>\u001b[39m\u001b[23m NA, NA, NA, NA, NA, NA, NA, NA, NA, NA, NA, \"42\", NA, NA,…\n",
            "$ ESTCIVMAE    \u001b[3m\u001b[90m<chr>\u001b[39m\u001b[23m \"Solteira\", \"Casada\", \"União consensual\", \"Solteira\", \"So…\n",
            "$ ESCMAE       \u001b[3m\u001b[90m<chr>\u001b[39m\u001b[23m \"8 a 11 anos\", \"4 a 7 anos\", \"12 anos ou mais\", \"8 a 11 a…\n",
            "$ ESCMAE2010   \u001b[3m\u001b[90m<chr>\u001b[39m\u001b[23m \"3\", \"2\", \"4\", \"3\", \"3\", NA, \"3\", \"2\", \"3\", \"5\", \"2\", \"4\"…\n",
            "$ RACACORMAE   \u001b[3m\u001b[90m<chr>\u001b[39m\u001b[23m \"Parda\", \"Branca\", \"Amarela\", \"Branca\", \"Branca\", \"Branca…\n",
            "$ LOCNASC      \u001b[3m\u001b[90m<chr>\u001b[39m\u001b[23m \"Hospital\", \"Hospital\", \"Hospital\", \"Hospital\", \"Hospital…\n",
            "$ GESTACAO     \u001b[3m\u001b[90m<chr>\u001b[39m\u001b[23m \"37 a 41 semanas\", \"37 a 41 semanas\", \"28 a 31 semanas\", …\n",
            "$ CONSULTAS    \u001b[3m\u001b[90m<chr>\u001b[39m\u001b[23m \"7 ou mais vezes\", \"7 ou mais vezes\", \"4 a 6 vezes\", \"7 o…\n",
            "$ CONSPRENAT   \u001b[3m\u001b[90m<chr>\u001b[39m\u001b[23m \"10\", \"15\", \"5\", \"14\", \"11\", \"1\", \"11\", \"5\", \"12\", \"11\", …\n",
            "$ GRAVIDEZ     \u001b[3m\u001b[90m<chr>\u001b[39m\u001b[23m \"única\", \"única\", \"única\", \"única\", \"única\", \"única\", \"ún…\n",
            "$ QTDGESTANT   \u001b[3m\u001b[90m<chr>\u001b[39m\u001b[23m \"1\", \"4\", \"1\", \"3\", \"1\", NA, \"1\", \"1\", \"3\", \"1\", \"3\", \"1\"…\n",
            "$ QTDPARTNOR   \u001b[3m\u001b[90m<chr>\u001b[39m\u001b[23m \"1\", \"1\", \"1\", \"2\", \"1\", NA, \"1\", \"1\", \"3\", \"1\", \"3\", \"1\"…\n",
            "$ QTDPARTCES   \u001b[3m\u001b[90m<chr>\u001b[39m\u001b[23m \"1\", \"2\", \"1\", \"2\", \"1\", NA, \"1\", \"1\", \"1\", \"1\", \"1\", \"1\"…\n",
            "$ TPROBSON     \u001b[3m\u001b[90m<chr>\u001b[39m\u001b[23m \"1\", \"5\", \"10\", \"9\", \"1\", \"1\", \"2\", \"1\", \"10\", \"2\", \"3\", …\n",
            "$ KOTELCHUCK   \u001b[3m\u001b[90m<chr>\u001b[39m\u001b[23m \"5\", \"5\", \"3\", \"5\", \"5\", \"1\", \"5\", \"2\", \"5\", \"5\", \"5\", \"5…\n",
            "$ munResStatus \u001b[3m\u001b[90m<chr>\u001b[39m\u001b[23m \"ATIVO\", \"ATIVO\", \"ATIVO\", \"ATIVO\", \"ATIVO\", \"ATIVO\", \"AT…\n",
            "$ munResTipo   \u001b[3m\u001b[90m<chr>\u001b[39m\u001b[23m \"MUNIC\", \"MUNIC\", \"MUNIC\", \"MUNIC\", \"MUNIC\", \"MUNIC\", \"MU…\n",
            "$ munResNome   \u001b[3m\u001b[90m<chr>\u001b[39m\u001b[23m \"Porto Alegre\", \"Porto Alegre\", \"Porto Alegre\", \"Porto Al…\n",
            "$ munResUf     \u001b[3m\u001b[90m<chr>\u001b[39m\u001b[23m \"Rio Grande do Sul\", \"Rio Grande do Sul\", \"Rio Grande do …\n",
            "$ munResLat    \u001b[3m\u001b[90m<chr>\u001b[39m\u001b[23m \"-30.03004\", \"-30.03004\", \"-30.03004\", \"-30.03004\", \"-30.…\n",
            "$ munResLon    \u001b[3m\u001b[90m<chr>\u001b[39m\u001b[23m \"-51.22866\", \"-51.22866\", \"-51.22866\", \"-51.22866\", \"-51.…\n",
            "$ munResAlt    \u001b[3m\u001b[90m<chr>\u001b[39m\u001b[23m \"42\", \"42\", \"42\", \"42\", \"42\", \"42\", \"42\", \"42\", \"42\", \"42…\n",
            "$ munResArea   \u001b[3m\u001b[90m<chr>\u001b[39m\u001b[23m \"496.682\", \"496.682\", \"496.682\", \"496.682\", \"496.682\", \"4…\n"
          ]
        }
      ]
    },
    {
      "cell_type": "code",
      "source": [
        "####resume todas as variaveis\n",
        "sumarioPOA <- skim(sinasc) #fornece descriçao do banco de dados - missings, taxa de completude, maiores valores\n",
        "#observe que todas as variaveis estao como factor. entao e necessario reclassificar\n"
      ],
      "metadata": {
        "id": "haAioTaYYvFJ"
      },
      "id": "haAioTaYYvFJ",
      "execution_count": 152,
      "outputs": []
    },
    {
      "cell_type": "code",
      "source": [
        "####\n",
        "## - RECLASSIFICAR AS VARIAVEIS\n",
        "####\n",
        "sinasc <- sinasc %>%\n",
        "  mutate(#categoricas\n",
        "    \n",
        "    ESTCIVMAE =  as.factor(ESTCIVMAE), \n",
        "    ESCMAE = as.factor(ESCMAE),\n",
        "    ESCMAE2010 = as.factor(ESCMAE2010),\n",
        "    GESTACAO = as.factor(GESTACAO),\n",
        "    GRAVIDEZ = as.factor(GRAVIDEZ),\n",
        "    PARTO = as.factor(PARTO),\n",
        "    RACACORMAE = as.factor(RACACORMAE), \n",
        "    RACACOR = as.factor(RACACOR),\n",
        "    SEXO =  as.factor(SEXO), \n",
        "    PARIDADE = as.factor(PARIDADE),\n",
        "    CONSULTAS = as.factor(CONSULTAS),#classe\n",
        "    \n",
        "    #númericas\n",
        "    IDADEMAE = as.character(IDADEMAE),\n",
        "    IDADEMAE = as.numeric(IDADEMAE),\n",
        "    IDADEPAI = as.character(IDADEPAI),\n",
        "    IDADEPAI = as.numeric(IDADEPAI),\n",
        "    CONSPRENAT = as.numeric(CONSPRENAT),#número\n",
        "    SEMAGESTAC = as.numeric(SEMAGESTAC),\n",
        "    QTDPARTCES = as.numeric(QTDPARTCES),\n",
        "    QTDGESTANT = as.numeric(QTDGESTANT),\n",
        "    QTDPARTNOR = as.numeric(QTDPARTNOR),\n",
        "    TPROBSON = as.numeric(TPROBSON),\n",
        "    KOTELCHUCK = as.numeric(KOTELCHUCK),\n",
        "    APGAR1 = as.numeric(KOTELCHUCK),\n",
        "    PESO = as.numeric(PESO))\n",
        "#%>% "
      ],
      "metadata": {
        "id": "8Jt5NJlYY5wG"
      },
      "id": "8Jt5NJlYY5wG",
      "execution_count": 153,
      "outputs": []
    },
    {
      "cell_type": "code",
      "source": [
        "levels(sinasc$LOCNASC)\n",
        "levels(sinasc$ESTCIVMAE)\n",
        "levels(sinasc$ESCMAE)\n",
        "levels(sinasc$GESTACAO)\n",
        "levels(sinasc$GRAVIDEZ)\n",
        "levels(sinasc$CONSULTAS)\n",
        "levels(sinasc$PARTO)\n",
        "levels(sinasc$RACACORMAE)\n",
        "levels(sinasc$SEXO)"
      ],
      "metadata": {
        "colab": {
          "base_uri": "https://localhost:8080/",
          "height": 173
        },
        "id": "FjU_ehy4ZFPL",
        "outputId": "6bcd539c-dd5d-43fb-f86c-b1b6a597e491"
      },
      "id": "FjU_ehy4ZFPL",
      "execution_count": 154,
      "outputs": [
        {
          "output_type": "display_data",
          "data": {
            "text/plain": [
              "NULL"
            ]
          },
          "metadata": {}
        },
        {
          "output_type": "display_data",
          "data": {
            "text/html": [
              "<style>\n",
              ".list-inline {list-style: none; margin:0; padding: 0}\n",
              ".list-inline>li {display: inline-block}\n",
              ".list-inline>li:not(:last-child)::after {content: \"\\00b7\"; padding: 0 .5ex}\n",
              "</style>\n",
              "<ol class=list-inline><li>'Casada'</li><li>'Separada judicialmente'</li><li>'Solteira'</li><li>'União consensual'</li><li>'Viúva'</li></ol>\n"
            ],
            "text/markdown": "1. 'Casada'\n2. 'Separada judicialmente'\n3. 'Solteira'\n4. 'União consensual'\n5. 'Viúva'\n\n\n",
            "text/latex": "\\begin{enumerate*}\n\\item 'Casada'\n\\item 'Separada judicialmente'\n\\item 'Solteira'\n\\item 'União consensual'\n\\item 'Viúva'\n\\end{enumerate*}\n",
            "text/plain": [
              "[1] \"Casada\"                 \"Separada judicialmente\" \"Solteira\"              \n",
              "[4] \"União consensual\"       \"Viúva\"                 "
            ]
          },
          "metadata": {}
        },
        {
          "output_type": "display_data",
          "data": {
            "text/html": [
              "<style>\n",
              ".list-inline {list-style: none; margin:0; padding: 0}\n",
              ".list-inline>li {display: inline-block}\n",
              ".list-inline>li:not(:last-child)::after {content: \"\\00b7\"; padding: 0 .5ex}\n",
              "</style>\n",
              "<ol class=list-inline><li>'1 a 3 anos'</li><li>'12 anos ou mais'</li><li>'4 a 7 anos'</li><li>'8 a 11 anos'</li><li>'Nenhum'</li></ol>\n"
            ],
            "text/markdown": "1. '1 a 3 anos'\n2. '12 anos ou mais'\n3. '4 a 7 anos'\n4. '8 a 11 anos'\n5. 'Nenhum'\n\n\n",
            "text/latex": "\\begin{enumerate*}\n\\item '1 a 3 anos'\n\\item '12 anos ou mais'\n\\item '4 a 7 anos'\n\\item '8 a 11 anos'\n\\item 'Nenhum'\n\\end{enumerate*}\n",
            "text/plain": [
              "[1] \"1 a 3 anos\"      \"12 anos ou mais\" \"4 a 7 anos\"      \"8 a 11 anos\"    \n",
              "[5] \"Nenhum\"         "
            ]
          },
          "metadata": {}
        },
        {
          "output_type": "display_data",
          "data": {
            "text/html": [
              "<style>\n",
              ".list-inline {list-style: none; margin:0; padding: 0}\n",
              ".list-inline>li {display: inline-block}\n",
              ".list-inline>li:not(:last-child)::after {content: \"\\00b7\"; padding: 0 .5ex}\n",
              "</style>\n",
              "<ol class=list-inline><li>'22 a 27 semanas'</li><li>'28 a 31 semanas'</li><li>'32 a 36 semanas'</li><li>'37 a 41 semanas'</li><li>'42 semanas ou mais'</li><li>'Menos de 22 semanas'</li></ol>\n"
            ],
            "text/markdown": "1. '22 a 27 semanas'\n2. '28 a 31 semanas'\n3. '32 a 36 semanas'\n4. '37 a 41 semanas'\n5. '42 semanas ou mais'\n6. 'Menos de 22 semanas'\n\n\n",
            "text/latex": "\\begin{enumerate*}\n\\item '22 a 27 semanas'\n\\item '28 a 31 semanas'\n\\item '32 a 36 semanas'\n\\item '37 a 41 semanas'\n\\item '42 semanas ou mais'\n\\item 'Menos de 22 semanas'\n\\end{enumerate*}\n",
            "text/plain": [
              "[1] \"22 a 27 semanas\"     \"28 a 31 semanas\"     \"32 a 36 semanas\"    \n",
              "[4] \"37 a 41 semanas\"     \"42 semanas ou mais\"  \"Menos de 22 semanas\""
            ]
          },
          "metadata": {}
        },
        {
          "output_type": "display_data",
          "data": {
            "text/html": [
              "<style>\n",
              ".list-inline {list-style: none; margin:0; padding: 0}\n",
              ".list-inline>li {display: inline-block}\n",
              ".list-inline>li:not(:last-child)::after {content: \"\\00b7\"; padding: 0 .5ex}\n",
              "</style>\n",
              "<ol class=list-inline><li>'Dupla'</li><li>'Tripla e mais'</li><li>'única'</li></ol>\n"
            ],
            "text/markdown": "1. 'Dupla'\n2. 'Tripla e mais'\n3. 'única'\n\n\n",
            "text/latex": "\\begin{enumerate*}\n\\item 'Dupla'\n\\item 'Tripla e mais'\n\\item 'única'\n\\end{enumerate*}\n",
            "text/plain": [
              "[1] \"Dupla\"         \"Tripla e mais\" \"única\"        "
            ]
          },
          "metadata": {}
        },
        {
          "output_type": "display_data",
          "data": {
            "text/html": [
              "<style>\n",
              ".list-inline {list-style: none; margin:0; padding: 0}\n",
              ".list-inline>li {display: inline-block}\n",
              ".list-inline>li:not(:last-child)::after {content: \"\\00b7\"; padding: 0 .5ex}\n",
              "</style>\n",
              "<ol class=list-inline><li>'1 a 3 vezes'</li><li>'4 a 6 vezes'</li><li>'7 ou mais vezes'</li><li>'Nenhuma'</li></ol>\n"
            ],
            "text/markdown": "1. '1 a 3 vezes'\n2. '4 a 6 vezes'\n3. '7 ou mais vezes'\n4. 'Nenhuma'\n\n\n",
            "text/latex": "\\begin{enumerate*}\n\\item '1 a 3 vezes'\n\\item '4 a 6 vezes'\n\\item '7 ou mais vezes'\n\\item 'Nenhuma'\n\\end{enumerate*}\n",
            "text/plain": [
              "[1] \"1 a 3 vezes\"     \"4 a 6 vezes\"     \"7 ou mais vezes\" \"Nenhuma\"        "
            ]
          },
          "metadata": {}
        },
        {
          "output_type": "display_data",
          "data": {
            "text/html": [
              "<style>\n",
              ".list-inline {list-style: none; margin:0; padding: 0}\n",
              ".list-inline>li {display: inline-block}\n",
              ".list-inline>li:not(:last-child)::after {content: \"\\00b7\"; padding: 0 .5ex}\n",
              "</style>\n",
              "<ol class=list-inline><li>'Cesáreo'</li><li>'Vaginal'</li></ol>\n"
            ],
            "text/markdown": "1. 'Cesáreo'\n2. 'Vaginal'\n\n\n",
            "text/latex": "\\begin{enumerate*}\n\\item 'Cesáreo'\n\\item 'Vaginal'\n\\end{enumerate*}\n",
            "text/plain": [
              "[1] \"Cesáreo\" \"Vaginal\""
            ]
          },
          "metadata": {}
        },
        {
          "output_type": "display_data",
          "data": {
            "text/html": [
              "<style>\n",
              ".list-inline {list-style: none; margin:0; padding: 0}\n",
              ".list-inline>li {display: inline-block}\n",
              ".list-inline>li:not(:last-child)::after {content: \"\\00b7\"; padding: 0 .5ex}\n",
              "</style>\n",
              "<ol class=list-inline><li>'Amarela'</li><li>'Branca'</li><li>'Indígena'</li><li>'Parda'</li><li>'Preta'</li></ol>\n"
            ],
            "text/markdown": "1. 'Amarela'\n2. 'Branca'\n3. 'Indígena'\n4. 'Parda'\n5. 'Preta'\n\n\n",
            "text/latex": "\\begin{enumerate*}\n\\item 'Amarela'\n\\item 'Branca'\n\\item 'Indígena'\n\\item 'Parda'\n\\item 'Preta'\n\\end{enumerate*}\n",
            "text/plain": [
              "[1] \"Amarela\"  \"Branca\"   \"Indígena\" \"Parda\"    \"Preta\"   "
            ]
          },
          "metadata": {}
        },
        {
          "output_type": "display_data",
          "data": {
            "text/html": [
              "<style>\n",
              ".list-inline {list-style: none; margin:0; padding: 0}\n",
              ".list-inline>li {display: inline-block}\n",
              ".list-inline>li:not(:last-child)::after {content: \"\\00b7\"; padding: 0 .5ex}\n",
              "</style>\n",
              "<ol class=list-inline><li>'Feminino'</li><li>'Masculino'</li></ol>\n"
            ],
            "text/markdown": "1. 'Feminino'\n2. 'Masculino'\n\n\n",
            "text/latex": "\\begin{enumerate*}\n\\item 'Feminino'\n\\item 'Masculino'\n\\end{enumerate*}\n",
            "text/plain": [
              "[1] \"Feminino\"  \"Masculino\""
            ]
          },
          "metadata": {}
        }
      ]
    },
    {
      "cell_type": "code",
      "source": [
        "summary(sinasc$PARTO)"
      ],
      "metadata": {
        "colab": {
          "base_uri": "https://localhost:8080/",
          "height": 34
        },
        "id": "r3umHN62ZLa9",
        "outputId": "43bca137-c680-4def-f445-3afe3d367478"
      },
      "id": "r3umHN62ZLa9",
      "execution_count": 155,
      "outputs": [
        {
          "output_type": "display_data",
          "data": {
            "text/html": [
              "<style>\n",
              ".dl-inline {width: auto; margin:0; padding: 0}\n",
              ".dl-inline>dt, .dl-inline>dd {float: none; width: auto; display: inline-block}\n",
              ".dl-inline>dt::after {content: \":\\0020\"; padding-right: .5ex}\n",
              ".dl-inline>dt:not(:first-of-type) {padding-left: .5ex}\n",
              "</style><dl class=dl-inline><dt>Cesáreo</dt><dd>24352</dd><dt>Vaginal</dt><dd>25070</dd></dl>\n"
            ],
            "text/markdown": "Cesáreo\n:   24352Vaginal\n:   25070\n\n",
            "text/latex": "\\begin{description*}\n\\item[Cesáreo] 24352\n\\item[Vaginal] 25070\n\\end{description*}\n",
            "text/plain": [
              "Cesáreo Vaginal \n",
              "  24352   25070 "
            ]
          },
          "metadata": {}
        }
      ]
    },
    {
      "cell_type": "code",
      "source": [
        "sinasc <- sinasc %>% ##deixou de funcionar - apresenta erro em cesaria\n",
        "    mutate(PARTO = factor(PARTO, levels  = c(\"Vaginal\", \"Cesáreo\",\"Ignorado\", \"Nao preenchido\"))) %>%\n",
        "  mutate(PARTO = replace_na(PARTO, \"Nao preenchido\"))\n",
        "table(sinasc$PARTO)\n"
      ],
      "metadata": {
        "colab": {
          "base_uri": "https://localhost:8080/",
          "height": 69
        },
        "id": "jJ-bOwoXZYym",
        "outputId": "4d79c6a5-74fd-44b1-b342-80b8f6726858"
      },
      "id": "jJ-bOwoXZYym",
      "execution_count": 156,
      "outputs": [
        {
          "output_type": "display_data",
          "data": {
            "text/plain": [
              "\n",
              "       Vaginal        Cesáreo       Ignorado Nao preenchido \n",
              "         25070          24352              0              0 "
            ]
          },
          "metadata": {}
        }
      ]
    },
    {
      "cell_type": "code",
      "source": [
        "sinasc <- sinasc %>%\n",
        "  mutate( \n",
        "    ESTCIVMAE =  recode(ESTCIVMAE,\n",
        "                        \"1\"= \"Solteira\",\n",
        "                        \"2\"= \"Casada\",\n",
        "                        \"3\"= \"Viúva\",\n",
        "                        \"4\"= \"Separada judicialmente/divorciada\",\n",
        "                        \"5\"= \"Uniao estavel\",\n",
        "                        \"9\"= \"Ignorado\"), \n",
        "    \n",
        "    GESTACAO = recode(GESTACAO,\n",
        "                      \"1\"= \"Menos de 22 semanas\",\n",
        "                      \"2\"= \"22 a 27 semanas\",\n",
        "                      \"3\"= \"28 a 31 semanas\",\n",
        "                      \"4\"= \"32 a 36 semanas\",\n",
        "                      \"5\"= \"37 a 41 semanas\",\n",
        "                      \"6\"= \"42 semanas e mais\",\n",
        "                      \"9\"= \"Ignorado\"),\n",
        "    GRAVIDEZ = recode(GRAVIDEZ,\n",
        "                      \"1\"= \"Unica\",\n",
        "                      \"2\"= \"Dupla\",\n",
        "                      \"3\"= \"Tripla ou mais\",\n",
        "                      \"9\"= \"Ignorado\"),\n",
        "    CONSULTAS = recode(CONSULTAS,\n",
        "                       \"1\"= \"Nenhuma\",\n",
        "                       \"2\"= \"de 1 a 3\",\n",
        "                       \"3\"= \"de 4 a 6\",\n",
        "                       \"4\"= \"7 e mais\",\n",
        "                       \"9\"= \"Ignorado\"),\n",
        "    RACACORMAE = recode(RACACORMAE,\n",
        "                        \"1\"= \"Branca\",\n",
        "                        \"2\"= \"Preta\",\n",
        "                        \"3\"= \"Amarela\",\n",
        "                        \"4\"= \"Parda\",\n",
        "                        \"5\"= \"Indigena\"),\n",
        "    SEXO =  recode(SEXO, \n",
        "                   \"0\"= \"Ignorado\",\n",
        "                   \"1\"= \"Feminino\",\n",
        "                   \"2\"= \"Masculino\"),\n",
        "    PARTO = recode(PARTO,\n",
        "     #             \"1\"= \"Vaginal\" ,\n",
        "          \"2\"= \"Cesareo\",\n",
        "                \"9\"= \"Ignorado\"),\n",
        "    \n",
        "    PARIDADE = recode(PARIDADE,\n",
        "                      \"1\" = \"Multipara\",\n",
        "                      \"2\" = \"Nulipara\"))\n"
      ],
      "metadata": {
        "id": "1u1U_ro_ZZ-a"
      },
      "id": "1u1U_ro_ZZ-a",
      "execution_count": 157,
      "outputs": []
    },
    {
      "cell_type": "markdown",
      "source": [],
      "metadata": {
        "id": "ZJ1S8z-fZneu"
      },
      "id": "ZJ1S8z-fZneu"
    },
    {
      "cell_type": "code",
      "source": [
        "#criando dummies\n",
        "####DUMMIES E VARIAVEIS DERIVADAS\n",
        "sinasc$sexo_d <- sinasc$SEXO\n",
        "# OBS 1: SEXO - 1 = Masculino ; 2 = Feminino\n",
        "sinasc[\"sexo_d\"][sinasc[\"sexo_d\"] == \"0\"] <- \"\" #ignorado fica em branco\n",
        "sinasc[\"sexo_d\"][sinasc[\"sexo_d\"] == \"2\"] <- \"0\" # 2 (fem) transf em 0 \n",
        "sinasc <- sinasc %>%\n",
        "  mutate(sexo_d = as.factor(sexo_d)) #as.factor e usado para categorias\n",
        "\n"
      ],
      "metadata": {
        "id": "B8xWGeInZnwp"
      },
      "id": "B8xWGeInZnwp",
      "execution_count": 158,
      "outputs": []
    },
    {
      "cell_type": "markdown",
      "source": [
        "Para realizar a junção do bd CNES com os dados do SINASC é necessário ter\n",
        "variaveis identificadoras para parsear os dados. As variaveis serão CODESTAB e datacompleta. Assim, é necessário criar uma variavel com ano-mês-dia igual nos dois bancos de dados"
      ],
      "metadata": {
        "id": "y9EYDuwbF9_E"
      },
      "id": "y9EYDuwbF9_E"
    },
    {
      "cell_type": "code",
      "source": [
        "###gerando artificialmente uma data \n",
        "sinasc$dia = \"31\"\n",
        "sinasc$dt_merge =\"31\"\n",
        "\n",
        "# Criar a variavel  Ano de nascimento \"Ano.nasc\", fazer tabela e grafico\n",
        "class(sinasc$DTNASC)\n",
        "sinasc <- sinasc %>% mutate(DTNASC = as.Date(DTNASC))\n",
        "sinasc$Ano.nasc <- year(sinasc$DTNASC)\n",
        "sinasc$mes.nasc <- month(sinasc$DTNASC)\n",
        "sinasc$Ano.nasc <- as.factor(sinasc$Ano.nasc)\n",
        "sinasc$mes.nasc <- as.factor(sinasc$mes.nasc)\n",
        "\n",
        "sinasc <- sinasc %>% mutate(DTNASC = as.Date(DTNASC))\n",
        "sinasc$ano <- year(sinasc$DTNASC)\n",
        "sinasc$mes <- month(sinasc$DTNASC)\n",
        "sinasc$ano <- as.factor(sinasc$Ano.nasc)\n",
        "sinasc$mes <- as.factor(sinasc$mes.nasc)\n",
        "sinasc$datacompleta <-  paste(sinasc$dia, sinasc$mes, sinasc$ano, sep = '-')\n",
        "\n"
      ],
      "metadata": {
        "id": "tDfUW0BHLaG1",
        "colab": {
          "base_uri": "https://localhost:8080/",
          "height": 34
        },
        "outputId": "d5bfaa8f-d9e6-44ee-fedc-dcf1736555bd"
      },
      "id": "tDfUW0BHLaG1",
      "execution_count": 159,
      "outputs": [
        {
          "output_type": "display_data",
          "data": {
            "text/html": [
              "'character'"
            ],
            "text/markdown": "'character'",
            "text/latex": "'character'",
            "text/plain": [
              "[1] \"character\""
            ]
          },
          "metadata": {}
        }
      ]
    },
    {
      "cell_type": "markdown",
      "source": [
        "No inicio do script selecionamos os dados do NV em Porto Alegre e com residência na mesma cidade. Assim, a variavel morafora apresenta só um valor. Entretanto, a variavel é útil quando são alterados os parametros selecionados."
      ],
      "metadata": {
        "id": "s_d3O6ilpq20"
      },
      "id": "s_d3O6ilpq20"
    },
    {
      "cell_type": "code",
      "source": [
        "\n",
        "###gerando local de residencia diferente do local de nascimento\n",
        "sinasc$morafora <- if_else(sinasc$munResNome == \"Porto Alegre\", \"NaO\" , \"sim\")\n",
        "table(sinasc$morafora)\n",
        "\n"
      ],
      "metadata": {
        "id": "0yijBmGH8DGC",
        "colab": {
          "base_uri": "https://localhost:8080/",
          "height": 69
        },
        "outputId": "6e7b1145-f3df-4185-878d-02a23a139c07"
      },
      "id": "0yijBmGH8DGC",
      "execution_count": 160,
      "outputs": [
        {
          "output_type": "display_data",
          "data": {
            "text/plain": [
              "\n",
              "  NaO \n",
              "49422 "
            ]
          },
          "metadata": {}
        }
      ]
    },
    {
      "cell_type": "code",
      "source": [
        "#PREPARO PARA dummies\n",
        "sinasc$LOCNASC_d <- sinasc$LOCNASC\n",
        "# para LOCNASC  ordem \"Hospital\", \"Domicilio\", \"Outros estabelecimentos de saúde\",\n",
        "# \"Outros\", \"Ignorado\n",
        "table(sinasc$LOCNASC)\n",
        "class(sinasc$LOCNASC)\n",
        "levels(sinasc$LOCNASC)\n",
        "sinasc <- sinasc  %>%    mutate(LOCNASC = as.factor(LOCNASC))\n"
      ],
      "metadata": {
        "colab": {
          "base_uri": "https://localhost:8080/",
          "height": 138
        },
        "id": "n4cruOx5amFY",
        "outputId": "6171b8d4-09b8-47b1-c519-f5e7b35a6586"
      },
      "id": "n4cruOx5amFY",
      "execution_count": 161,
      "outputs": [
        {
          "output_type": "display_data",
          "data": {
            "text/plain": [
              "\n",
              "                     Domicílio                       Hospital \n",
              "                           230                          49111 \n",
              "Outro estabelecimento de saúde                         Outros \n",
              "                             8                             72 "
            ]
          },
          "metadata": {}
        },
        {
          "output_type": "display_data",
          "data": {
            "text/html": [
              "'character'"
            ],
            "text/markdown": "'character'",
            "text/latex": "'character'",
            "text/plain": [
              "[1] \"character\""
            ]
          },
          "metadata": {}
        },
        {
          "output_type": "display_data",
          "data": {
            "text/plain": [
              "NULL"
            ]
          },
          "metadata": {}
        }
      ]
    },
    {
      "cell_type": "code",
      "source": [
        "sinasc <- sinasc %>%\n",
        "  mutate(IDADEMAE = as.character(IDADEMAE),\n",
        "         IDADEMAE = as.numeric(IDADEMAE))"
      ],
      "metadata": {
        "id": "MrFTvaUbaoC0"
      },
      "id": "MrFTvaUbaoC0",
      "execution_count": 162,
      "outputs": []
    },
    {
      "cell_type": "code",
      "source": [
        "skim(sinasc$IDADEMAE) #observe que ha uma observaçao sem dados"
      ],
      "metadata": {
        "colab": {
          "base_uri": "https://localhost:8080/"
        },
        "id": "w0BnYIfwatwF",
        "outputId": "d5813c4c-7da8-4aa2-ffbd-b63b03b5cf2b"
      },
      "id": "w0BnYIfwatwF",
      "execution_count": 163,
      "outputs": [
        {
          "output_type": "stream",
          "name": "stdout",
          "text": [
            "── Data Summary ────────────────────────\n",
            "                           Values         \n",
            "Name                       sinasc$IDADEMAE\n",
            "Number of rows             49422          \n",
            "Number of columns          1              \n",
            "_______________________                   \n",
            "Column type frequency:                    \n",
            "  numeric                  1              \n",
            "________________________                  \n",
            "Group variables            None           \n",
            "\n",
            "── Variable type: numeric ──────────────────────────────────────────────────────\n",
            "  skim_variable n_missing complete_rate mean   sd p0 p25 p50 p75 p100 hist \n",
            "\u001b[90m1\u001b[39m data                  1          1.00 28.8 6.93 12  23  29  34   56 ▃▇▇▂▁\n"
          ]
        }
      ]
    },
    {
      "cell_type": "code",
      "source": [
        "sinasc <- sinasc[!is.na(sinasc$IDADEMAE),] #retirando uma observaçao sem dados de idade\n"
      ],
      "metadata": {
        "id": "pS2U_lXNa0j_"
      },
      "id": "pS2U_lXNa0j_",
      "execution_count": 164,
      "outputs": []
    },
    {
      "cell_type": "code",
      "source": [
        "###substituindo missing no cod estabelecimento\n",
        "sinasc$CODESTAB <-coalesce(sinasc$CODESTAB, \"9999\") # <- \"ignorado\"\n",
        "\n"
      ],
      "metadata": {
        "id": "FYm7h9X4a5vn"
      },
      "id": "FYm7h9X4a5vn",
      "execution_count": 165,
      "outputs": []
    },
    {
      "cell_type": "code",
      "source": [
        "class(sinasc$CODESTAB)\n",
        "table(sinasc$CODESTAB)\n"
      ],
      "metadata": {
        "colab": {
          "base_uri": "https://localhost:8080/",
          "height": 121
        },
        "id": "ZkI6vBMobK7I",
        "outputId": "45f4552e-c3e9-4d4a-d581-bf0d5ff95d3f"
      },
      "id": "ZkI6vBMobK7I",
      "execution_count": 166,
      "outputs": [
        {
          "output_type": "display_data",
          "data": {
            "text/html": [
              "'character'"
            ],
            "text/markdown": "'character'",
            "text/latex": "'character'",
            "text/plain": [
              "[1] \"character\""
            ]
          },
          "metadata": {}
        },
        {
          "output_type": "display_data",
          "data": {
            "text/plain": [
              "\n",
              "0000296 2237148 2237253 2237288 2237571 2237598 2237601 2237822 2237849 2262568 \n",
              "     30       3    5955       1    8855    3909    6429    4446      11    4768 \n",
              "2264587 2265052 2693402 2693801 3006522 3007847 6537650 7114893 7513151    9999 \n",
              "      1    3982       2       3    6935    3775       1       1      12     302 "
            ]
          },
          "metadata": {}
        }
      ]
    },
    {
      "cell_type": "markdown",
      "source": [
        "# Tipos de Partos"
      ],
      "metadata": {
        "id": "Etvp02uizU9u"
      },
      "id": "Etvp02uizU9u"
    },
    {
      "cell_type": "markdown",
      "source": [
        "Aqui vemos que , em Porto Alegre, o número de partos vaginais é ligeiramente superior ao dos cesáreos. "
      ],
      "metadata": {
        "id": "LH1NFNZGy7uM"
      },
      "id": "LH1NFNZGy7uM"
    },
    {
      "cell_type": "markdown",
      "source": [],
      "metadata": {
        "id": "A5TvIuwmzaiG"
      },
      "id": "A5TvIuwmzaiG"
    },
    {
      "cell_type": "code",
      "source": [
        "table(sinasc$PARTO)"
      ],
      "metadata": {
        "colab": {
          "base_uri": "https://localhost:8080/",
          "height": 69
        },
        "id": "6vTkf-YAbLyQ",
        "outputId": "7fd6de27-038c-4612-9648-c7bba62af4f2"
      },
      "id": "6vTkf-YAbLyQ",
      "execution_count": 167,
      "outputs": [
        {
          "output_type": "display_data",
          "data": {
            "text/plain": [
              "\n",
              "       Vaginal        Cesáreo       Ignorado Nao preenchido \n",
              "         25069          24352              0              0 "
            ]
          },
          "metadata": {}
        }
      ]
    },
    {
      "cell_type": "code",
      "source": [
        "###sinasc$cesaria <- GERAR DUMMY\n",
        "sinasc$cesareo <- sinasc$PARTO\n",
        "sinasc[\"cesareo\"][sinasc[\"cesareo\"] == \"Cesario\"] <- \"0\" # 2 (cesario) transf em 1 \n"
      ],
      "metadata": {
        "id": "p9bJyhPsa5zG"
      },
      "id": "p9bJyhPsa5zG",
      "execution_count": 168,
      "outputs": []
    },
    {
      "cell_type": "code",
      "source": [
        "sinasc <- sinasc %>%\n",
        "  mutate(cesareo = as.factor(cesareo)) #as.factor e usado para categorias"
      ],
      "metadata": {
        "id": "EqLO7G1Xbjhp"
      },
      "id": "EqLO7G1Xbjhp",
      "execution_count": 169,
      "outputs": []
    },
    {
      "cell_type": "code",
      "source": [
        "table(sinasc$cesareo)\n",
        "skim(sinasc$cesareo)\n"
      ],
      "metadata": {
        "colab": {
          "base_uri": "https://localhost:8080/",
          "height": 347
        },
        "id": "fG98vN3Qb450",
        "outputId": "87e186e1-063c-4eb1-ace2-8447894bb05b"
      },
      "id": "fG98vN3Qb450",
      "execution_count": 170,
      "outputs": [
        {
          "output_type": "display_data",
          "data": {
            "text/plain": [
              "\n",
              "       Vaginal        Cesáreo       Ignorado Nao preenchido \n",
              "         25069          24352              0              0 "
            ]
          },
          "metadata": {}
        },
        {
          "output_type": "stream",
          "name": "stdout",
          "text": [
            "── Data Summary ────────────────────────\n",
            "                           Values        \n",
            "Name                       sinasc$cesareo\n",
            "Number of rows             49421         \n",
            "Number of columns          1             \n",
            "_______________________                  \n",
            "Column type frequency:                   \n",
            "  factor                   1             \n",
            "________________________                 \n",
            "Group variables            None          \n",
            "\n",
            "── Variable type: factor ───────────────────────────────────────────────────────\n",
            "  skim_variable n_missing complete_rate ordered n_unique\n",
            "\u001b[90m1\u001b[39m data                  0             1 FALSE          2\n",
            "  top_counts                            \n",
            "\u001b[90m1\u001b[39m Vag: 25069, Ces: 24352, Ign: 0, Nao: 0\n"
          ]
        }
      ]
    },
    {
      "cell_type": "markdown",
      "source": [],
      "metadata": {
        "id": "gm3pBWAKb9Ss"
      },
      "id": "gm3pBWAKb9Ss"
    },
    {
      "cell_type": "code",
      "source": [
        "sinasc$idade_cat <- cut(sinasc$IDADEMAE,  # CRIANDO FAIXA ETARIA\n",
        "                        breaks = c(10, 20, 35, 45, Inf), right = FALSE,\n",
        "                        labels = c(\"10 a 19 anos\", \"20 a 34 anos\", \"35 a 44 anos\", \"45 anos ou mais\"))\n"
      ],
      "metadata": {
        "id": "NxtTJ1SHb9lA"
      },
      "id": "NxtTJ1SHb9lA",
      "execution_count": 171,
      "outputs": []
    },
    {
      "cell_type": "code",
      "source": [
        "table(sinasc$idade_cat)"
      ],
      "metadata": {
        "colab": {
          "base_uri": "https://localhost:8080/",
          "height": 69
        },
        "id": "SVOI_0TazjCf",
        "outputId": "da8fd1eb-8de2-4a34-bc94-d186dd895bf8"
      },
      "id": "SVOI_0TazjCf",
      "execution_count": 195,
      "outputs": [
        {
          "output_type": "display_data",
          "data": {
            "text/plain": [
              "\n",
              "   10 a 19 anos    20 a 34 anos    35 a 44 anos 45 anos ou mais \n",
              "           4818           32356           12093             154 "
            ]
          },
          "metadata": {}
        }
      ]
    },
    {
      "cell_type": "code",
      "source": [
        "sinasc$LOCNASC <- factor(sinasc$LOCNASC)\n"
      ],
      "metadata": {
        "id": "-nbxd8iBcDer"
      },
      "id": "-nbxd8iBcDer",
      "execution_count": 172,
      "outputs": []
    },
    {
      "cell_type": "code",
      "source": [
        "sinasc <- sinasc %>% mutate(RACACORMAE = factor(RACACORMAE, \n",
        "                                                levels = c(\"Branca\", \"Preta\",\n",
        "                                                           \"Amarela\", \"Parda\",\n",
        "                                                           \"Indigena\", \"Outras\")))\n",
        "\n",
        "# Colocar Branco, Amarela ou Indigena na categoria (nao-preta 0) e Preta e Parda na categoria Preta (1)\n"
      ],
      "metadata": {
        "id": "39xyHuc8cHtu"
      },
      "id": "39xyHuc8cHtu",
      "execution_count": 173,
      "outputs": []
    },
    {
      "cell_type": "code",
      "source": [
        "sinasc$RACACORMAE_d <- sinasc$RACACORMAE\n",
        "sinasc <- sinasc %>% \n",
        "  mutate(RACACORMAE_d = recode(RACACORMAE_d      ,\n",
        "                               \"Preta\"= \"1\"     ,\n",
        "                               \"Parda\" = \"1\"    ,\n",
        "                               \"Branca\" = \"0\"   ,\n",
        "                               \"Amarela\" = \"0\"  ,\n",
        "                               \"Indigena\" = \"0\" ,\n",
        "                               \"Outras\" = \"0\"\n",
        "  ))\n"
      ],
      "metadata": {
        "id": "U_bY90wAcPF2"
      },
      "id": "U_bY90wAcPF2",
      "execution_count": 174,
      "outputs": []
    },
    {
      "cell_type": "code",
      "source": [
        "sinasc <- sinasc %>%\n",
        "  mutate(RACACORMAE_d = as.factor(RACACORMAE_d)) \n",
        "class(sinasc$RACACORMAE_d) #fornece o tipo da variavel\n"
      ],
      "metadata": {
        "colab": {
          "base_uri": "https://localhost:8080/",
          "height": 34
        },
        "id": "8B8elfL7cVlB",
        "outputId": "2e6defa0-0fae-4afe-a7aa-8498cbb0514b"
      },
      "id": "8B8elfL7cVlB",
      "execution_count": 175,
      "outputs": [
        {
          "output_type": "display_data",
          "data": {
            "text/html": [
              "'factor'"
            ],
            "text/markdown": "'factor'",
            "text/latex": "'factor'",
            "text/plain": [
              "[1] \"factor\""
            ]
          },
          "metadata": {}
        }
      ]
    },
    {
      "cell_type": "code",
      "source": [
        "sinasc <- sinasc  %>% mutate(ESCMAE2010 =  factor(ESCMAE2010, \n",
        "                                                  levels = c(\"0\",\"1\",\"2\", \"3\", \"4\",\"5\" ,\"9\"), \n",
        "                                                  labels = c(\"Nenhuma\",\"Fundamental I\",\n",
        "                                                             \"Fundamental II\", \"Ensino medio\",\"Superior incompleto\", \n",
        "                                                             \"Superior completo\", \"Ignorado\")))\n"
      ],
      "metadata": {
        "id": "8mJvNC1qcdmx"
      },
      "id": "8mJvNC1qcdmx",
      "execution_count": 176,
      "outputs": []
    },
    {
      "cell_type": "code",
      "source": [
        "sinasc <- sinasc %>%\n",
        "  mutate(CODESTAB = as.factor(CODESTAB))\n"
      ],
      "metadata": {
        "id": "8sANY-cochtR"
      },
      "id": "8sANY-cochtR",
      "execution_count": 177,
      "outputs": []
    },
    {
      "cell_type": "code",
      "source": [
        "sinasc$Hospital.nasc <- sinasc %>%\n",
        "  mutate(Hospital.nasc = ifelse(LOCNASC == \"Hospital\", \"Sim\", \"Nao\")) %>%\n",
        "  mutate( Hospital.nasc = factor(Hospital.nasc, levels = c(\"Sim\", \"Nao\")) )\n",
        "\n"
      ],
      "metadata": {
        "id": "LOrun5xscnpU"
      },
      "id": "LOrun5xscnpU",
      "execution_count": 178,
      "outputs": []
    },
    {
      "cell_type": "code",
      "source": [
        "sinasc$peso_cat <-  cut(sinasc$PESO,  # CRIANDO categorias de peso\n",
        "                        breaks = c(0, 2500, 3000, 4000, Inf), right = FALSE,\n",
        "                        labels = c(\"Menos de 2500 g\", \"2500 g a 2999 g\",\n",
        "                                   \"3000 g a 3999 g\", \"4000 g ou mais\"))\n"
      ],
      "metadata": {
        "id": "OvMUlFabcvMP"
      },
      "id": "OvMUlFabcvMP",
      "execution_count": 179,
      "outputs": []
    },
    {
      "cell_type": "code",
      "source": [
        "sinasc$Qpeso <- cut(sinasc$PESO, breaks = c(0, 1000, 1500, 2500, Inf),\n",
        "                    labels = c(\"extremo\", \"muito baixo\", \"baixo peso\", \"normal\"),\n",
        "                    include.lowest = T, right = T)\n",
        "#  PESO > 1500 & peso <= 2500\n",
        "#extr_bx_peso <- PESO <= 1000\n"
      ],
      "metadata": {
        "id": "IetCUVGFc1Ax"
      },
      "id": "IetCUVGFc1Ax",
      "execution_count": 180,
      "outputs": []
    },
    {
      "cell_type": "code",
      "source": [
        "class(sinasc$Qpeso)\n",
        "summary(sinasc$Qpeso)\n"
      ],
      "metadata": {
        "colab": {
          "base_uri": "https://localhost:8080/",
          "height": 52
        },
        "id": "vQLbBovLc7O1",
        "outputId": "b8e31d01-466a-47ad-faaf-9ecc2c8f9517"
      },
      "id": "vQLbBovLc7O1",
      "execution_count": 181,
      "outputs": [
        {
          "output_type": "display_data",
          "data": {
            "text/html": [
              "'factor'"
            ],
            "text/markdown": "'factor'",
            "text/latex": "'factor'",
            "text/plain": [
              "[1] \"factor\""
            ]
          },
          "metadata": {}
        },
        {
          "output_type": "display_data",
          "data": {
            "text/html": [
              "<style>\n",
              ".dl-inline {width: auto; margin:0; padding: 0}\n",
              ".dl-inline>dt, .dl-inline>dd {float: none; width: auto; display: inline-block}\n",
              ".dl-inline>dt::after {content: \":\\0020\"; padding-right: .5ex}\n",
              ".dl-inline>dt:not(:first-of-type) {padding-left: .5ex}\n",
              "</style><dl class=dl-inline><dt>extremo</dt><dd>310</dd><dt>muito baixo</dt><dd>484</dd><dt>baixo peso</dt><dd>3968</dd><dt>normal</dt><dd>44659</dd></dl>\n"
            ],
            "text/markdown": "extremo\n:   310muito baixo\n:   484baixo peso\n:   3968normal\n:   44659\n\n",
            "text/latex": "\\begin{description*}\n\\item[extremo] 310\n\\item[muito baixo] 484\n\\item[baixo peso] 3968\n\\item[normal] 44659\n\\end{description*}\n",
            "text/plain": [
              "    extremo muito baixo  baixo peso      normal \n",
              "        310         484        3968       44659 "
            ]
          },
          "metadata": {}
        }
      ]
    },
    {
      "cell_type": "code",
      "source": [
        "####VARIAVEL DE INTERESSE:::: dummy de baixo peso\n",
        "sinasc$bp <- cut(sinasc$PESO, breaks = c(0, 2500, Inf),\n",
        "                 labels = c(\"baixo peso\", \"normal\"),\n",
        "                 include.lowest = T, right = T)\n",
        "\n"
      ],
      "metadata": {
        "id": "mOlBrzukdDjE"
      },
      "id": "mOlBrzukdDjE",
      "execution_count": 192,
      "outputs": []
    },
    {
      "cell_type": "code",
      "source": [
        "table(sinasc$bp)"
      ],
      "metadata": {
        "colab": {
          "base_uri": "https://localhost:8080/",
          "height": 69
        },
        "id": "PHbyopdkyYD0",
        "outputId": "de07b567-7005-48eb-b4f0-f9f975f9c035"
      },
      "id": "PHbyopdkyYD0",
      "execution_count": 193,
      "outputs": [
        {
          "output_type": "display_data",
          "data": {
            "text/plain": [
              "\n",
              "baixo peso     normal \n",
              "      4762      44659 "
            ]
          },
          "metadata": {}
        }
      ]
    },
    {
      "cell_type": "code",
      "source": [
        "sinasc <- sinasc %>%\n",
        "  mutate(bp = recode(bp,\n",
        "                     \"baixo peso\" = \"1\",\n",
        "                     \"normal\" = \"0\" ))"
      ],
      "metadata": {
        "id": "nj1q6wzIymYI"
      },
      "id": "nj1q6wzIymYI",
      "execution_count": 194,
      "outputs": []
    },
    {
      "cell_type": "code",
      "source": [
        "sinasc %>%  group_by(PARTO) %>%\n",
        "  summarise(Media = mean(IDADEMAE) ,\n",
        "            DP = sd(IDADEMAE), # desvio-padrao\n",
        "            Mediana = median(IDADEMAE),\n",
        "            Q1 = quantile(IDADEMAE, prob = 0.25),\n",
        "            Q4 = quantile(IDADEMAE, prob = 0.90),\n",
        "            n = n()\n",
        "  )"
      ],
      "metadata": {
        "colab": {
          "base_uri": "https://localhost:8080/",
          "height": 161
        },
        "id": "yEhhR1uN01u7",
        "outputId": "dad96877-88e2-433a-8299-0635719b1b0a"
      },
      "id": "yEhhR1uN01u7",
      "execution_count": 202,
      "outputs": [
        {
          "output_type": "display_data",
          "data": {
            "text/html": [
              "<table class=\"dataframe\">\n",
              "<caption>A tibble: 2 × 7</caption>\n",
              "<thead>\n",
              "\t<tr><th scope=col>PARTO</th><th scope=col>Media</th><th scope=col>DP</th><th scope=col>Mediana</th><th scope=col>Q1</th><th scope=col>Q4</th><th scope=col>n</th></tr>\n",
              "\t<tr><th scope=col>&lt;fct&gt;</th><th scope=col>&lt;dbl&gt;</th><th scope=col>&lt;dbl&gt;</th><th scope=col>&lt;dbl&gt;</th><th scope=col>&lt;dbl&gt;</th><th scope=col>&lt;dbl&gt;</th><th scope=col>&lt;int&gt;</th></tr>\n",
              "</thead>\n",
              "<tbody>\n",
              "\t<tr><td>Vaginal</td><td>26.82456</td><td>6.659462</td><td>26</td><td>21</td><td>36</td><td>25069</td></tr>\n",
              "\t<tr><td>Cesáreo</td><td>30.92649</td><td>6.576922</td><td>32</td><td>26</td><td>39</td><td>24352</td></tr>\n",
              "</tbody>\n",
              "</table>\n"
            ],
            "text/markdown": "\nA tibble: 2 × 7\n\n| PARTO &lt;fct&gt; | Media &lt;dbl&gt; | DP &lt;dbl&gt; | Mediana &lt;dbl&gt; | Q1 &lt;dbl&gt; | Q4 &lt;dbl&gt; | n &lt;int&gt; |\n|---|---|---|---|---|---|---|\n| Vaginal | 26.82456 | 6.659462 | 26 | 21 | 36 | 25069 |\n| Cesáreo | 30.92649 | 6.576922 | 32 | 26 | 39 | 24352 |\n\n",
            "text/latex": "A tibble: 2 × 7\n\\begin{tabular}{lllllll}\n PARTO & Media & DP & Mediana & Q1 & Q4 & n\\\\\n <fct> & <dbl> & <dbl> & <dbl> & <dbl> & <dbl> & <int>\\\\\n\\hline\n\t Vaginal & 26.82456 & 6.659462 & 26 & 21 & 36 & 25069\\\\\n\t Cesáreo & 30.92649 & 6.576922 & 32 & 26 & 39 & 24352\\\\\n\\end{tabular}\n",
            "text/plain": [
              "  PARTO   Media    DP       Mediana Q1 Q4 n    \n",
              "1 Vaginal 26.82456 6.659462 26      21 36 25069\n",
              "2 Cesáreo 30.92649 6.576922 32      26 39 24352"
            ]
          },
          "metadata": {}
        }
      ]
    },
    {
      "cell_type": "code",
      "source": [
        "#contando observa por municipio  e mes\n",
        "NV <- sinasc %>% \n",
        "  group_by(`CODESTAB`, ano) %>% \n",
        "  arrange(\"CODESTAB\",\"mes\",\"ano\")%>%\n",
        "  summarise(nascidos = n())\n",
        "\n",
        "\n",
        "##tabela 2: Número de Nascidos por Hospital , 2018-2020\n",
        "nv_por_hospital <- NV %>%\n",
        "  pivot_wider(\n",
        "    names_from = ano, # para criar as colunas, use a descrição que encontrar em 'ano'\n",
        "    values_from = nascidos ) #coloque a var\n",
        "\n",
        "\n",
        "\n",
        "\n"
      ],
      "metadata": {
        "colab": {
          "base_uri": "https://localhost:8080/"
        },
        "id": "qySNFjkN1oat",
        "outputId": "0397c3a2-8b78-4cd5-980a-e573cc0135a7"
      },
      "id": "qySNFjkN1oat",
      "execution_count": 207,
      "outputs": [
        {
          "output_type": "stream",
          "name": "stderr",
          "text": [
            "\u001b[1m\u001b[22m`summarise()` has grouped output by 'CODESTAB'. You can override using the\n",
            "`.groups` argument.\n"
          ]
        }
      ]
    },
    {
      "cell_type": "markdown",
      "source": [
        "# Tabela 2: Nascidos Vivos por estabelecimentos, Porto Alegre, 2018-2020"
      ],
      "metadata": {
        "id": "7KFEF6Zl31DP"
      },
      "id": "7KFEF6Zl31DP"
    },
    {
      "cell_type": "code",
      "source": [
        "nv_por_hospital"
      ],
      "metadata": {
        "colab": {
          "base_uri": "https://localhost:8080/",
          "height": 725
        },
        "id": "RIC_VDCP3UJc",
        "outputId": "82b86e7e-c9a2-49df-e12a-61aea5494b00"
      },
      "id": "RIC_VDCP3UJc",
      "execution_count": 209,
      "outputs": [
        {
          "output_type": "display_data",
          "data": {
            "text/html": [
              "<table class=\"dataframe\">\n",
              "<caption>A grouped_df: 20 × 4</caption>\n",
              "<thead>\n",
              "\t<tr><th scope=col>CODESTAB</th><th scope=col>2018</th><th scope=col>2019</th><th scope=col>2020</th></tr>\n",
              "\t<tr><th scope=col>&lt;fct&gt;</th><th scope=col>&lt;int&gt;</th><th scope=col>&lt;int&gt;</th><th scope=col>&lt;int&gt;</th></tr>\n",
              "</thead>\n",
              "<tbody>\n",
              "\t<tr><td>0000296</td><td>  30</td><td>  NA</td><td>  NA</td></tr>\n",
              "\t<tr><td>2237148</td><td>  NA</td><td>   1</td><td>   2</td></tr>\n",
              "\t<tr><td>2237253</td><td>2195</td><td>1996</td><td>1764</td></tr>\n",
              "\t<tr><td>2237288</td><td>   1</td><td>  NA</td><td>  NA</td></tr>\n",
              "\t<tr><td>2237571</td><td>2996</td><td>3002</td><td>2857</td></tr>\n",
              "\t<tr><td>2237598</td><td>1303</td><td>1243</td><td>1363</td></tr>\n",
              "\t<tr><td>2237601</td><td>2334</td><td>2043</td><td>2052</td></tr>\n",
              "\t<tr><td>2237822</td><td>1462</td><td>1291</td><td>1693</td></tr>\n",
              "\t<tr><td>2237849</td><td>   5</td><td>   6</td><td>  NA</td></tr>\n",
              "\t<tr><td>2262568</td><td>2035</td><td>1887</td><td> 846</td></tr>\n",
              "\t<tr><td>2264587</td><td>  NA</td><td>   1</td><td>  NA</td></tr>\n",
              "\t<tr><td>2265052</td><td>1062</td><td>1130</td><td>1790</td></tr>\n",
              "\t<tr><td>2693402</td><td>   1</td><td>   1</td><td>  NA</td></tr>\n",
              "\t<tr><td>2693801</td><td>   1</td><td>   1</td><td>   1</td></tr>\n",
              "\t<tr><td>3006522</td><td>2537</td><td>2270</td><td>2128</td></tr>\n",
              "\t<tr><td>3007847</td><td>1351</td><td>1457</td><td> 967</td></tr>\n",
              "\t<tr><td>6537650</td><td>  NA</td><td>  NA</td><td>   1</td></tr>\n",
              "\t<tr><td>7114893</td><td>  NA</td><td>  NA</td><td>   1</td></tr>\n",
              "\t<tr><td>7513151</td><td>   7</td><td>   4</td><td>   1</td></tr>\n",
              "\t<tr><td>9999   </td><td> 118</td><td>  90</td><td>  94</td></tr>\n",
              "</tbody>\n",
              "</table>\n"
            ],
            "text/markdown": "\nA grouped_df: 20 × 4\n\n| CODESTAB &lt;fct&gt; | 2018 &lt;int&gt; | 2019 &lt;int&gt; | 2020 &lt;int&gt; |\n|---|---|---|---|\n| 0000296 |   30 |   NA |   NA |\n| 2237148 |   NA |    1 |    2 |\n| 2237253 | 2195 | 1996 | 1764 |\n| 2237288 |    1 |   NA |   NA |\n| 2237571 | 2996 | 3002 | 2857 |\n| 2237598 | 1303 | 1243 | 1363 |\n| 2237601 | 2334 | 2043 | 2052 |\n| 2237822 | 1462 | 1291 | 1693 |\n| 2237849 |    5 |    6 |   NA |\n| 2262568 | 2035 | 1887 |  846 |\n| 2264587 |   NA |    1 |   NA |\n| 2265052 | 1062 | 1130 | 1790 |\n| 2693402 |    1 |    1 |   NA |\n| 2693801 |    1 |    1 |    1 |\n| 3006522 | 2537 | 2270 | 2128 |\n| 3007847 | 1351 | 1457 |  967 |\n| 6537650 |   NA |   NA |    1 |\n| 7114893 |   NA |   NA |    1 |\n| 7513151 |    7 |    4 |    1 |\n| 9999    |  118 |   90 |   94 |\n\n",
            "text/latex": "A grouped\\_df: 20 × 4\n\\begin{tabular}{llll}\n CODESTAB & 2018 & 2019 & 2020\\\\\n <fct> & <int> & <int> & <int>\\\\\n\\hline\n\t 0000296 &   30 &   NA &   NA\\\\\n\t 2237148 &   NA &    1 &    2\\\\\n\t 2237253 & 2195 & 1996 & 1764\\\\\n\t 2237288 &    1 &   NA &   NA\\\\\n\t 2237571 & 2996 & 3002 & 2857\\\\\n\t 2237598 & 1303 & 1243 & 1363\\\\\n\t 2237601 & 2334 & 2043 & 2052\\\\\n\t 2237822 & 1462 & 1291 & 1693\\\\\n\t 2237849 &    5 &    6 &   NA\\\\\n\t 2262568 & 2035 & 1887 &  846\\\\\n\t 2264587 &   NA &    1 &   NA\\\\\n\t 2265052 & 1062 & 1130 & 1790\\\\\n\t 2693402 &    1 &    1 &   NA\\\\\n\t 2693801 &    1 &    1 &    1\\\\\n\t 3006522 & 2537 & 2270 & 2128\\\\\n\t 3007847 & 1351 & 1457 &  967\\\\\n\t 6537650 &   NA &   NA &    1\\\\\n\t 7114893 &   NA &   NA &    1\\\\\n\t 7513151 &    7 &    4 &    1\\\\\n\t 9999    &  118 &   90 &   94\\\\\n\\end{tabular}\n",
            "text/plain": [
              "   CODESTAB 2018 2019 2020\n",
              "1  0000296    30   NA   NA\n",
              "2  2237148    NA    1    2\n",
              "3  2237253  2195 1996 1764\n",
              "4  2237288     1   NA   NA\n",
              "5  2237571  2996 3002 2857\n",
              "6  2237598  1303 1243 1363\n",
              "7  2237601  2334 2043 2052\n",
              "8  2237822  1462 1291 1693\n",
              "9  2237849     5    6   NA\n",
              "10 2262568  2035 1887  846\n",
              "11 2264587    NA    1   NA\n",
              "12 2265052  1062 1130 1790\n",
              "13 2693402     1    1   NA\n",
              "14 2693801     1    1    1\n",
              "15 3006522  2537 2270 2128\n",
              "16 3007847  1351 1457  967\n",
              "17 6537650    NA   NA    1\n",
              "18 7114893    NA   NA    1\n",
              "19 7513151     7    4    1\n",
              "20 9999      118   90   94"
            ]
          },
          "metadata": {}
        }
      ]
    },
    {
      "cell_type": "markdown",
      "source": [
        "# Salvando o banco de dados"
      ],
      "metadata": {
        "id": "QkQezaTBGUXX"
      },
      "id": "QkQezaTBGUXX"
    },
    {
      "cell_type": "code",
      "source": [
        "library(skimr)\n"
      ],
      "metadata": {
        "id": "YIpFwazcyFOq"
      },
      "id": "YIpFwazcyFOq",
      "execution_count": 190,
      "outputs": []
    },
    {
      "cell_type": "code",
      "source": [
        "str(sinasc)"
      ],
      "metadata": {
        "colab": {
          "base_uri": "https://localhost:8080/"
        },
        "id": "QO1uNX9aI9Fr",
        "outputId": "d0d632ef-d083-4b44-f21b-bd7f7ff33e14"
      },
      "id": "QO1uNX9aI9Fr",
      "execution_count": 210,
      "outputs": [
        {
          "output_type": "stream",
          "name": "stdout",
          "text": [
            "'data.frame':\t49421 obs. of  54 variables:\n",
            " $ CONTADOR     : chr  \"1323003\" \"1323004\" \"1323005\" \"1323006\" ...\n",
            " $ DTNASC       : Date, format: \"2018-02-02\" \"2018-02-02\" ...\n",
            " $ CODESTAB     : Factor w/ 20 levels \"0000296\",\"2237148\",..: 8 8 8 8 8 8 8 8 8 15 ...\n",
            " $ CODMUNNASC   : chr  \"431490\" \"431490\" \"431490\" \"431490\" ...\n",
            " $ CODMUNRES    : chr  \"431490\" \"431490\" \"431490\" \"431490\" ...\n",
            " $ SEXO         : Factor w/ 2 levels \"Feminino\",\"Masculino\": 2 1 1 1 2 2 1 1 1 1 ...\n",
            " $ PESO         : num  2700 3040 2700 4015 2615 ...\n",
            " $ RACACOR      : Factor w/ 5 levels \"Amarela\",\"Branca\",..: 4 2 1 2 2 2 2 5 2 2 ...\n",
            " $ SEMAGESTAC   : num  38 40 31 43 42 38 40 37 36 39 ...\n",
            " $ PARIDADE     : Factor w/ 2 levels \"Multipara\",\"Nulipara\": 1 2 1 2 1 1 1 1 2 1 ...\n",
            " $ PARTO        : Factor w/ 4 levels \"Vaginal\",\"Cesáreo\",..: 1 1 1 2 1 1 1 1 2 2 ...\n",
            " $ TPAPRESENT   : chr  \"1\" \"1\" \"1\" \"3\" ...\n",
            " $ APGAR1       : num  5 5 3 5 5 1 5 2 5 5 ...\n",
            " $ IDADEMAE     : num  29 31 19 35 18 29 24 16 26 39 ...\n",
            " $ IDADEPAI     : num  NA NA NA NA NA NA NA NA NA NA ...\n",
            " $ ESTCIVMAE    : Factor w/ 5 levels \"Casada\",\"Separada judicialmente\",..: 3 1 4 3 3 NA 1 3 1 4 ...\n",
            " $ ESCMAE       : Factor w/ 5 levels \"1 a 3 anos\",\"12 anos ou mais\",..: 4 3 2 4 4 NA 4 3 4 2 ...\n",
            " $ ESCMAE2010   : Factor w/ 7 levels \"Nenhuma\",\"Fundamental I\",..: 4 3 5 4 4 NA 4 3 4 6 ...\n",
            " $ RACACORMAE   : Factor w/ 6 levels \"Branca\",\"Preta\",..: 4 1 3 1 1 1 1 2 1 1 ...\n",
            " $ LOCNASC      : Factor w/ 4 levels \"Domicílio\",\"Hospital\",..: 2 2 2 2 2 2 2 2 2 2 ...\n",
            " $ GESTACAO     : Factor w/ 6 levels \"22 a 27 semanas\",..: 4 4 2 5 5 4 4 4 3 4 ...\n",
            " $ CONSULTAS    : Factor w/ 4 levels \"1 a 3 vezes\",..: 3 3 2 3 3 4 3 2 3 3 ...\n",
            " $ CONSPRENAT   : num  10 15 5 14 11 1 11 5 12 11 ...\n",
            " $ GRAVIDEZ     : Factor w/ 3 levels \"Dupla\",\"Tripla e mais\",..: 3 3 3 3 3 3 3 3 3 3 ...\n",
            " $ QTDGESTANT   : num  1 4 1 3 1 NA 1 1 3 1 ...\n",
            " $ QTDPARTNOR   : num  1 1 1 2 1 NA 1 1 3 1 ...\n",
            " $ QTDPARTCES   : num  1 2 1 2 1 NA 1 1 1 1 ...\n",
            " $ TPROBSON     : num  1 5 10 9 1 1 2 1 10 2 ...\n",
            " $ KOTELCHUCK   : num  5 5 3 5 5 1 5 2 5 5 ...\n",
            " $ munResStatus : chr  \"ATIVO\" \"ATIVO\" \"ATIVO\" \"ATIVO\" ...\n",
            " $ munResTipo   : chr  \"MUNIC\" \"MUNIC\" \"MUNIC\" \"MUNIC\" ...\n",
            " $ munResNome   : chr  \"Porto Alegre\" \"Porto Alegre\" \"Porto Alegre\" \"Porto Alegre\" ...\n",
            " $ munResUf     : chr  \"Rio Grande do Sul\" \"Rio Grande do Sul\" \"Rio Grande do Sul\" \"Rio Grande do Sul\" ...\n",
            " $ munResLat    : chr  \"-30.03004\" \"-30.03004\" \"-30.03004\" \"-30.03004\" ...\n",
            " $ munResLon    : chr  \"-51.22866\" \"-51.22866\" \"-51.22866\" \"-51.22866\" ...\n",
            " $ munResAlt    : chr  \"42\" \"42\" \"42\" \"42\" ...\n",
            " $ munResArea   : chr  \"496.682\" \"496.682\" \"496.682\" \"496.682\" ...\n",
            " $ sexo_d       : Factor w/ 2 levels \"Feminino\",\"Masculino\": 2 1 1 1 2 2 1 1 1 1 ...\n",
            " $ dia          : chr  \"31\" \"31\" \"31\" \"31\" ...\n",
            " $ dt_merge     : chr  \"31\" \"31\" \"31\" \"31\" ...\n",
            " $ Ano.nasc     : Factor w/ 3 levels \"2018\",\"2019\",..: 1 1 1 1 1 1 1 1 1 1 ...\n",
            " $ mes.nasc     : Factor w/ 12 levels \"1\",\"2\",\"3\",\"4\",..: 2 2 2 2 1 2 3 3 4 3 ...\n",
            " $ ano          : Factor w/ 3 levels \"2018\",\"2019\",..: 1 1 1 1 1 1 1 1 1 1 ...\n",
            " $ mes          : Factor w/ 12 levels \"1\",\"2\",\"3\",\"4\",..: 2 2 2 2 1 2 3 3 4 3 ...\n",
            " $ datacompleta : chr  \"31-2-2018\" \"31-2-2018\" \"31-2-2018\" \"31-2-2018\" ...\n",
            " $ morafora     : chr  \"NaO\" \"NaO\" \"NaO\" \"NaO\" ...\n",
            " $ LOCNASC_d    : chr  \"Hospital\" \"Hospital\" \"Hospital\" \"Hospital\" ...\n",
            " $ cesareo      : Factor w/ 4 levels \"Vaginal\",\"Cesáreo\",..: 1 1 1 2 1 1 1 1 2 2 ...\n",
            " $ idade_cat    : Factor w/ 4 levels \"10 a 19 anos\",..: 2 2 1 3 1 2 2 1 2 3 ...\n",
            " $ RACACORMAE_d : Factor w/ 2 levels \"0\",\"1\": 2 1 1 1 1 1 1 2 1 1 ...\n",
            " $ Hospital.nasc:'data.frame':\t49421 obs. of  51 variables:\n",
            "  ..$ CONTADOR     : chr  \"1323003\" \"1323004\" \"1323005\" \"1323006\" ...\n",
            "  ..$ DTNASC       : Date, format: \"2018-02-02\" \"2018-02-02\" ...\n",
            "  ..$ CODESTAB     : Factor w/ 20 levels \"0000296\",\"2237148\",..: 8 8 8 8 8 8 8 8 8 15 ...\n",
            "  ..$ CODMUNNASC   : chr  \"431490\" \"431490\" \"431490\" \"431490\" ...\n",
            "  ..$ CODMUNRES    : chr  \"431490\" \"431490\" \"431490\" \"431490\" ...\n",
            "  ..$ SEXO         : Factor w/ 2 levels \"Feminino\",\"Masculino\": 2 1 1 1 2 2 1 1 1 1 ...\n",
            "  ..$ PESO         : num  2700 3040 2700 4015 2615 ...\n",
            "  ..$ RACACOR      : Factor w/ 5 levels \"Amarela\",\"Branca\",..: 4 2 1 2 2 2 2 5 2 2 ...\n",
            "  ..$ SEMAGESTAC   : num  38 40 31 43 42 38 40 37 36 39 ...\n",
            "  ..$ PARIDADE     : Factor w/ 2 levels \"Multipara\",\"Nulipara\": 1 2 1 2 1 1 1 1 2 1 ...\n",
            "  ..$ PARTO        : Factor w/ 4 levels \"Vaginal\",\"Cesáreo\",..: 1 1 1 2 1 1 1 1 2 2 ...\n",
            "  ..$ TPAPRESENT   : chr  \"1\" \"1\" \"1\" \"3\" ...\n",
            "  ..$ APGAR1       : num  5 5 3 5 5 1 5 2 5 5 ...\n",
            "  ..$ IDADEMAE     : num  29 31 19 35 18 29 24 16 26 39 ...\n",
            "  ..$ IDADEPAI     : num  NA NA NA NA NA NA NA NA NA NA ...\n",
            "  ..$ ESTCIVMAE    : Factor w/ 5 levels \"Casada\",\"Separada judicialmente\",..: 3 1 4 3 3 NA 1 3 1 4 ...\n",
            "  ..$ ESCMAE       : Factor w/ 5 levels \"1 a 3 anos\",\"12 anos ou mais\",..: 4 3 2 4 4 NA 4 3 4 2 ...\n",
            "  ..$ ESCMAE2010   : Factor w/ 7 levels \"Nenhuma\",\"Fundamental I\",..: 4 3 5 4 4 NA 4 3 4 6 ...\n",
            "  ..$ RACACORMAE   : Factor w/ 6 levels \"Branca\",\"Preta\",..: 4 1 3 1 1 1 1 2 1 1 ...\n",
            "  ..$ LOCNASC      : Factor w/ 4 levels \"Domicílio\",\"Hospital\",..: 2 2 2 2 2 2 2 2 2 2 ...\n",
            "  ..$ GESTACAO     : Factor w/ 6 levels \"22 a 27 semanas\",..: 4 4 2 5 5 4 4 4 3 4 ...\n",
            "  ..$ CONSULTAS    : Factor w/ 4 levels \"1 a 3 vezes\",..: 3 3 2 3 3 4 3 2 3 3 ...\n",
            "  ..$ CONSPRENAT   : num  10 15 5 14 11 1 11 5 12 11 ...\n",
            "  ..$ GRAVIDEZ     : Factor w/ 3 levels \"Dupla\",\"Tripla e mais\",..: 3 3 3 3 3 3 3 3 3 3 ...\n",
            "  ..$ QTDGESTANT   : num  1 4 1 3 1 NA 1 1 3 1 ...\n",
            "  ..$ QTDPARTNOR   : num  1 1 1 2 1 NA 1 1 3 1 ...\n",
            "  ..$ QTDPARTCES   : num  1 2 1 2 1 NA 1 1 1 1 ...\n",
            "  ..$ TPROBSON     : num  1 5 10 9 1 1 2 1 10 2 ...\n",
            "  ..$ KOTELCHUCK   : num  5 5 3 5 5 1 5 2 5 5 ...\n",
            "  ..$ munResStatus : chr  \"ATIVO\" \"ATIVO\" \"ATIVO\" \"ATIVO\" ...\n",
            "  ..$ munResTipo   : chr  \"MUNIC\" \"MUNIC\" \"MUNIC\" \"MUNIC\" ...\n",
            "  ..$ munResNome   : chr  \"Porto Alegre\" \"Porto Alegre\" \"Porto Alegre\" \"Porto Alegre\" ...\n",
            "  ..$ munResUf     : chr  \"Rio Grande do Sul\" \"Rio Grande do Sul\" \"Rio Grande do Sul\" \"Rio Grande do Sul\" ...\n",
            "  ..$ munResLat    : chr  \"-30.03004\" \"-30.03004\" \"-30.03004\" \"-30.03004\" ...\n",
            "  ..$ munResLon    : chr  \"-51.22866\" \"-51.22866\" \"-51.22866\" \"-51.22866\" ...\n",
            "  ..$ munResAlt    : chr  \"42\" \"42\" \"42\" \"42\" ...\n",
            "  ..$ munResArea   : chr  \"496.682\" \"496.682\" \"496.682\" \"496.682\" ...\n",
            "  ..$ sexo_d       : Factor w/ 2 levels \"Feminino\",\"Masculino\": 2 1 1 1 2 2 1 1 1 1 ...\n",
            "  ..$ dia          : chr  \"31\" \"31\" \"31\" \"31\" ...\n",
            "  ..$ dt_merge     : chr  \"31\" \"31\" \"31\" \"31\" ...\n",
            "  ..$ Ano.nasc     : Factor w/ 3 levels \"2018\",\"2019\",..: 1 1 1 1 1 1 1 1 1 1 ...\n",
            "  ..$ mes.nasc     : Factor w/ 12 levels \"1\",\"2\",\"3\",\"4\",..: 2 2 2 2 1 2 3 3 4 3 ...\n",
            "  ..$ ano          : Factor w/ 3 levels \"2018\",\"2019\",..: 1 1 1 1 1 1 1 1 1 1 ...\n",
            "  ..$ mes          : Factor w/ 12 levels \"1\",\"2\",\"3\",\"4\",..: 2 2 2 2 1 2 3 3 4 3 ...\n",
            "  ..$ datacompleta : chr  \"31-2-2018\" \"31-2-2018\" \"31-2-2018\" \"31-2-2018\" ...\n",
            "  ..$ morafora     : chr  \"NaO\" \"NaO\" \"NaO\" \"NaO\" ...\n",
            "  ..$ LOCNASC_d    : chr  \"Hospital\" \"Hospital\" \"Hospital\" \"Hospital\" ...\n",
            "  ..$ cesareo      : Factor w/ 4 levels \"Vaginal\",\"Cesáreo\",..: 1 1 1 2 1 1 1 1 2 2 ...\n",
            "  ..$ idade_cat    : Factor w/ 4 levels \"10 a 19 anos\",..: 2 2 1 3 1 2 2 1 2 3 ...\n",
            "  ..$ RACACORMAE_d : Factor w/ 2 levels \"0\",\"1\": 2 1 1 1 1 1 1 2 1 1 ...\n",
            "  ..$ Hospital.nasc: Factor w/ 2 levels \"Sim\",\"Nao\": 1 1 1 1 1 1 1 1 1 1 ...\n",
            " $ peso_cat     : Factor w/ 4 levels \"Menos de 2500 g\",..: 2 3 2 4 2 1 3 2 2 3 ...\n",
            " $ Qpeso        : Factor w/ 4 levels \"extremo\",\"muito baixo\",..: 4 4 4 4 4 3 4 4 4 4 ...\n",
            " $ bp           : Factor w/ 2 levels \"1\",\"0\": 2 2 2 2 2 1 2 2 2 2 ...\n"
          ]
        }
      ]
    },
    {
      "cell_type": "markdown",
      "source": [
        "Escolha o formato mais adequado para salvar os seus dados. Os formatos txt e csv são os mais utilizados em ciências de dados. "
      ],
      "metadata": {
        "id": "be3pOU7bGajN"
      },
      "id": "be3pOU7bGajN"
    },
    {
      "cell_type": "code",
      "source": [
        "save(sinasc, file = \"dados_nasc_POA_bruto.RData\")\n",
        "####################\n",
        "write.csv(sinasc,\"dados_POA.csv\")\n"
      ],
      "metadata": {
        "id": "MIiCI65Zdb2q"
      },
      "id": "MIiCI65Zdb2q",
      "execution_count": 184,
      "outputs": []
    },
    {
      "cell_type": "markdown",
      "source": [
        "**PARABÉNS!!!** VOCÊ ACABOU DE CONCLUIR O SEU BANCO DE DADOS COM INFORMAÇÕES DOS HOSPITAIS DE PORTO ALEGRE"
      ],
      "metadata": {
        "id": "uD0itRK1ySp8"
      },
      "id": "uD0itRK1ySp8"
    }
  ],
  "metadata": {
    "celltoolbar": "Edit Metadata",
    "jupytext": {
      "formats": "ipynb,Rmd"
    },
    "kernelspec": {
      "display_name": "R",
      "language": "R",
      "name": "ir"
    },
    "language_info": {
      "codemirror_mode": "r",
      "file_extension": ".r",
      "mimetype": "text/x-r-source",
      "name": "R",
      "pygments_lexer": "r",
      "version": "4.0.5"
    },
    "substitutions": {
      "ISLPmod": "`ISLP`",
      "Rlang": "`R`",
      "mpl": "`matplotlib`",
      "numpy": "`numpy`",
      "pandas": "`pandas`",
      "pylang": "`python`",
      "smlib": "`statsmodels`"
    },
    "colab": {
      "provenance": [],
      "collapsed_sections": [],
      "include_colab_link": true
    }
  },
  "nbformat": 4,
  "nbformat_minor": 5
}